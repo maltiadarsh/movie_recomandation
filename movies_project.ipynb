{
 "cells": [
  {
   "cell_type": "code",
   "execution_count": 1,
   "metadata": {},
   "outputs": [
    {
     "name": "stderr",
     "output_type": "stream",
     "text": [
      "C:\\Users\\ASUS\\AppData\\Local\\Temp\\ipykernel_27952\\4018586642.py:1: DeprecationWarning: \n",
      "Pyarrow will become a required dependency of pandas in the next major release of pandas (pandas 3.0),\n",
      "(to allow more performant data types, such as the Arrow string type, and better interoperability with other libraries)\n",
      "but was not found to be installed on your system.\n",
      "If this would cause problems for you,\n",
      "please provide us feedback at https://github.com/pandas-dev/pandas/issues/54466\n",
      "        \n",
      "  import pandas as pd\n"
     ]
    }
   ],
   "source": [
    "import pandas as pd \n",
    "import numpy as np"
   ]
  },
  {
   "cell_type": "code",
   "execution_count": 2,
   "metadata": {},
   "outputs": [],
   "source": [
    "df=pd.read_csv(r'E:\\project\\movies\\Movies Recommendation.csv')"
   ]
  },
  {
   "cell_type": "code",
   "execution_count": 3,
   "metadata": {},
   "outputs": [
    {
     "data": {
      "text/html": [
       "<div>\n",
       "<style scoped>\n",
       "    .dataframe tbody tr th:only-of-type {\n",
       "        vertical-align: middle;\n",
       "    }\n",
       "\n",
       "    .dataframe tbody tr th {\n",
       "        vertical-align: top;\n",
       "    }\n",
       "\n",
       "    .dataframe thead th {\n",
       "        text-align: right;\n",
       "    }\n",
       "</style>\n",
       "<table border=\"1\" class=\"dataframe\">\n",
       "  <thead>\n",
       "    <tr style=\"text-align: right;\">\n",
       "      <th></th>\n",
       "      <th>Movie_ID</th>\n",
       "      <th>Movie_Title</th>\n",
       "      <th>Movie_Genre</th>\n",
       "      <th>Movie_Language</th>\n",
       "      <th>Movie_Budget</th>\n",
       "      <th>Movie_Popularity</th>\n",
       "      <th>Movie_Release_Date</th>\n",
       "      <th>Movie_Revenue</th>\n",
       "      <th>Movie_Runtime</th>\n",
       "      <th>Movie_Vote</th>\n",
       "      <th>...</th>\n",
       "      <th>Movie_Homepage</th>\n",
       "      <th>Movie_Keywords</th>\n",
       "      <th>Movie_Overview</th>\n",
       "      <th>Movie_Production_House</th>\n",
       "      <th>Movie_Production_Country</th>\n",
       "      <th>Movie_Spoken_Language</th>\n",
       "      <th>Movie_Tagline</th>\n",
       "      <th>Movie_Cast</th>\n",
       "      <th>Movie_Crew</th>\n",
       "      <th>Movie_Director</th>\n",
       "    </tr>\n",
       "  </thead>\n",
       "  <tbody>\n",
       "    <tr>\n",
       "      <th>0</th>\n",
       "      <td>1</td>\n",
       "      <td>Four Rooms</td>\n",
       "      <td>Crime Comedy</td>\n",
       "      <td>en</td>\n",
       "      <td>4000000</td>\n",
       "      <td>22.876230</td>\n",
       "      <td>09-12-1995</td>\n",
       "      <td>4300000</td>\n",
       "      <td>98.0</td>\n",
       "      <td>6.5</td>\n",
       "      <td>...</td>\n",
       "      <td>NaN</td>\n",
       "      <td>hotel new year's eve witch bet hotel room</td>\n",
       "      <td>It's Ted the Bellhop's first night on the job....</td>\n",
       "      <td>[{\"name\": \"Miramax Films\", \"id\": 14}, {\"name\":...</td>\n",
       "      <td>[{\"iso_3166_1\": \"US\", \"name\": \"United States o...</td>\n",
       "      <td>[{\"iso_639_1\": \"en\", \"name\": \"English\"}]</td>\n",
       "      <td>Twelve outrageous guests. Four scandalous requ...</td>\n",
       "      <td>Tim Roth Antonio Banderas Jennifer Beals Madon...</td>\n",
       "      <td>[{'name': 'Allison Anders', 'gender': 1, 'depa...</td>\n",
       "      <td>Allison Anders</td>\n",
       "    </tr>\n",
       "    <tr>\n",
       "      <th>1</th>\n",
       "      <td>2</td>\n",
       "      <td>Star Wars</td>\n",
       "      <td>Adventure Action Science Fiction</td>\n",
       "      <td>en</td>\n",
       "      <td>11000000</td>\n",
       "      <td>126.393695</td>\n",
       "      <td>25-05-1977</td>\n",
       "      <td>775398007</td>\n",
       "      <td>121.0</td>\n",
       "      <td>8.1</td>\n",
       "      <td>...</td>\n",
       "      <td>http://www.starwars.com/films/star-wars-episod...</td>\n",
       "      <td>android galaxy hermit death star lightsaber</td>\n",
       "      <td>Princess Leia is captured and held hostage by ...</td>\n",
       "      <td>[{\"name\": \"Lucasfilm\", \"id\": 1}, {\"name\": \"Twe...</td>\n",
       "      <td>[{\"iso_3166_1\": \"US\", \"name\": \"United States o...</td>\n",
       "      <td>[{\"iso_639_1\": \"en\", \"name\": \"English\"}]</td>\n",
       "      <td>A long time ago in a galaxy far, far away...</td>\n",
       "      <td>Mark Hamill Harrison Ford Carrie Fisher Peter ...</td>\n",
       "      <td>[{'name': 'George Lucas', 'gender': 2, 'depart...</td>\n",
       "      <td>George Lucas</td>\n",
       "    </tr>\n",
       "    <tr>\n",
       "      <th>2</th>\n",
       "      <td>3</td>\n",
       "      <td>Finding Nemo</td>\n",
       "      <td>Animation Family</td>\n",
       "      <td>en</td>\n",
       "      <td>94000000</td>\n",
       "      <td>85.688789</td>\n",
       "      <td>30-05-2003</td>\n",
       "      <td>940335536</td>\n",
       "      <td>100.0</td>\n",
       "      <td>7.6</td>\n",
       "      <td>...</td>\n",
       "      <td>http://movies.disney.com/finding-nemo</td>\n",
       "      <td>father son relationship harbor underwater fish...</td>\n",
       "      <td>Nemo, an adventurous young clownfish, is unexp...</td>\n",
       "      <td>[{\"name\": \"Pixar Animation Studios\", \"id\": 3}]</td>\n",
       "      <td>[{\"iso_3166_1\": \"US\", \"name\": \"United States o...</td>\n",
       "      <td>[{\"iso_639_1\": \"en\", \"name\": \"English\"}]</td>\n",
       "      <td>There are 3.7 trillion fish in the ocean, they...</td>\n",
       "      <td>Albert Brooks Ellen DeGeneres Alexander Gould ...</td>\n",
       "      <td>[{'name': 'Andrew Stanton', 'gender': 2, 'depa...</td>\n",
       "      <td>Andrew Stanton</td>\n",
       "    </tr>\n",
       "    <tr>\n",
       "      <th>3</th>\n",
       "      <td>4</td>\n",
       "      <td>Forrest Gump</td>\n",
       "      <td>Comedy Drama Romance</td>\n",
       "      <td>en</td>\n",
       "      <td>55000000</td>\n",
       "      <td>138.133331</td>\n",
       "      <td>06-07-1994</td>\n",
       "      <td>677945399</td>\n",
       "      <td>142.0</td>\n",
       "      <td>8.2</td>\n",
       "      <td>...</td>\n",
       "      <td>NaN</td>\n",
       "      <td>vietnam veteran hippie mentally disabled runni...</td>\n",
       "      <td>A man with a low IQ has accomplished great thi...</td>\n",
       "      <td>[{\"name\": \"Paramount Pictures\", \"id\": 4}]</td>\n",
       "      <td>[{\"iso_3166_1\": \"US\", \"name\": \"United States o...</td>\n",
       "      <td>[{\"iso_639_1\": \"en\", \"name\": \"English\"}]</td>\n",
       "      <td>The world will never be the same, once you've ...</td>\n",
       "      <td>Tom Hanks Robin Wright Gary Sinise Mykelti Wil...</td>\n",
       "      <td>[{'name': 'Alan Silvestri', 'gender': 2, 'depa...</td>\n",
       "      <td>Robert Zemeckis</td>\n",
       "    </tr>\n",
       "    <tr>\n",
       "      <th>4</th>\n",
       "      <td>5</td>\n",
       "      <td>American Beauty</td>\n",
       "      <td>Drama</td>\n",
       "      <td>en</td>\n",
       "      <td>15000000</td>\n",
       "      <td>80.878605</td>\n",
       "      <td>15-09-1999</td>\n",
       "      <td>356296601</td>\n",
       "      <td>122.0</td>\n",
       "      <td>7.9</td>\n",
       "      <td>...</td>\n",
       "      <td>http://www.dreamworks.com/ab/</td>\n",
       "      <td>male nudity female nudity adultery midlife cri...</td>\n",
       "      <td>Lester Burnham, a depressed suburban father in...</td>\n",
       "      <td>[{\"name\": \"DreamWorks SKG\", \"id\": 27}, {\"name\"...</td>\n",
       "      <td>[{\"iso_3166_1\": \"US\", \"name\": \"United States o...</td>\n",
       "      <td>[{\"iso_639_1\": \"en\", \"name\": \"English\"}]</td>\n",
       "      <td>Look closer.</td>\n",
       "      <td>Kevin Spacey Annette Bening Thora Birch Wes Be...</td>\n",
       "      <td>[{'name': 'Thomas Newman', 'gender': 2, 'depar...</td>\n",
       "      <td>Sam Mendes</td>\n",
       "    </tr>\n",
       "  </tbody>\n",
       "</table>\n",
       "<p>5 rows × 21 columns</p>\n",
       "</div>"
      ],
      "text/plain": [
       "   Movie_ID      Movie_Title                       Movie_Genre Movie_Language  \\\n",
       "0         1       Four Rooms                      Crime Comedy             en   \n",
       "1         2        Star Wars  Adventure Action Science Fiction             en   \n",
       "2         3     Finding Nemo                  Animation Family             en   \n",
       "3         4     Forrest Gump              Comedy Drama Romance             en   \n",
       "4         5  American Beauty                             Drama             en   \n",
       "\n",
       "   Movie_Budget  Movie_Popularity Movie_Release_Date  Movie_Revenue  \\\n",
       "0       4000000         22.876230         09-12-1995        4300000   \n",
       "1      11000000        126.393695         25-05-1977      775398007   \n",
       "2      94000000         85.688789         30-05-2003      940335536   \n",
       "3      55000000        138.133331         06-07-1994      677945399   \n",
       "4      15000000         80.878605         15-09-1999      356296601   \n",
       "\n",
       "   Movie_Runtime  Movie_Vote  ...  \\\n",
       "0           98.0         6.5  ...   \n",
       "1          121.0         8.1  ...   \n",
       "2          100.0         7.6  ...   \n",
       "3          142.0         8.2  ...   \n",
       "4          122.0         7.9  ...   \n",
       "\n",
       "                                      Movie_Homepage  \\\n",
       "0                                                NaN   \n",
       "1  http://www.starwars.com/films/star-wars-episod...   \n",
       "2              http://movies.disney.com/finding-nemo   \n",
       "3                                                NaN   \n",
       "4                      http://www.dreamworks.com/ab/   \n",
       "\n",
       "                                      Movie_Keywords  \\\n",
       "0          hotel new year's eve witch bet hotel room   \n",
       "1        android galaxy hermit death star lightsaber   \n",
       "2  father son relationship harbor underwater fish...   \n",
       "3  vietnam veteran hippie mentally disabled runni...   \n",
       "4  male nudity female nudity adultery midlife cri...   \n",
       "\n",
       "                                      Movie_Overview  \\\n",
       "0  It's Ted the Bellhop's first night on the job....   \n",
       "1  Princess Leia is captured and held hostage by ...   \n",
       "2  Nemo, an adventurous young clownfish, is unexp...   \n",
       "3  A man with a low IQ has accomplished great thi...   \n",
       "4  Lester Burnham, a depressed suburban father in...   \n",
       "\n",
       "                              Movie_Production_House  \\\n",
       "0  [{\"name\": \"Miramax Films\", \"id\": 14}, {\"name\":...   \n",
       "1  [{\"name\": \"Lucasfilm\", \"id\": 1}, {\"name\": \"Twe...   \n",
       "2     [{\"name\": \"Pixar Animation Studios\", \"id\": 3}]   \n",
       "3          [{\"name\": \"Paramount Pictures\", \"id\": 4}]   \n",
       "4  [{\"name\": \"DreamWorks SKG\", \"id\": 27}, {\"name\"...   \n",
       "\n",
       "                            Movie_Production_Country  \\\n",
       "0  [{\"iso_3166_1\": \"US\", \"name\": \"United States o...   \n",
       "1  [{\"iso_3166_1\": \"US\", \"name\": \"United States o...   \n",
       "2  [{\"iso_3166_1\": \"US\", \"name\": \"United States o...   \n",
       "3  [{\"iso_3166_1\": \"US\", \"name\": \"United States o...   \n",
       "4  [{\"iso_3166_1\": \"US\", \"name\": \"United States o...   \n",
       "\n",
       "                      Movie_Spoken_Language  \\\n",
       "0  [{\"iso_639_1\": \"en\", \"name\": \"English\"}]   \n",
       "1  [{\"iso_639_1\": \"en\", \"name\": \"English\"}]   \n",
       "2  [{\"iso_639_1\": \"en\", \"name\": \"English\"}]   \n",
       "3  [{\"iso_639_1\": \"en\", \"name\": \"English\"}]   \n",
       "4  [{\"iso_639_1\": \"en\", \"name\": \"English\"}]   \n",
       "\n",
       "                                       Movie_Tagline  \\\n",
       "0  Twelve outrageous guests. Four scandalous requ...   \n",
       "1       A long time ago in a galaxy far, far away...   \n",
       "2  There are 3.7 trillion fish in the ocean, they...   \n",
       "3  The world will never be the same, once you've ...   \n",
       "4                                       Look closer.   \n",
       "\n",
       "                                          Movie_Cast  \\\n",
       "0  Tim Roth Antonio Banderas Jennifer Beals Madon...   \n",
       "1  Mark Hamill Harrison Ford Carrie Fisher Peter ...   \n",
       "2  Albert Brooks Ellen DeGeneres Alexander Gould ...   \n",
       "3  Tom Hanks Robin Wright Gary Sinise Mykelti Wil...   \n",
       "4  Kevin Spacey Annette Bening Thora Birch Wes Be...   \n",
       "\n",
       "                                          Movie_Crew   Movie_Director  \n",
       "0  [{'name': 'Allison Anders', 'gender': 1, 'depa...   Allison Anders  \n",
       "1  [{'name': 'George Lucas', 'gender': 2, 'depart...     George Lucas  \n",
       "2  [{'name': 'Andrew Stanton', 'gender': 2, 'depa...   Andrew Stanton  \n",
       "3  [{'name': 'Alan Silvestri', 'gender': 2, 'depa...  Robert Zemeckis  \n",
       "4  [{'name': 'Thomas Newman', 'gender': 2, 'depar...       Sam Mendes  \n",
       "\n",
       "[5 rows x 21 columns]"
      ]
     },
     "execution_count": 3,
     "metadata": {},
     "output_type": "execute_result"
    }
   ],
   "source": [
    "df.head()"
   ]
  },
  {
   "cell_type": "code",
   "execution_count": 4,
   "metadata": {},
   "outputs": [
    {
     "data": {
      "text/html": [
       "<div>\n",
       "<style scoped>\n",
       "    .dataframe tbody tr th:only-of-type {\n",
       "        vertical-align: middle;\n",
       "    }\n",
       "\n",
       "    .dataframe tbody tr th {\n",
       "        vertical-align: top;\n",
       "    }\n",
       "\n",
       "    .dataframe thead th {\n",
       "        text-align: right;\n",
       "    }\n",
       "</style>\n",
       "<table border=\"1\" class=\"dataframe\">\n",
       "  <thead>\n",
       "    <tr style=\"text-align: right;\">\n",
       "      <th></th>\n",
       "      <th>Movie_ID</th>\n",
       "      <th>Movie_Title</th>\n",
       "      <th>Movie_Genre</th>\n",
       "      <th>Movie_Language</th>\n",
       "      <th>Movie_Budget</th>\n",
       "      <th>Movie_Popularity</th>\n",
       "      <th>Movie_Release_Date</th>\n",
       "      <th>Movie_Revenue</th>\n",
       "      <th>Movie_Runtime</th>\n",
       "      <th>Movie_Vote</th>\n",
       "      <th>...</th>\n",
       "      <th>Movie_Homepage</th>\n",
       "      <th>Movie_Keywords</th>\n",
       "      <th>Movie_Overview</th>\n",
       "      <th>Movie_Production_House</th>\n",
       "      <th>Movie_Production_Country</th>\n",
       "      <th>Movie_Spoken_Language</th>\n",
       "      <th>Movie_Tagline</th>\n",
       "      <th>Movie_Cast</th>\n",
       "      <th>Movie_Crew</th>\n",
       "      <th>Movie_Director</th>\n",
       "    </tr>\n",
       "  </thead>\n",
       "  <tbody>\n",
       "    <tr>\n",
       "      <th>4755</th>\n",
       "      <td>4784</td>\n",
       "      <td>Midnight Cabaret</td>\n",
       "      <td>Horror</td>\n",
       "      <td>en</td>\n",
       "      <td>0</td>\n",
       "      <td>0.001389</td>\n",
       "      <td>01-01-1990</td>\n",
       "      <td>0</td>\n",
       "      <td>94.0</td>\n",
       "      <td>0.0</td>\n",
       "      <td>...</td>\n",
       "      <td>NaN</td>\n",
       "      <td>NaN</td>\n",
       "      <td>A Broadway producer puts on a play with a Devi...</td>\n",
       "      <td>[]</td>\n",
       "      <td>[]</td>\n",
       "      <td>[{\"iso_639_1\": \"en\", \"name\": \"English\"}]</td>\n",
       "      <td>The hot spot where Satan's waitin'.</td>\n",
       "      <td>Lisa Hart Carroll Michael Des Barres Paul Drak...</td>\n",
       "      <td>[{'name': 'Pece Dingo', 'gender': 0, 'departme...</td>\n",
       "      <td>Pece Dingo</td>\n",
       "    </tr>\n",
       "    <tr>\n",
       "      <th>4756</th>\n",
       "      <td>4785</td>\n",
       "      <td>Growing Up Smith</td>\n",
       "      <td>Comedy Family Drama</td>\n",
       "      <td>en</td>\n",
       "      <td>0</td>\n",
       "      <td>0.710870</td>\n",
       "      <td>03-02-2017</td>\n",
       "      <td>0</td>\n",
       "      <td>102.0</td>\n",
       "      <td>7.4</td>\n",
       "      <td>...</td>\n",
       "      <td>http://www.growingupsmithmovie.com</td>\n",
       "      <td>NaN</td>\n",
       "      <td>In 1979, an Indian family moves to America wit...</td>\n",
       "      <td>[]</td>\n",
       "      <td>[]</td>\n",
       "      <td>[{\"iso_639_1\": \"en\", \"name\": \"English\"}]</td>\n",
       "      <td>It’s better to stand out than to fit in.</td>\n",
       "      <td>Roni Akurati Brighton Sharbino Jason Lee Anjul...</td>\n",
       "      <td>[{'name': 'Frank Lotito', 'gender': 0, 'depart...</td>\n",
       "      <td>Frank Lotito</td>\n",
       "    </tr>\n",
       "    <tr>\n",
       "      <th>4757</th>\n",
       "      <td>4786</td>\n",
       "      <td>8 Days</td>\n",
       "      <td>Thriller Drama</td>\n",
       "      <td>en</td>\n",
       "      <td>0</td>\n",
       "      <td>0.015295</td>\n",
       "      <td>15-06-2014</td>\n",
       "      <td>0</td>\n",
       "      <td>90.0</td>\n",
       "      <td>0.0</td>\n",
       "      <td>...</td>\n",
       "      <td>NaN</td>\n",
       "      <td>christian film sex trafficking</td>\n",
       "      <td>After sneaking to a party with her friends, 16...</td>\n",
       "      <td>[{\"name\": \"After Eden Pictures\", \"id\": 85248}]</td>\n",
       "      <td>[{\"iso_3166_1\": \"US\", \"name\": \"United States o...</td>\n",
       "      <td>[{\"iso_639_1\": \"en\", \"name\": \"English\"}]</td>\n",
       "      <td>She never knew it could happen to her...</td>\n",
       "      <td>Nicole Smolen Kim Baldwin Ariana Stephens Brys...</td>\n",
       "      <td>[{'name': 'Jaco Booyens', 'gender': 0, 'depart...</td>\n",
       "      <td>Jaco Booyens</td>\n",
       "    </tr>\n",
       "    <tr>\n",
       "      <th>4758</th>\n",
       "      <td>4787</td>\n",
       "      <td>Running Forever</td>\n",
       "      <td>Family</td>\n",
       "      <td>en</td>\n",
       "      <td>0</td>\n",
       "      <td>0.028756</td>\n",
       "      <td>27-10-2015</td>\n",
       "      <td>0</td>\n",
       "      <td>88.0</td>\n",
       "      <td>0.0</td>\n",
       "      <td>...</td>\n",
       "      <td>NaN</td>\n",
       "      <td>NaN</td>\n",
       "      <td>After being estranged since her mother's death...</td>\n",
       "      <td>[{\"name\": \"New Kingdom Pictures\", \"id\": 41671}]</td>\n",
       "      <td>[{\"iso_3166_1\": \"US\", \"name\": \"United States o...</td>\n",
       "      <td>[]</td>\n",
       "      <td>NaN</td>\n",
       "      <td>NaN</td>\n",
       "      <td>[]</td>\n",
       "      <td>NaN</td>\n",
       "    </tr>\n",
       "    <tr>\n",
       "      <th>4759</th>\n",
       "      <td>4788</td>\n",
       "      <td>To Be Frank, Sinatra at 100</td>\n",
       "      <td>Documentary</td>\n",
       "      <td>en</td>\n",
       "      <td>2</td>\n",
       "      <td>0.050625</td>\n",
       "      <td>12-12-2015</td>\n",
       "      <td>0</td>\n",
       "      <td>NaN</td>\n",
       "      <td>0.0</td>\n",
       "      <td>...</td>\n",
       "      <td>NaN</td>\n",
       "      <td>music actors legendary perfomer classic hollyw...</td>\n",
       "      <td>NaN</td>\n",
       "      <td>[{\"name\": \"Eyeline Entertainment\", \"id\": 60343}]</td>\n",
       "      <td>[{\"iso_3166_1\": \"GB\", \"name\": \"United Kingdom\"}]</td>\n",
       "      <td>[]</td>\n",
       "      <td>NaN</td>\n",
       "      <td>Tony Oppedisano</td>\n",
       "      <td>[{'name': 'Simon Napier-Bell', 'gender': 0, 'd...</td>\n",
       "      <td>Simon Napier-Bell</td>\n",
       "    </tr>\n",
       "  </tbody>\n",
       "</table>\n",
       "<p>5 rows × 21 columns</p>\n",
       "</div>"
      ],
      "text/plain": [
       "      Movie_ID                  Movie_Title          Movie_Genre  \\\n",
       "4755      4784             Midnight Cabaret               Horror   \n",
       "4756      4785             Growing Up Smith  Comedy Family Drama   \n",
       "4757      4786                       8 Days       Thriller Drama   \n",
       "4758      4787              Running Forever               Family   \n",
       "4759      4788  To Be Frank, Sinatra at 100          Documentary   \n",
       "\n",
       "     Movie_Language  Movie_Budget  Movie_Popularity Movie_Release_Date  \\\n",
       "4755             en             0          0.001389         01-01-1990   \n",
       "4756             en             0          0.710870         03-02-2017   \n",
       "4757             en             0          0.015295         15-06-2014   \n",
       "4758             en             0          0.028756         27-10-2015   \n",
       "4759             en             2          0.050625         12-12-2015   \n",
       "\n",
       "      Movie_Revenue  Movie_Runtime  Movie_Vote  ...  \\\n",
       "4755              0           94.0         0.0  ...   \n",
       "4756              0          102.0         7.4  ...   \n",
       "4757              0           90.0         0.0  ...   \n",
       "4758              0           88.0         0.0  ...   \n",
       "4759              0            NaN         0.0  ...   \n",
       "\n",
       "                          Movie_Homepage  \\\n",
       "4755                                 NaN   \n",
       "4756  http://www.growingupsmithmovie.com   \n",
       "4757                                 NaN   \n",
       "4758                                 NaN   \n",
       "4759                                 NaN   \n",
       "\n",
       "                                         Movie_Keywords  \\\n",
       "4755                                                NaN   \n",
       "4756                                                NaN   \n",
       "4757                     christian film sex trafficking   \n",
       "4758                                                NaN   \n",
       "4759  music actors legendary perfomer classic hollyw...   \n",
       "\n",
       "                                         Movie_Overview  \\\n",
       "4755  A Broadway producer puts on a play with a Devi...   \n",
       "4756  In 1979, an Indian family moves to America wit...   \n",
       "4757  After sneaking to a party with her friends, 16...   \n",
       "4758  After being estranged since her mother's death...   \n",
       "4759                                                NaN   \n",
       "\n",
       "                                Movie_Production_House  \\\n",
       "4755                                                []   \n",
       "4756                                                []   \n",
       "4757    [{\"name\": \"After Eden Pictures\", \"id\": 85248}]   \n",
       "4758   [{\"name\": \"New Kingdom Pictures\", \"id\": 41671}]   \n",
       "4759  [{\"name\": \"Eyeline Entertainment\", \"id\": 60343}]   \n",
       "\n",
       "                               Movie_Production_Country  \\\n",
       "4755                                                 []   \n",
       "4756                                                 []   \n",
       "4757  [{\"iso_3166_1\": \"US\", \"name\": \"United States o...   \n",
       "4758  [{\"iso_3166_1\": \"US\", \"name\": \"United States o...   \n",
       "4759   [{\"iso_3166_1\": \"GB\", \"name\": \"United Kingdom\"}]   \n",
       "\n",
       "                         Movie_Spoken_Language  \\\n",
       "4755  [{\"iso_639_1\": \"en\", \"name\": \"English\"}]   \n",
       "4756  [{\"iso_639_1\": \"en\", \"name\": \"English\"}]   \n",
       "4757  [{\"iso_639_1\": \"en\", \"name\": \"English\"}]   \n",
       "4758                                        []   \n",
       "4759                                        []   \n",
       "\n",
       "                                 Movie_Tagline  \\\n",
       "4755       The hot spot where Satan's waitin'.   \n",
       "4756  It’s better to stand out than to fit in.   \n",
       "4757  She never knew it could happen to her...   \n",
       "4758                                       NaN   \n",
       "4759                                       NaN   \n",
       "\n",
       "                                             Movie_Cast  \\\n",
       "4755  Lisa Hart Carroll Michael Des Barres Paul Drak...   \n",
       "4756  Roni Akurati Brighton Sharbino Jason Lee Anjul...   \n",
       "4757  Nicole Smolen Kim Baldwin Ariana Stephens Brys...   \n",
       "4758                                                NaN   \n",
       "4759                                    Tony Oppedisano   \n",
       "\n",
       "                                             Movie_Crew     Movie_Director  \n",
       "4755  [{'name': 'Pece Dingo', 'gender': 0, 'departme...         Pece Dingo  \n",
       "4756  [{'name': 'Frank Lotito', 'gender': 0, 'depart...       Frank Lotito  \n",
       "4757  [{'name': 'Jaco Booyens', 'gender': 0, 'depart...       Jaco Booyens  \n",
       "4758                                                 []                NaN  \n",
       "4759  [{'name': 'Simon Napier-Bell', 'gender': 0, 'd...  Simon Napier-Bell  \n",
       "\n",
       "[5 rows x 21 columns]"
      ]
     },
     "execution_count": 4,
     "metadata": {},
     "output_type": "execute_result"
    }
   ],
   "source": [
    "df.tail()"
   ]
  },
  {
   "cell_type": "code",
   "execution_count": 5,
   "metadata": {},
   "outputs": [
    {
     "name": "stdout",
     "output_type": "stream",
     "text": [
      "<class 'pandas.core.frame.DataFrame'>\n",
      "RangeIndex: 4760 entries, 0 to 4759\n",
      "Data columns (total 21 columns):\n",
      " #   Column                    Non-Null Count  Dtype  \n",
      "---  ------                    --------------  -----  \n",
      " 0   Movie_ID                  4760 non-null   int64  \n",
      " 1   Movie_Title               4760 non-null   object \n",
      " 2   Movie_Genre               4760 non-null   object \n",
      " 3   Movie_Language            4760 non-null   object \n",
      " 4   Movie_Budget              4760 non-null   int64  \n",
      " 5   Movie_Popularity          4760 non-null   float64\n",
      " 6   Movie_Release_Date        4760 non-null   object \n",
      " 7   Movie_Revenue             4760 non-null   int64  \n",
      " 8   Movie_Runtime             4758 non-null   float64\n",
      " 9   Movie_Vote                4760 non-null   float64\n",
      " 10  Movie_Vote_Count          4760 non-null   int64  \n",
      " 11  Movie_Homepage            1699 non-null   object \n",
      " 12  Movie_Keywords            4373 non-null   object \n",
      " 13  Movie_Overview            4757 non-null   object \n",
      " 14  Movie_Production_House    4760 non-null   object \n",
      " 15  Movie_Production_Country  4760 non-null   object \n",
      " 16  Movie_Spoken_Language     4760 non-null   object \n",
      " 17  Movie_Tagline             3942 non-null   object \n",
      " 18  Movie_Cast                4733 non-null   object \n",
      " 19  Movie_Crew                4760 non-null   object \n",
      " 20  Movie_Director            4738 non-null   object \n",
      "dtypes: float64(3), int64(4), object(14)\n",
      "memory usage: 781.1+ KB\n"
     ]
    }
   ],
   "source": [
    "df.info()"
   ]
  },
  {
   "cell_type": "code",
   "execution_count": 6,
   "metadata": {},
   "outputs": [
    {
     "data": {
      "text/plain": [
       "(4760, 21)"
      ]
     },
     "execution_count": 6,
     "metadata": {},
     "output_type": "execute_result"
    }
   ],
   "source": [
    "df.shape\n"
   ]
  },
  {
   "cell_type": "code",
   "execution_count": 7,
   "metadata": {},
   "outputs": [
    {
     "data": {
      "text/plain": [
       "Index(['Movie_ID', 'Movie_Title', 'Movie_Genre', 'Movie_Language',\n",
       "       'Movie_Budget', 'Movie_Popularity', 'Movie_Release_Date',\n",
       "       'Movie_Revenue', 'Movie_Runtime', 'Movie_Vote', 'Movie_Vote_Count',\n",
       "       'Movie_Homepage', 'Movie_Keywords', 'Movie_Overview',\n",
       "       'Movie_Production_House', 'Movie_Production_Country',\n",
       "       'Movie_Spoken_Language', 'Movie_Tagline', 'Movie_Cast', 'Movie_Crew',\n",
       "       'Movie_Director'],\n",
       "      dtype='object')"
      ]
     },
     "execution_count": 7,
     "metadata": {},
     "output_type": "execute_result"
    }
   ],
   "source": [
    "df.columns"
   ]
  },
  {
   "cell_type": "markdown",
   "metadata": {},
   "source": [
    "## Get Feature Selection"
   ]
  },
  {
   "cell_type": "markdown",
   "metadata": {},
   "source": []
  },
  {
   "cell_type": "code",
   "execution_count": 8,
   "metadata": {},
   "outputs": [],
   "source": [
    "df_feature=df[['Movie_Genre','Movie_Keywords', 'Movie_Tagline','Movie_Cast', 'Movie_Director',]].fillna('')"
   ]
  },
  {
   "cell_type": "code",
   "execution_count": 9,
   "metadata": {},
   "outputs": [
    {
     "data": {
      "text/plain": [
       "(4760, 5)"
      ]
     },
     "execution_count": 9,
     "metadata": {},
     "output_type": "execute_result"
    }
   ],
   "source": [
    "df_feature.shape"
   ]
  },
  {
   "cell_type": "code",
   "execution_count": 10,
   "metadata": {},
   "outputs": [
    {
     "data": {
      "text/html": [
       "<div>\n",
       "<style scoped>\n",
       "    .dataframe tbody tr th:only-of-type {\n",
       "        vertical-align: middle;\n",
       "    }\n",
       "\n",
       "    .dataframe tbody tr th {\n",
       "        vertical-align: top;\n",
       "    }\n",
       "\n",
       "    .dataframe thead th {\n",
       "        text-align: right;\n",
       "    }\n",
       "</style>\n",
       "<table border=\"1\" class=\"dataframe\">\n",
       "  <thead>\n",
       "    <tr style=\"text-align: right;\">\n",
       "      <th></th>\n",
       "      <th>Movie_Genre</th>\n",
       "      <th>Movie_Keywords</th>\n",
       "      <th>Movie_Tagline</th>\n",
       "      <th>Movie_Cast</th>\n",
       "      <th>Movie_Director</th>\n",
       "    </tr>\n",
       "  </thead>\n",
       "  <tbody>\n",
       "    <tr>\n",
       "      <th>0</th>\n",
       "      <td>Crime Comedy</td>\n",
       "      <td>hotel new year's eve witch bet hotel room</td>\n",
       "      <td>Twelve outrageous guests. Four scandalous requ...</td>\n",
       "      <td>Tim Roth Antonio Banderas Jennifer Beals Madon...</td>\n",
       "      <td>Allison Anders</td>\n",
       "    </tr>\n",
       "    <tr>\n",
       "      <th>1</th>\n",
       "      <td>Adventure Action Science Fiction</td>\n",
       "      <td>android galaxy hermit death star lightsaber</td>\n",
       "      <td>A long time ago in a galaxy far, far away...</td>\n",
       "      <td>Mark Hamill Harrison Ford Carrie Fisher Peter ...</td>\n",
       "      <td>George Lucas</td>\n",
       "    </tr>\n",
       "    <tr>\n",
       "      <th>2</th>\n",
       "      <td>Animation Family</td>\n",
       "      <td>father son relationship harbor underwater fish...</td>\n",
       "      <td>There are 3.7 trillion fish in the ocean, they...</td>\n",
       "      <td>Albert Brooks Ellen DeGeneres Alexander Gould ...</td>\n",
       "      <td>Andrew Stanton</td>\n",
       "    </tr>\n",
       "    <tr>\n",
       "      <th>3</th>\n",
       "      <td>Comedy Drama Romance</td>\n",
       "      <td>vietnam veteran hippie mentally disabled runni...</td>\n",
       "      <td>The world will never be the same, once you've ...</td>\n",
       "      <td>Tom Hanks Robin Wright Gary Sinise Mykelti Wil...</td>\n",
       "      <td>Robert Zemeckis</td>\n",
       "    </tr>\n",
       "    <tr>\n",
       "      <th>4</th>\n",
       "      <td>Drama</td>\n",
       "      <td>male nudity female nudity adultery midlife cri...</td>\n",
       "      <td>Look closer.</td>\n",
       "      <td>Kevin Spacey Annette Bening Thora Birch Wes Be...</td>\n",
       "      <td>Sam Mendes</td>\n",
       "    </tr>\n",
       "    <tr>\n",
       "      <th>...</th>\n",
       "      <td>...</td>\n",
       "      <td>...</td>\n",
       "      <td>...</td>\n",
       "      <td>...</td>\n",
       "      <td>...</td>\n",
       "    </tr>\n",
       "    <tr>\n",
       "      <th>4755</th>\n",
       "      <td>Horror</td>\n",
       "      <td></td>\n",
       "      <td>The hot spot where Satan's waitin'.</td>\n",
       "      <td>Lisa Hart Carroll Michael Des Barres Paul Drak...</td>\n",
       "      <td>Pece Dingo</td>\n",
       "    </tr>\n",
       "    <tr>\n",
       "      <th>4756</th>\n",
       "      <td>Comedy Family Drama</td>\n",
       "      <td></td>\n",
       "      <td>It’s better to stand out than to fit in.</td>\n",
       "      <td>Roni Akurati Brighton Sharbino Jason Lee Anjul...</td>\n",
       "      <td>Frank Lotito</td>\n",
       "    </tr>\n",
       "    <tr>\n",
       "      <th>4757</th>\n",
       "      <td>Thriller Drama</td>\n",
       "      <td>christian film sex trafficking</td>\n",
       "      <td>She never knew it could happen to her...</td>\n",
       "      <td>Nicole Smolen Kim Baldwin Ariana Stephens Brys...</td>\n",
       "      <td>Jaco Booyens</td>\n",
       "    </tr>\n",
       "    <tr>\n",
       "      <th>4758</th>\n",
       "      <td>Family</td>\n",
       "      <td></td>\n",
       "      <td></td>\n",
       "      <td></td>\n",
       "      <td></td>\n",
       "    </tr>\n",
       "    <tr>\n",
       "      <th>4759</th>\n",
       "      <td>Documentary</td>\n",
       "      <td>music actors legendary perfomer classic hollyw...</td>\n",
       "      <td></td>\n",
       "      <td>Tony Oppedisano</td>\n",
       "      <td>Simon Napier-Bell</td>\n",
       "    </tr>\n",
       "  </tbody>\n",
       "</table>\n",
       "<p>4760 rows × 5 columns</p>\n",
       "</div>"
      ],
      "text/plain": [
       "                           Movie_Genre  \\\n",
       "0                         Crime Comedy   \n",
       "1     Adventure Action Science Fiction   \n",
       "2                     Animation Family   \n",
       "3                 Comedy Drama Romance   \n",
       "4                                Drama   \n",
       "...                                ...   \n",
       "4755                            Horror   \n",
       "4756               Comedy Family Drama   \n",
       "4757                    Thriller Drama   \n",
       "4758                            Family   \n",
       "4759                       Documentary   \n",
       "\n",
       "                                         Movie_Keywords  \\\n",
       "0             hotel new year's eve witch bet hotel room   \n",
       "1           android galaxy hermit death star lightsaber   \n",
       "2     father son relationship harbor underwater fish...   \n",
       "3     vietnam veteran hippie mentally disabled runni...   \n",
       "4     male nudity female nudity adultery midlife cri...   \n",
       "...                                                 ...   \n",
       "4755                                                      \n",
       "4756                                                      \n",
       "4757                     christian film sex trafficking   \n",
       "4758                                                      \n",
       "4759  music actors legendary perfomer classic hollyw...   \n",
       "\n",
       "                                          Movie_Tagline  \\\n",
       "0     Twelve outrageous guests. Four scandalous requ...   \n",
       "1          A long time ago in a galaxy far, far away...   \n",
       "2     There are 3.7 trillion fish in the ocean, they...   \n",
       "3     The world will never be the same, once you've ...   \n",
       "4                                          Look closer.   \n",
       "...                                                 ...   \n",
       "4755                The hot spot where Satan's waitin'.   \n",
       "4756           It’s better to stand out than to fit in.   \n",
       "4757           She never knew it could happen to her...   \n",
       "4758                                                      \n",
       "4759                                                      \n",
       "\n",
       "                                             Movie_Cast     Movie_Director  \n",
       "0     Tim Roth Antonio Banderas Jennifer Beals Madon...     Allison Anders  \n",
       "1     Mark Hamill Harrison Ford Carrie Fisher Peter ...       George Lucas  \n",
       "2     Albert Brooks Ellen DeGeneres Alexander Gould ...     Andrew Stanton  \n",
       "3     Tom Hanks Robin Wright Gary Sinise Mykelti Wil...    Robert Zemeckis  \n",
       "4     Kevin Spacey Annette Bening Thora Birch Wes Be...         Sam Mendes  \n",
       "...                                                 ...                ...  \n",
       "4755  Lisa Hart Carroll Michael Des Barres Paul Drak...         Pece Dingo  \n",
       "4756  Roni Akurati Brighton Sharbino Jason Lee Anjul...       Frank Lotito  \n",
       "4757  Nicole Smolen Kim Baldwin Ariana Stephens Brys...       Jaco Booyens  \n",
       "4758                                                                        \n",
       "4759                                    Tony Oppedisano  Simon Napier-Bell  \n",
       "\n",
       "[4760 rows x 5 columns]"
      ]
     },
     "execution_count": 10,
     "metadata": {},
     "output_type": "execute_result"
    }
   ],
   "source": [
    "df_feature"
   ]
  },
  {
   "cell_type": "code",
   "execution_count": 11,
   "metadata": {},
   "outputs": [],
   "source": [
    "x=df_feature['Movie_Genre']+''+df_feature['Movie_Keywords']+''+ df_feature['Movie_Tagline']+''+ df_feature['Movie_Tagline']+''+df_feature['Movie_Cast']+''+ df_feature['Movie_Director']"
   ]
  },
  {
   "cell_type": "code",
   "execution_count": 12,
   "metadata": {},
   "outputs": [
    {
     "data": {
      "text/plain": [
       "0       Crime Comedyhotel new year's eve witch bet hot...\n",
       "1       Adventure Action Science Fictionandroid galaxy...\n",
       "2       Animation Familyfather son relationship harbor...\n",
       "3       Comedy Drama Romancevietnam veteran hippie men...\n",
       "4       Dramamale nudity female nudity adultery midlif...\n",
       "                              ...                        \n",
       "4755    HorrorThe hot spot where Satan's waitin'.The h...\n",
       "4756    Comedy Family DramaIt’s better to stand out th...\n",
       "4757    Thriller Dramachristian film sex traffickingSh...\n",
       "4758                                               Family\n",
       "4759    Documentarymusic actors legendary perfomer cla...\n",
       "Length: 4760, dtype: object"
      ]
     },
     "execution_count": 12,
     "metadata": {},
     "output_type": "execute_result"
    }
   ],
   "source": [
    "x"
   ]
  },
  {
   "cell_type": "code",
   "execution_count": 13,
   "metadata": {},
   "outputs": [
    {
     "data": {
      "text/plain": [
       "(4760,)"
      ]
     },
     "execution_count": 13,
     "metadata": {},
     "output_type": "execute_result"
    }
   ],
   "source": [
    "x.shape"
   ]
  },
  {
   "cell_type": "markdown",
   "metadata": {},
   "source": [
    "## Get Feature Text Conversion to Tokens"
   ]
  },
  {
   "cell_type": "code",
   "execution_count": 16,
   "metadata": {},
   "outputs": [],
   "source": [
    "from sklearn.feature_extraction.text import TfidfVectorizer"
   ]
  },
  {
   "cell_type": "code",
   "execution_count": 17,
   "metadata": {},
   "outputs": [],
   "source": [
    "tfidf = TfidfVectorizer()"
   ]
  },
  {
   "cell_type": "code",
   "execution_count": 18,
   "metadata": {},
   "outputs": [],
   "source": [
    "X=tfidf.fit_transform(x)"
   ]
  },
  {
   "cell_type": "code",
   "execution_count": 19,
   "metadata": {},
   "outputs": [
    {
     "data": {
      "text/plain": [
       "(4760, 28281)"
      ]
     },
     "execution_count": 19,
     "metadata": {},
     "output_type": "execute_result"
    }
   ],
   "source": [
    "X.shape"
   ]
  },
  {
   "cell_type": "code",
   "execution_count": 22,
   "metadata": {},
   "outputs": [
    {
     "name": "stdout",
     "output_type": "stream",
     "text": [
      "<Compressed Sparse Row sparse matrix of dtype 'float64'\n",
      "\twith 114462 stored elements and shape (4760, 28281)>\n",
      "  Coords\tValues\n",
      "  (0, 5719)\t0.04603184614925108\n",
      "  (0, 4986)\t0.10973837831840942\n",
      "  (0, 18231)\t0.18274151857769932\n",
      "  (0, 27997)\t0.24425315414771276\n",
      "  (0, 8647)\t0.28319272199338674\n",
      "  (0, 27688)\t0.09264982066933222\n",
      "  (0, 2510)\t0.10317534076584535\n",
      "  (0, 12799)\t0.08471860410820274\n",
      "  (0, 21719)\t0.12253328054503103\n",
      "  (0, 18891)\t0.23374289222802005\n",
      "  (0, 11415)\t0.23374289222802005\n",
      "  (0, 10202)\t0.18699274175250502\n",
      "  (0, 22235)\t0.24506656109006206\n",
      "  (0, 20849)\t0.24506656109006206\n",
      "  (0, 1064)\t0.09501263799851081\n",
      "  (0, 18722)\t0.10430601768931405\n",
      "  (0, 15632)\t0.19279161164896563\n",
      "  (0, 2380)\t0.24506656109006206\n",
      "  (0, 13194)\t0.18483145115603034\n",
      "  (0, 12325)\t0.24750896925255766\n",
      "  (0, 9901)\t0.1431124244054645\n",
      "  (0, 6351)\t0.1500792684372198\n",
      "  (0, 18718)\t0.09069832368634702\n",
      "  (0, 24807)\t0.12478253468764698\n",
      "  (0, 13810)\t0.1723796749455647\n",
      "  :\t:\n",
      "  (4757, 22651)\t0.1265845758910482\n",
      "  (4757, 22790)\t0.12748100977199814\n",
      "  (4757, 11682)\t0.33502637156036663\n",
      "  (4757, 5569)\t0.30634669698206235\n",
      "  (4757, 1904)\t0.15001336689696293\n",
      "  (4757, 23842)\t0.19840972407356794\n",
      "  (4757, 7458)\t0.19840972407356794\n",
      "  (4757, 25638)\t0.2215432263107374\n",
      "  (4757, 23279)\t0.2215432263107374\n",
      "  (4757, 1377)\t0.2215432263107374\n",
      "  (4757, 3407)\t0.2215432263107374\n",
      "  (4757, 10439)\t0.2215432263107374\n",
      "  (4757, 2964)\t0.2215432263107374\n",
      "  (4758, 8908)\t1.0\n",
      "  (4759, 2373)\t0.2152042862791534\n",
      "  (4759, 10252)\t0.21773085661137973\n",
      "  (4759, 18054)\t0.30958406644892583\n",
      "  (4759, 4582)\t0.27852076516187735\n",
      "  (4759, 12512)\t0.2744848501396102\n",
      "  (4759, 15176)\t0.3206039479538324\n",
      "  (4759, 361)\t0.3206039479538324\n",
      "  (4759, 7157)\t0.33613559859735664\n",
      "  (4759, 19402)\t0.33613559859735664\n",
      "  (4759, 23071)\t0.33613559859735664\n",
      "  (4759, 18762)\t0.33613559859735664\n"
     ]
    }
   ],
   "source": [
    "print(X)"
   ]
  },
  {
   "cell_type": "markdown",
   "metadata": {},
   "source": [
    "# Get Similarity Score using Cosine Similarity"
   ]
  },
  {
   "cell_type": "code",
   "execution_count": 23,
   "metadata": {},
   "outputs": [],
   "source": [
    "from sklearn.metrics.pairwise import cosine_similarity"
   ]
  },
  {
   "cell_type": "code",
   "execution_count": 24,
   "metadata": {},
   "outputs": [],
   "source": [
    "Similarty_score= cosine_similarity(X)"
   ]
  },
  {
   "cell_type": "code",
   "execution_count": 25,
   "metadata": {},
   "outputs": [
    {
     "data": {
      "text/plain": [
       "array([[1.        , 0.02407725, 0.06727677, ..., 0.        , 0.        ,\n",
       "        0.        ],\n",
       "       [0.02407725, 1.        , 0.01711728, ..., 0.        , 0.        ,\n",
       "        0.        ],\n",
       "       [0.06727677, 0.01711728, 1.        , ..., 0.        , 0.        ,\n",
       "        0.        ],\n",
       "       ...,\n",
       "       [0.        , 0.        , 0.        , ..., 1.        , 0.        ,\n",
       "        0.        ],\n",
       "       [0.        , 0.        , 0.        , ..., 0.        , 1.        ,\n",
       "        0.        ],\n",
       "       [0.        , 0.        , 0.        , ..., 0.        , 0.        ,\n",
       "        1.        ]])"
      ]
     },
     "execution_count": 25,
     "metadata": {},
     "output_type": "execute_result"
    }
   ],
   "source": [
    "Similarty_score"
   ]
  },
  {
   "cell_type": "code",
   "execution_count": 26,
   "metadata": {},
   "outputs": [
    {
     "data": {
      "text/plain": [
       "(4760, 4760)"
      ]
     },
     "execution_count": 26,
     "metadata": {},
     "output_type": "execute_result"
    }
   ],
   "source": [
    "Similarty_score.shape"
   ]
  },
  {
   "cell_type": "markdown",
   "metadata": {},
   "source": [
    "# Get Movie Name as Input from User And Validate For Closest Spelling"
   ]
  },
  {
   "cell_type": "code",
   "execution_count": 28,
   "metadata": {},
   "outputs": [],
   "source": [
    "Favourite_Movies_Name = input('Enter your favourite movies name :')"
   ]
  },
  {
   "cell_type": "code",
   "execution_count": 29,
   "metadata": {},
   "outputs": [],
   "source": [
    "All_Movies_Title_List=df['Movie_Title'].tolist()"
   ]
  },
  {
   "cell_type": "code",
   "execution_count": 40,
   "metadata": {},
   "outputs": [],
   "source": [
    "import difflib"
   ]
  },
  {
   "cell_type": "code",
   "execution_count": 41,
   "metadata": {},
   "outputs": [
    {
     "name": "stdout",
     "output_type": "stream",
     "text": [
      "['Avatar']\n"
     ]
    }
   ],
   "source": [
    "Movie_Recommendation = difflib.get_close_matches(Favourite_Movies_Name,All_Movies_Title_List)\n",
    "print(Movie_Recommendation)"
   ]
  },
  {
   "cell_type": "code",
   "execution_count": 39,
   "metadata": {},
   "outputs": [
    {
     "name": "stdout",
     "output_type": "stream",
     "text": [
      "Avatar\n"
     ]
    }
   ],
   "source": [
    "Close_Match = Movie_Recommendation[0]\n",
    "print(Close_Match)"
   ]
  },
  {
   "cell_type": "code",
   "execution_count": 42,
   "metadata": {},
   "outputs": [
    {
     "name": "stdout",
     "output_type": "stream",
     "text": [
      "2692\n"
     ]
    }
   ],
   "source": [
    "Index_of_Close_Match_Movie = df[df.Movie_Title == Close_Match]['Movie_ID'].values[0] \n",
    "print(Index_of_Close_Match_Movie)"
   ]
  },
  {
   "cell_type": "code",
   "execution_count": 45,
   "metadata": {},
   "outputs": [
    {
     "name": "stdout",
     "output_type": "stream",
     "text": [
      "[(0, 0.011354520917894698), (1, 0.0), (2, 0.0), (3, 0.012558662536974404), (4, 0.0), (5, 0.007638021627455725), (6, 0.0), (7, 0.02456702722660241), (8, 0.002981685306370331), (9, 0.014216857799761146), (10, 0.0), (11, 0.0025156393305481068), (12, 0.002745387021625392), (13, 0.025880898435512417), (14, 0.0), (15, 0.04054130129277683), (16, 0.002175411338621457), (17, 0.0), (18, 0.0019124857058046957), (19, 0.020872342213734275), (20, 0.0), (21, 0.00887618532097752), (22, 0.015013281894246739), (23, 0.002452078049648711), (24, 0.0), (25, 0.023136736604333397), (26, 0.0), (27, 0.0), (28, 0.0), (29, 0.03338238768740384), (30, 0.0), (31, 0.001962724171125481), (32, 0.008887422418246178), (33, 0.03792936103827477), (34, 0.0025706105018467864), (35, 0.012054150427297237), (36, 0.0), (37, 0.0), (38, 0.0), (39, 0.0), (40, 0.010277247383684513), (41, 0.002591881090834105), (42, 0.0), (43, 0.01581376217405819), (44, 0.07109679446557013), (45, 0.024803388170560967), (46, 0.032220675698815426), (47, 0.0), (48, 0.008927831932162789), (49, 0.0), (50, 0.0), (51, 0.008459375471741339), (52, 0.007550126040990197), (53, 0.0), (54, 0.0), (55, 0.0), (56, 0.01503315893304665), (57, 0.0243102274291893), (58, 0.0), (59, 0.0), (60, 0.01383531173635395), (61, 0.03812267529195229), (62, 0.14356065831805798), (63, 0.013073346641193383), (64, 0.0), (65, 0.020080324538559974), (66, 0.0), (67, 0.0420058263070608), (68, 0.014120074503283545), (69, 0.0), (70, 0.0), (71, 0.0022866237055699824), (72, 0.0), (73, 0.0), (74, 0.002386729565651916), (75, 0.028991416028958474), (76, 0.0), (77, 0.0), (78, 0.006240173271516187), (79, 0.016355169368958068), (80, 0.0), (81, 0.0), (82, 0.010128659999436962), (83, 0.013139858740587713), (84, 0.01454122177020507), (85, 0.014185125453516415), (86, 0.014153643019022388), (87, 0.006490815978812887), (88, 0.02654204977536522), (89, 0.02213454767551369), (90, 0.0), (91, 0.0), (92, 0.0018949046669746554), (93, 0.0), (94, 0.0), (95, 0.0), (96, 0.0018400938250735753), (97, 0.0018454598271653924), (98, 0.0), (99, 0.0), (100, 0.0), (101, 0.0), (102, 0.0), (103, 0.0024276233278475215), (104, 0.016307139060278555), (105, 0.005001064225588389), (106, 0.01774853124746414), (107, 0.002651718625379869), (108, 0.056349385173422466), (109, 0.04434828268626551), (110, 0.04848986239978371), (111, 0.0018166362372167826), (112, 0.041819069535555205), (113, 0.012347105134425326), (114, 0.002101651057193576), (115, 0.0), (116, 0.04523408081105094), (117, 0.0), (118, 0.0), (119, 0.016690909467029696), (120, 0.009816548129483984), (121, 0.0017329780497030369), (122, 0.004258527041526382), (123, 0.011509858477851943), (124, 0.028731153156030403), (125, 0.011056160253582435), (126, 0.06191284290728372), (127, 0.0022679593945049924), (128, 0.0), (129, 0.0012022486292717033), (130, 0.021057420200230742), (131, 0.014583329820926305), (132, 0.002034576640922959), (133, 0.0), (134, 0.0), (135, 0.0), (136, 0.002088622054727818), (137, 0.09149022490825245), (138, 0.01437058124025734), (139, 0.0), (140, 0.0), (141, 0.0), (142, 0.015839926666032303), (143, 0.0), (144, 0.011579914630001773), (145, 0.014326250428746672), (146, 0.0), (147, 0.011946377088739997), (148, 0.004001978659003834), (149, 0.007688140109480974), (150, 0.0), (151, 0.0), (152, 0.0), (153, 0.0), (154, 0.0), (155, 0.004464699309533363), (156, 0.00701727390379135), (157, 0.0), (158, 0.0), (159, 0.011164850269286751), (160, 0.03138871409058848), (161, 0.033573844595427525), (162, 0.0054394634792712246), (163, 0.0), (164, 0.00694217185902989), (165, 0.0020448491408833177), (166, 0.041103219782651766), (167, 0.0), (168, 0.005663818645236557), (169, 0.002284290331642556), (170, 0.004858884859468962), (171, 0.0), (172, 0.027524890128647218), (173, 0.010208673758512128), (174, 0.02979906095631537), (175, 0.04102202729831334), (176, 0.019885878909856824), (177, 0.011684094118372181), (178, 0.0024032624551858154), (179, 0.018171740885402497), (180, 0.005929375020575211), (181, 0.010604174492769706), (182, 0.007088409732838261), (183, 0.008255447493673405), (184, 0.0017558111552506566), (185, 0.025381148862483056), (186, 0.0), (187, 0.0), (188, 0.0), (189, 0.0), (190, 0.0019813692809638427), (191, 0.0), (192, 0.0024539236520834157), (193, 0.046344774226533436), (194, 0.0017645997261146469), (195, 0.0017746831277179527), (196, 0.0), (197, 0.011454325206422573), (198, 0.002149553485488813), (199, 0.013866085140734822), (200, 0.002164304670416689), (201, 0.00555354386095196), (202, 0.0011571944768354828), (203, 0.02906653822582833), (204, 0.03666864951468159), (205, 0.0), (206, 0.002579737711139686), (207, 0.006053922384400004), (208, 0.013215328065642892), (209, 0.021400229274256596), (210, 0.02862458454304536), (211, 0.0), (212, 0.014422663602562056), (213, 0.05763919790802342), (214, 0.0), (215, 0.0019279005558003777), (216, 0.0022291728037669625), (217, 0.0), (218, 0.028835776617732206), (219, 0.0), (220, 0.0), (221, 0.002140359318986521), (222, 0.02315147321925721), (223, 0.0), (224, 0.006551153916009441), (225, 0.0), (226, 0.0), (227, 0.06961284702813435), (228, 0.001323832203617205), (229, 0.0), (230, 0.0066933265066936335), (231, 0.02449623553959546), (232, 0.008550617399385623), (233, 0.0), (234, 0.0), (235, 0.0), (236, 0.0063030512026904005), (237, 0.0), (238, 0.0022163248275548636), (239, 0.0), (240, 0.013451018747838071), (241, 0.0), (242, 0.008302347525648705), (243, 0.01103349285557689), (244, 0.005540574258905979), (245, 0.0), (246, 0.0), (247, 0.0), (248, 0.00729133253720298), (249, 0.0), (250, 0.017211471923014292), (251, 0.017989439032998412), (252, 0.019579025264153154), (253, 0.0), (254, 0.045409676255458886), (255, 0.002286982864374143), (256, 0.0014864299748972997), (257, 0.0), (258, 0.0), (259, 0.0), (260, 0.0), (261, 0.04058490024858409), (262, 0.0), (263, 0.01368843253506727), (264, 0.0), (265, 0.0), (266, 0.01026605662481514), (267, 0.001965754054159586), (268, 0.0), (269, 0.04096173905636854), (270, 0.007798710753367315), (271, 0.011639216669620376), (272, 0.0), (273, 0.01518724799042411), (274, 0.002921647807887417), (275, 0.0), (276, 0.00677388310346531), (277, 0.010778852877602352), (278, 0.0), (279, 0.014204111951714879), (280, 0.018005250589365376), (281, 0.00730681245689828), (282, 0.05592191744042698), (283, 0.00518194990907588), (284, 0.013134497300436282), (285, 0.004316125110274842), (286, 0.0016700351064670065), (287, 0.017968498531786996), (288, 0.01110005101152045), (289, 0.0), (290, 0.0), (291, 0.0), (292, 0.11821278031380796), (293, 0.0), (294, 0.0), (295, 0.0), (296, 0.02583048851442476), (297, 0.0), (298, 0.0), (299, 0.0), (300, 0.006870488238749348), (301, 0.0079313004167942), (302, 0.0), (303, 0.0), (304, 0.0), (305, 0.0), (306, 0.0), (307, 0.013756677154839617), (308, 0.0), (309, 0.011809191817713428), (310, 0.0), (311, 0.0), (312, 0.0), (313, 0.015734559490909007), (314, 0.0), (315, 0.0), (316, 0.0), (317, 0.012360148148346866), (318, 0.002612900985647394), (319, 0.0), (320, 0.0), (321, 0.008004631724292671), (322, 0.007283406309322913), (323, 0.0), (324, 0.0), (325, 0.0021025494807742455), (326, 0.003300278454626034), (327, 0.012080884669898437), (328, 0.04136314808709124), (329, 0.014717688141859982), (330, 0.03298328518788881), (331, 0.0), (332, 0.017308266184942814), (333, 0.004305409078073092), (334, 0.04292144137800577), (335, 0.0), (336, 0.009313406931135935), (337, 0.0), (338, 0.0), (339, 0.0), (340, 0.009011004578333048), (341, 0.008423617239482017), (342, 0.018054459147179763), (343, 0.02566893463771991), (344, 0.0), (345, 0.03573387048765703), (346, 0.015280943725757263), (347, 0.0), (348, 0.002163972526309489), (349, 0.0019960835824754963), (350, 0.0026139313475836328), (351, 0.0013590082258595868), (352, 0.0), (353, 0.016678136207879793), (354, 0.012172185685223486), (355, 0.0018178926779236694), (356, 0.015006532784086968), (357, 0.0019098645553563805), (358, 0.023968259436258504), (359, 0.0022742313853261415), (360, 0.004575264201924271), (361, 0.0), (362, 0.0), (363, 0.008139656859534366), (364, 0.035691093478099165), (365, 0.0), (366, 0.0), (367, 0.0), (368, 0.006638073011964158), (369, 0.003161490880220202), (370, 0.007182319229185637), (371, 0.04769519288617496), (372, 0.0021973881713525656), (373, 0.0019634930632387447), (374, 0.022905885453749626), (375, 0.0), (376, 0.0), (377, 0.0), (378, 0.0), (379, 0.0), (380, 0.0), (381, 0.012950896036278307), (382, 0.0), (383, 0.011724953074028627), (384, 0.016279401584242504), (385, 0.006118573718940053), (386, 0.008708680282999317), (387, 0.024489760523012), (388, 0.0018456760522261382), (389, 0.0), (390, 0.0), (391, 0.0), (392, 0.0), (393, 0.0), (394, 0.0), (395, 0.0), (396, 0.00512184350342829), (397, 0.0), (398, 0.014505364199230058), (399, 0.0), (400, 0.0022311912283470036), (401, 0.0), (402, 0.010868166192354737), (403, 0.014673196595523432), (404, 0.0), (405, 0.0), (406, 0.012006640680297418), (407, 0.016374222308553274), (408, 0.028515583954853877), (409, 0.03957416170204476), (410, 0.0019827884340340935), (411, 0.0), (412, 0.08200108031753472), (413, 0.015506833528419535), (414, 0.009326221181945912), (415, 0.0), (416, 0.0021250160297644877), (417, 0.0), (418, 0.005297238682251509), (419, 0.0031633654249018537), (420, 0.0), (421, 0.017346844881337902), (422, 0.0), (423, 0.0), (424, 0.0173388032967548), (425, 0.0), (426, 0.0), (427, 0.0), (428, 0.01557657311198219), (429, 0.008402894560202599), (430, 0.018709784750914362), (431, 0.003113435466187665), (432, 0.0), (433, 0.011270354715998136), (434, 0.010055221355247985), (435, 0.0037241282330378856), (436, 0.0027476224115977415), (437, 0.020948153729417746), (438, 0.085633082529934), (439, 0.0), (440, 0.0), (441, 0.013184558923678083), (442, 0.034638275251916394), (443, 0.0024740707631030374), (444, 0.0), (445, 0.006855652240772187), (446, 0.0075848173463069985), (447, 0.004941277165392169), (448, 0.0029839781291325085), (449, 0.006627552483284852), (450, 0.008415320975913404), (451, 0.0), (452, 0.022185538670506762), (453, 0.002094183909765996), (454, 0.0), (455, 0.009047564385018539), (456, 0.0021564269389000293), (457, 0.0018265065682765114), (458, 0.007916011481535382), (459, 0.017166662109709296), (460, 0.0), (461, 0.007319967208039639), (462, 0.0), (463, 0.01442418249468238), (464, 0.011220123116947416), (465, 0.053638574056948385), (466, 0.0), (467, 0.0), (468, 0.006692622057333864), (469, 0.0), (470, 0.010709961468334356), (471, 0.0021892750169561982), (472, 0.011165243041830886), (473, 0.0), (474, 0.0), (475, 0.004009318669963605), (476, 0.0), (477, 0.009810813079492654), (478, 0.0), (479, 0.027023273251499506), (480, 0.0019388754399830828), (481, 0.0022007715835973087), (482, 0.012470010503023144), (483, 0.005586500888237166), (484, 0.0), (485, 0.0053539965815311815), (486, 0.0), (487, 0.0), (488, 0.002610484764075428), (489, 0.0), (490, 0.0019474527309452738), (491, 0.0), (492, 0.0), (493, 0.002492249095786558), (494, 0.004907044180513357), (495, 0.0019349062715518625), (496, 0.018773696834475617), (497, 0.0), (498, 0.0), (499, 0.0), (500, 0.004196920197875636), (501, 0.004045855108183096), (502, 0.0074795441227067045), (503, 0.0), (504, 0.002429345590503476), (505, 0.0), (506, 0.0), (507, 0.0), (508, 0.0), (509, 0.00218809276159995), (510, 0.025185108537188465), (511, 0.013073265642196756), (512, 0.0), (513, 0.0), (514, 0.0), (515, 0.04002603370608461), (516, 0.0), (517, 0.0), (518, 0.0), (519, 0.055831995110411335), (520, 0.0), (521, 0.012930970412409147), (522, 0.0019188974976533418), (523, 0.014147779116509896), (524, 0.0), (525, 0.0), (526, 0.0), (527, 0.016233160723128904), (528, 0.0), (529, 0.0), (530, 0.03963123772904971), (531, 0.0), (532, 0.0), (533, 0.010327229928073191), (534, 0.009428900014976977), (535, 0.0), (536, 0.0), (537, 0.009059356299926482), (538, 0.011462284409036308), (539, 0.0), (540, 0.06342495980925951), (541, 0.0), (542, 0.004055658821932926), (543, 0.007917973469305449), (544, 0.005153024405679034), (545, 0.028381640311306956), (546, 0.0), (547, 0.011959267540824454), (548, 0.0), (549, 0.0), (550, 0.0), (551, 0.025955374287914296), (552, 0.0), (553, 0.03164733858953805), (554, 0.0), (555, 0.02125767850407871), (556, 0.0), (557, 0.0), (558, 0.0019257416140174355), (559, 0.0), (560, 0.0), (561, 0.00847152380359331), (562, 0.0013822585918095262), (563, 0.00160539507218604), (564, 0.0028666966281387417), (565, 0.0), (566, 0.029258450359612186), (567, 0.0), (568, 0.014337700225247628), (569, 0.0), (570, 0.0), (571, 0.0014019806682952626), (572, 0.0), (573, 0.0), (574, 0.0), (575, 0.0), (576, 0.003020070894938574), (577, 0.0), (578, 0.07452788836193569), (579, 0.0024761291202209934), (580, 0.0022708346534627047), (581, 0.0), (582, 0.008197805103758843), (583, 0.011926770923054286), (584, 0.00827537089331553), (585, 0.0), (586, 0.035036998246688274), (587, 0.0025614005224099934), (588, 0.002394479861461076), (589, 0.0018312198321772798), (590, 0.035314038326704884), (591, 0.0), (592, 0.0), (593, 0.0), (594, 0.0021027213597337863), (595, 0.0), (596, 0.003109940205506041), (597, 0.012169506038260634), (598, 0.002195072731803476), (599, 0.0), (600, 0.008194213782342972), (601, 0.0), (602, 0.0), (603, 0.0), (604, 0.002191993837831777), (605, 0.001715525971361402), (606, 0.0022201629368352933), (607, 0.0014664759212017291), (608, 0.002063982051100426), (609, 0.02152579184444047), (610, 0.0), (611, 0.004188182529164963), (612, 0.0021431712241351216), (613, 0.040319895409642745), (614, 0.002851185870868271), (615, 0.030918208796244743), (616, 0.006745785411829518), (617, 0.0017849181922525966), (618, 0.02363360188368815), (619, 0.0), (620, 0.021731374218020728), (621, 0.0), (622, 0.007137138376978502), (623, 0.0023314316750602804), (624, 0.0), (625, 0.0), (626, 0.0014935779510406968), (627, 0.003641227602632288), (628, 0.050926808099512735), (629, 0.04784786725964299), (630, 0.0), (631, 0.015671504432709045), (632, 0.020286779437047948), (633, 0.0), (634, 0.0), (635, 0.016792946815267898), (636, 0.0023766609810982886), (637, 0.023875280964145224), (638, 0.03024610969683593), (639, 0.0), (640, 0.0), (641, 0.00694161629030066), (642, 0.0017304843950579326), (643, 0.01779180444909896), (644, 0.0026761561549161874), (645, 0.0), (646, 0.0), (647, 0.0), (648, 0.013398593150445804), (649, 0.0), (650, 0.0), (651, 0.009459585141159797), (652, 0.002590889417980158), (653, 0.005641771652690857), (654, 0.005606049053960158), (655, 0.0019780779859940698), (656, 0.0), (657, 0.04032338862935257), (658, 0.0), (659, 0.0018963976583700139), (660, 0.0021771136771403707), (661, 0.0), (662, 0.0), (663, 0.0), (664, 0.011617912582930387), (665, 0.0), (666, 0.0), (667, 0.0069099434665318765), (668, 0.0036049173717011464), (669, 0.019039641827513467), (670, 0.04287163319967284), (671, 0.007655585591696232), (672, 0.014671051344953227), (673, 0.0023118917316385774), (674, 0.0), (675, 0.00566701409392468), (676, 0.006158089732049545), (677, 0.038161650851986924), (678, 0.0), (679, 0.0), (680, 0.0), (681, 0.0), (682, 0.026450758104754862), (683, 0.005855851997745689), (684, 0.013724425404762836), (685, 0.0), (686, 0.0), (687, 0.0), (688, 0.002565455932941772), (689, 0.009384919389254044), (690, 0.0), (691, 0.04362555907709101), (692, 0.009354628098824638), (693, 0.0027213828159623637), (694, 0.018205058067213658), (695, 0.004840993220418138), (696, 0.002143214535997023), (697, 0.010199343129987364), (698, 0.002113406519767352), (699, 0.0), (700, 0.0), (701, 0.008843355295325046), (702, 0.0), (703, 0.001855000202347258), (704, 0.0), (705, 0.007807459716608404), (706, 0.02115654478447225), (707, 0.0019251714551232195), (708, 0.0), (709, 0.0), (710, 0.0283196919269305), (711, 0.0), (712, 0.002116451650944409), (713, 0.0), (714, 0.0), (715, 0.009289876879099167), (716, 0.002540164362411367), (717, 0.0), (718, 0.0), (719, 0.011662441645875089), (720, 0.0), (721, 0.003184516613124461), (722, 0.0021712750925717505), (723, 0.0), (724, 0.0), (725, 0.0), (726, 0.0), (727, 0.0019791472958211), (728, 0.0022676918567505937), (729, 0.0024183049627363906), (730, 0.0), (731, 0.0), (732, 0.012651313432278544), (733, 0.010166566390103162), (734, 0.016113782530167563), (735, 0.003959000970613967), (736, 0.0), (737, 0.008486695571495229), (738, 0.0), (739, 0.002716530701172563), (740, 0.0), (741, 0.0), (742, 0.00938165824602385), (743, 0.0022120122007347606), (744, 0.0018367219175786462), (745, 0.0), (746, 0.0), (747, 0.0), (748, 0.014997617087780253), (749, 0.0020985550746329866), (750, 0.0021269400454854443), (751, 0.0), (752, 0.016384162844063428), (753, 0.00624473956348074), (754, 0.0), (755, 0.0026620665457260623), (756, 0.0), (757, 0.02193660984078409), (758, 0.007064661735566261), (759, 0.0), (760, 0.007199602232935159), (761, 0.0028645564174392207), (762, 0.023323476063281955), (763, 0.04018766200727161), (764, 0.0), (765, 0.0), (766, 0.00783319814526822), (767, 0.0), (768, 0.03984499345345119), (769, 0.0021832932646640487), (770, 0.0), (771, 0.0), (772, 0.0), (773, 0.0), (774, 0.02085139858119092), (775, 0.019319108661703475), (776, 0.03721816825695624), (777, 0.0), (778, 0.01624748907982223), (779, 0.03491442062188829), (780, 0.0), (781, 0.0), (782, 0.015712080224693326), (783, 0.0028218966848027422), (784, 0.0), (785, 0.0), (786, 0.0), (787, 0.024387760891699722), (788, 0.03689025913184979), (789, 0.0), (790, 0.005286026509022397), (791, 0.0), (792, 0.002389778830429712), (793, 0.0), (794, 0.019526380915236584), (795, 0.018682073185487976), (796, 0.03406851700945675), (797, 0.0), (798, 0.002033726544106065), (799, 0.007710408866860917), (800, 0.007920545356201802), (801, 0.004485446957350068), (802, 0.0), (803, 0.0), (804, 0.0017480128854273152), (805, 0.0), (806, 0.006625581981736149), (807, 0.0), (808, 0.022873925159649616), (809, 0.008121414859827578), (810, 0.0), (811, 0.0), (812, 0.030662101390499373), (813, 0.0025909786397408084), (814, 0.01496612973021118), (815, 0.001816126087014297), (816, 0.0066397433425710636), (817, 0.007722344105760658), (818, 0.07400018042693267), (819, 0.0), (820, 0.0), (821, 0.007991196777150888), (822, 0.0), (823, 0.0), (824, 0.04366065403920328), (825, 0.0), (826, 0.0029190980245482954), (827, 0.005223047921352708), (828, 0.005662262216518769), (829, 0.0053886902367991495), (830, 0.021552576132856965), (831, 0.001401552355786174), (832, 0.04223438398403755), (833, 0.01666104262286467), (834, 0.013050746169663483), (835, 0.012786924317116323), (836, 0.016019899680586817), (837, 0.0), (838, 0.010922865913816459), (839, 0.0), (840, 0.0), (841, 0.0), (842, 0.006971623040743445), (843, 0.006976205660085095), (844, 0.018523558441975015), (845, 0.0), (846, 0.0), (847, 0.021409728166221796), (848, 0.0), (849, 0.0), (850, 0.015693072250261394), (851, 0.0018349359706958804), (852, 0.0021164053726997244), (853, 0.012093745652430973), (854, 0.0021220625643931985), (855, 0.0), (856, 0.0018473931033467766), (857, 0.0026621375394721403), (858, 0.009139415389325955), (859, 0.0), (860, 0.010585316403958475), (861, 0.0018392512067225508), (862, 0.0), (863, 0.0), (864, 0.048706956794344246), (865, 0.0021904348980555273), (866, 0.007336760495629638), (867, 0.016037087129638975), (868, 0.0), (869, 0.005004176736065921), (870, 0.021899529264289702), (871, 0.002523943066544541), (872, 0.002481206450467839), (873, 0.06280195140204264), (874, 0.010355389666253084), (875, 0.0), (876, 0.0030037670592333856), (877, 0.09005000120499644), (878, 0.006409053212781637), (879, 0.007331949427282134), (880, 0.0019806664591846294), (881, 0.0), (882, 0.0), (883, 0.0), (884, 0.0), (885, 0.012280528817294887), (886, 0.002114605854191002), (887, 0.0), (888, 0.0024328281287051934), (889, 0.0), (890, 0.0), (891, 0.0), (892, 0.0), (893, 0.0), (894, 0.0022345883475681696), (895, 0.024831242002578913), (896, 0.008359371724629125), (897, 0.018084024867456493), (898, 0.0), (899, 0.01966732319741777), (900, 0.009329313272948636), (901, 0.0), (902, 0.0), (903, 0.02346925878335685), (904, 0.028116771257069524), (905, 0.00599190008582903), (906, 0.01585072529384654), (907, 0.0021694385815336126), (908, 0.005661446511842411), (909, 0.0), (910, 0.0017108526377604735), (911, 0.05472835617607673), (912, 0.0), (913, 0.0), (914, 0.0), (915, 0.00431966894903166), (916, 0.01636872644312667), (917, 0.016707879988996994), (918, 0.005342866948492666), (919, 0.0), (920, 0.0), (921, 0.015042908109337283), (922, 0.0), (923, 0.002122159730005782), (924, 0.008357620421923149), (925, 0.0032086735745452794), (926, 0.0), (927, 0.0), (928, 0.0), (929, 0.03643447966711777), (930, 0.0021850713192918475), (931, 0.005388893170567283), (932, 0.0), (933, 0.0), (934, 0.025999782512336443), (935, 0.018560531794747953), (936, 0.013661868442569301), (937, 0.010866163055623972), (938, 0.0), (939, 0.0040255837150374495), (940, 0.00967671848828293), (941, 0.0), (942, 0.032267508540679286), (943, 0.0), (944, 0.0020401006137961454), (945, 0.0), (946, 0.0), (947, 0.013117014815683756), (948, 0.0062965023266021375), (949, 0.009621301853870322), (950, 0.0), (951, 0.002115769294094647), (952, 0.04138803450606165), (953, 0.0015115513896278617), (954, 0.0), (955, 0.0), (956, 0.0), (957, 0.02477055319664191), (958, 0.007171449490110222), (959, 0.00195643390266367), (960, 0.0), (961, 0.0), (962, 0.014688656856475846), (963, 0.009529791762149251), (964, 0.0), (965, 0.0), (966, 0.00957144052805224), (967, 0.03467385800222816), (968, 0.03172079355317779), (969, 0.002055313410191582), (970, 0.013101245602608488), (971, 0.0), (972, 0.0), (973, 0.0), (974, 0.0), (975, 0.002123750561600709), (976, 0.04377278920945102), (977, 0.0), (978, 0.0), (979, 0.006853915716114874), (980, 0.00239406721507467), (981, 0.0016927161188301722), (982, 0.0), (983, 0.0), (984, 0.0), (985, 0.0026517332389019814), (986, 0.00973117890709222), (987, 0.0), (988, 0.006749442832924654), (989, 0.007365868532860694), (990, 0.0), (991, 0.002374406850880363), (992, 0.0), (993, 0.0), (994, 0.005242459835503897), (995, 0.0), (996, 0.0), (997, 0.0), (998, 0.0031030704555026186), (999, 0.003080003741723881), (1000, 0.006890545244068294), (1001, 0.0019524253158906561), (1002, 0.0019341173082650645), (1003, 0.04364397071284938), (1004, 0.0), (1005, 0.013488760291293901), (1006, 0.011359091901597382), (1007, 0.002415421370404477), (1008, 0.0), (1009, 0.00950487421618365), (1010, 0.0), (1011, 0.0), (1012, 0.015121964703592797), (1013, 0.0), (1014, 0.010274132571447893), (1015, 0.01668734901960109), (1016, 0.0), (1017, 0.008982916377729026), (1018, 0.009524308331399497), (1019, 0.012045672119275541), (1020, 0.011942768085810032), (1021, 0.048170371352549625), (1022, 0.0), (1023, 0.058900424116081415), (1024, 0.021674833282933518), (1025, 0.0), (1026, 0.0020567260525122667), (1027, 0.0019845400929750963), (1028, 0.0), (1029, 0.0), (1030, 0.06310011714009633), (1031, 0.0), (1032, 0.0), (1033, 0.04050122787636064), (1034, 0.00218632347848352), (1035, 0.00820291139852756), (1036, 0.0), (1037, 0.00719381083703627), (1038, 0.0), (1039, 0.0), (1040, 0.0023808220334540237), (1041, 0.0020513979359608517), (1042, 0.0), (1043, 0.05894580919445694), (1044, 0.002150568157281241), (1045, 0.039360610832437554), (1046, 0.058287344288204035), (1047, 0.0), (1048, 0.007830322777193338), (1049, 0.0032050339847895766), (1050, 0.007236146135141274), (1051, 0.0), (1052, 0.037535050496850804), (1053, 0.010838697366222763), (1054, 0.0), (1055, 0.0), (1056, 0.0), (1057, 0.0), (1058, 0.007062305947968571), (1059, 0.01325972338957143), (1060, 0.0020819922275873504), (1061, 0.0043031417448032095), (1062, 0.0), (1063, 0.018056009483643137), (1064, 0.011152788628872423), (1065, 0.0025385909757361614), (1066, 0.0), (1067, 0.0), (1068, 0.04481503151150984), (1069, 0.00913654654606021), (1070, 0.034109562755877156), (1071, 0.002074428469266432), (1072, 0.0), (1073, 0.0), (1074, 0.019174411074593285), (1075, 0.011126805821005416), (1076, 0.0), (1077, 0.011994521748793428), (1078, 0.001998812843411665), (1079, 0.0019941339725332253), (1080, 0.0018241003506899904), (1081, 0.0), (1082, 0.0), (1083, 0.0028141377140084916), (1084, 0.0021039527552630896), (1085, 0.023210528735258217), (1086, 0.0), (1087, 0.014559675928883247), (1088, 0.001473800703134068), (1089, 0.0), (1090, 0.021805988819300955), (1091, 0.0), (1092, 0.0), (1093, 0.0), (1094, 0.006713318318628722), (1095, 0.026237166974287456), (1096, 0.006880420340839173), (1097, 0.0), (1098, 0.0), (1099, 0.00828101521413609), (1100, 0.0), (1101, 0.0), (1102, 0.002156035581575372), (1103, 0.0), (1104, 0.0), (1105, 0.0), (1106, 0.0), (1107, 0.0018846261790283203), (1108, 0.0), (1109, 0.002428035419592185), (1110, 0.0), (1111, 0.014490136336983265), (1112, 0.033416140897764436), (1113, 0.0), (1114, 0.01951195075920622), (1115, 0.0038937818266852157), (1116, 0.014450483369151095), (1117, 0.0), (1118, 0.043980966341370276), (1119, 0.008772005304477637), (1120, 0.0), (1121, 0.0), (1122, 0.0022740928430118675), (1123, 0.0022987884438469045), (1124, 0.01614908391091685), (1125, 0.010768566655243558), (1126, 0.0), (1127, 0.0), (1128, 0.012819400838036676), (1129, 0.028070085711991828), (1130, 0.0), (1131, 0.0022518792701309164), (1132, 0.015230927283707769), (1133, 0.0), (1134, 0.07629306018030693), (1135, 0.0), (1136, 0.01470720220671096), (1137, 0.00974766862417653), (1138, 0.0019474860317341084), (1139, 0.0), (1140, 0.002339877794221314), (1141, 0.01659047502314309), (1142, 0.0), (1143, 0.0), (1144, 0.011340024385560971), (1145, 0.0), (1146, 0.032599890059362535), (1147, 0.0), (1148, 0.007319232497665563), (1149, 0.0), (1150, 0.0), (1151, 0.0), (1152, 0.029684068493415428), (1153, 0.0), (1154, 0.0), (1155, 0.0), (1156, 0.0), (1157, 0.018115183787902674), (1158, 0.0), (1159, 0.0), (1160, 0.009158623629976034), (1161, 0.002663585067065682), (1162, 0.017859341190911707), (1163, 0.0024411906505006275), (1164, 0.0), (1165, 0.0), (1166, 0.0), (1167, 0.0), (1168, 0.0), (1169, 0.0), (1170, 0.00207861375354293), (1171, 0.0), (1172, 0.006921740863323066), (1173, 0.04432797772280907), (1174, 0.0), (1175, 0.0336965557014607), (1176, 0.00241863778935822), (1177, 0.0022552783364383697), (1178, 0.0), (1179, 0.00230723183246423), (1180, 0.0), (1181, 0.0), (1182, 0.0126497782174245), (1183, 0.00785719150393001), (1184, 0.009553117532319461), (1185, 0.005960406282430065), (1186, 0.014578073466522951), (1187, 0.0031859732177539554), (1188, 0.002493311906604068), (1189, 0.0), (1190, 0.0), (1191, 0.001974734850381218), (1192, 0.015822833846005788), (1193, 0.0), (1194, 0.013488849113999229), (1195, 0.024408718848837874), (1196, 0.0), (1197, 0.0), (1198, 0.0), (1199, 0.0017550018273955895), (1200, 0.0), (1201, 0.0), (1202, 0.031001899304118456), (1203, 0.04705828622179398), (1204, 0.0), (1205, 0.0), (1206, 0.014830861889667746), (1207, 0.0), (1208, 0.0031374897335682446), (1209, 0.0021606047995945767), (1210, 0.0), (1211, 0.0), (1212, 0.0), (1213, 0.0), (1214, 0.0), (1215, 0.014556132544065415), (1216, 0.02947181149812209), (1217, 0.001974128107002784), (1218, 0.0), (1219, 0.0017102732561458478), (1220, 0.01568956749112218), (1221, 0.0), (1222, 0.0), (1223, 0.0022829063154890866), (1224, 0.007289874490495606), (1225, 0.002445528618377174), (1226, 0.007049105371953727), (1227, 0.0), (1228, 0.0), (1229, 0.002098602950799242), (1230, 0.005130684961041204), (1231, 0.004721679488029372), (1232, 0.0076416102704995725), (1233, 0.0), (1234, 0.005450302191037617), (1235, 0.0), (1236, 0.004291656760987111), (1237, 0.005945979004560316), (1238, 0.015074498739271256), (1239, 0.022993663196400154), (1240, 0.0), (1241, 0.046786016335791394), (1242, 0.0), (1243, 0.11739794574339155), (1244, 0.0), (1245, 0.03577890726856133), (1246, 0.0), (1247, 0.0019529228446364196), (1248, 0.06603235275628681), (1249, 0.024175255661269015), (1250, 0.014870595533088058), (1251, 0.001607347552556025), (1252, 0.007084168453825602), (1253, 0.0), (1254, 0.02802015882919486), (1255, 0.00792401580320913), (1256, 0.0), (1257, 0.0286596830699249), (1258, 0.0), (1259, 0.0), (1260, 0.0), (1261, 0.03910689804048655), (1262, 0.00799574071771707), (1263, 0.0), (1264, 0.0033607137609638293), (1265, 0.0), (1266, 0.01673106780885357), (1267, 0.012484014111822896), (1268, 0.0), (1269, 0.0), (1270, 0.03555645706401563), (1271, 0.0), (1272, 0.06481553977202618), (1273, 0.002232660094075107), (1274, 0.03906498360306311), (1275, 0.009303644801564053), (1276, 0.003472729691793296), (1277, 0.0), (1278, 0.02693277531741861), (1279, 0.009925348612562092), (1280, 0.0), (1281, 0.0), (1282, 0.0), (1283, 0.015527327121152401), (1284, 0.0), (1285, 0.0), (1286, 0.0020740505415594974), (1287, 0.0), (1288, 0.0), (1289, 0.0), (1290, 0.009992293782237793), (1291, 0.0), (1292, 0.07191064595598759), (1293, 0.014897978339221669), (1294, 0.0), (1295, 0.0), (1296, 0.0), (1297, 0.0), (1298, 0.0), (1299, 0.0), (1300, 0.003763699982830292), (1301, 0.0), (1302, 0.04442326034985472), (1303, 0.0015725881772336962), (1304, 0.0), (1305, 0.0015274268364958777), (1306, 0.009591071629787664), (1307, 0.014198938841274223), (1308, 0.008855586731726676), (1309, 0.0), (1310, 0.0196160415648455), (1311, 0.02452534900245828), (1312, 0.00644884171903357), (1313, 0.0023176017583573186), (1314, 0.035861941417623146), (1315, 0.0), (1316, 0.014113415851039153), (1317, 0.014179122963420946), (1318, 0.0016148828895958826), (1319, 0.0), (1320, 0.025481575081397007), (1321, 0.0), (1322, 0.0), (1323, 0.0), (1324, 0.0025916559121072543), (1325, 0.0024055627363287866), (1326, 0.0), (1327, 0.013374282536064212), (1328, 0.0), (1329, 0.013202137663098199), (1330, 0.0), (1331, 0.03268023438955875), (1332, 0.0), (1333, 0.0), (1334, 0.007110432722407775), (1335, 0.0019726401655989216), (1336, 0.0), (1337, 0.006911618324361478), (1338, 0.002223420570871708), (1339, 0.005397633440275923), (1340, 0.0021337664083730954), (1341, 0.15359336410144117), (1342, 0.025700346310071915), (1343, 0.006597057485235795), (1344, 0.0), (1345, 0.006382550357880255), (1346, 0.0), (1347, 0.0), (1348, 0.0045816283711467565), (1349, 0.0026164546897904186), (1350, 0.0029010786007213508), (1351, 0.010133732768112285), (1352, 0.0020563551637329354), (1353, 0.0), (1354, 0.0), (1355, 0.0), (1356, 0.001609432378006601), (1357, 0.0017382149542641764), (1358, 0.05486805880806518), (1359, 0.00835150989760711), (1360, 0.006872550754068407), (1361, 0.039428534678114247), (1362, 0.0), (1363, 0.0), (1364, 0.002669402478881911), (1365, 0.03183604592289156), (1366, 0.0), (1367, 0.06172398646413361), (1368, 0.0), (1369, 0.032607594073608095), (1370, 0.001940335624040032), (1371, 0.004740601813518444), (1372, 0.0019981263201943192), (1373, 0.0), (1374, 0.014278855913127329), (1375, 0.0018529073984021509), (1376, 0.013445673518675086), (1377, 0.018331151623430568), (1378, 0.002283844124462234), (1379, 0.06508309732006448), (1380, 0.0), (1381, 0.0), (1382, 0.017669481120835644), (1383, 0.08288407503910462), (1384, 0.02739803665788018), (1385, 0.014003489776369945), (1386, 0.04186126178368847), (1387, 0.005275921235375679), (1388, 0.006547065826293061), (1389, 0.07841045269941749), (1390, 0.0), (1391, 0.0), (1392, 0.0), (1393, 0.07573548632692405), (1394, 0.0017580525752207941), (1395, 0.0), (1396, 0.015512226691363706), (1397, 0.01558125252383315), (1398, 0.020155097383256847), (1399, 0.0), (1400, 0.0024978078532441384), (1401, 0.031196101142361495), (1402, 0.0), (1403, 0.02965792553881057), (1404, 0.0), (1405, 0.05697109830925944), (1406, 0.005199842806040067), (1407, 0.008050370994871756), (1408, 0.002256952308138352), (1409, 0.0), (1410, 0.0022239623856676384), (1411, 0.0), (1412, 0.028775210991405762), (1413, 0.0185616394199611), (1414, 0.0019719686093596254), (1415, 0.0023276860254223242), (1416, 0.0), (1417, 0.014244592969200909), (1418, 0.02349202559407366), (1419, 0.004928416273263393), (1420, 0.014026248579917413), (1421, 0.00218633038960215), (1422, 0.002275399793894531), (1423, 0.0017908362013248644), (1424, 0.0), (1425, 0.01419206528116038), (1426, 0.0), (1427, 0.002126780706566564), (1428, 0.0), (1429, 0.003239057788731155), (1430, 0.0), (1431, 0.0), (1432, 0.005968976314332669), (1433, 0.0), (1434, 0.0), (1435, 0.0), (1436, 0.005063069532999548), (1437, 0.0), (1438, 0.002176684993802007), (1439, 0.0), (1440, 0.005379102378666144), (1441, 0.0), (1442, 0.0037841642470152416), (1443, 0.02755236922663777), (1444, 0.0), (1445, 0.0346076425577365), (1446, 0.009187561898282775), (1447, 0.0), (1448, 0.002247093115624262), (1449, 0.0), (1450, 0.0), (1451, 0.0), (1452, 0.0), (1453, 0.010589915400620738), (1454, 0.0021879632684090786), (1455, 0.0053845141066451545), (1456, 0.0), (1457, 0.0), (1458, 0.0), (1459, 0.0), (1460, 0.0), (1461, 0.008785257478938916), (1462, 0.002050498921583304), (1463, 0.002268939227315703), (1464, 0.060100090810004156), (1465, 0.018729005566380713), (1466, 0.0), (1467, 0.0), (1468, 0.0), (1469, 0.0), (1470, 0.0), (1471, 0.02333719179711667), (1472, 0.002005468402066561), (1473, 0.0), (1474, 0.002676727781846688), (1475, 0.010631458836851168), (1476, 0.0022516810059636837), (1477, 0.008148751267468845), (1478, 0.0018751439952534644), (1479, 0.0), (1480, 0.0), (1481, 0.0019387988738636854), (1482, 0.015781926139174746), (1483, 0.0020421483157857427), (1484, 0.0), (1485, 0.0), (1486, 0.015379111767656245), (1487, 0.0), (1488, 0.0020130781878802285), (1489, 0.0024977904274841355), (1490, 0.0), (1491, 0.0), (1492, 0.04627378602613761), (1493, 0.014738771022218848), (1494, 0.014645419360497026), (1495, 0.0), (1496, 0.0), (1497, 0.0), (1498, 0.0029749568538792446), (1499, 0.0), (1500, 0.051618460350724565), (1501, 0.014494334781367486), (1502, 0.0), (1503, 0.001701414272757045), (1504, 0.0), (1505, 0.04708495111071453), (1506, 0.05728617427849988), (1507, 0.0), (1508, 0.0), (1509, 0.004995519251522898), (1510, 0.029174406084137364), (1511, 0.0), (1512, 0.040887728783688834), (1513, 0.002924570639090836), (1514, 0.016681002831764224), (1515, 0.04905396793839527), (1516, 0.0), (1517, 0.0), (1518, 0.0021617146860101327), (1519, 0.01014359765907647), (1520, 0.0), (1521, 0.0), (1522, 0.0), (1523, 0.033411489398913925), (1524, 0.0), (1525, 0.0), (1526, 0.014856264836287726), (1527, 0.06820135595813394), (1528, 0.0), (1529, 0.0), (1530, 0.0), (1531, 0.0), (1532, 0.0), (1533, 0.001990633049621413), (1534, 0.0), (1535, 0.0), (1536, 0.0), (1537, 0.002538945864715152), (1538, 0.014116673393124257), (1539, 0.015453010150424162), (1540, 0.0), (1541, 0.0), (1542, 0.004885135386241321), (1543, 0.001830482633491968), (1544, 0.03938847335257974), (1545, 0.0), (1546, 0.0), (1547, 0.003184828197775907), (1548, 0.0), (1549, 0.0), (1550, 0.0), (1551, 0.007281075273611143), (1552, 0.0077843564478076305), (1553, 0.006086397285201979), (1554, 0.0), (1555, 0.0), (1556, 0.0), (1557, 0.0), (1558, 0.002327176153004361), (1559, 0.0), (1560, 0.0), (1561, 0.0), (1562, 0.0), (1563, 0.0), (1564, 0.0), (1565, 0.002030961611388529), (1566, 0.0), (1567, 0.012880089232592094), (1568, 0.06373050030250413), (1569, 0.0), (1570, 0.002921723251438926), (1571, 0.01195021405350304), (1572, 0.015276320813522152), (1573, 0.0), (1574, 0.0), (1575, 0.0), (1576, 0.0), (1577, 0.0), (1578, 0.0), (1579, 0.03583357221816891), (1580, 0.0), (1581, 0.0), (1582, 0.0019593403118027446), (1583, 0.016507120492553925), (1584, 0.0), (1585, 0.045021885698204714), (1586, 0.0), (1587, 0.0), (1588, 0.0), (1589, 0.0), (1590, 0.0), (1591, 0.0072290523015880615), (1592, 0.0), (1593, 0.0), (1594, 0.0), (1595, 0.0067821814476902165), (1596, 0.0), (1597, 0.0019356285536037902), (1598, 0.002229699243214505), (1599, 0.0), (1600, 0.0), (1601, 0.0), (1602, 0.0), (1603, 0.0), (1604, 0.0), (1605, 0.0021619124784436933), (1606, 0.0), (1607, 0.0), (1608, 0.0019148702432607166), (1609, 0.03913729177537107), (1610, 0.0), (1611, 0.0), (1612, 0.015489479753362905), (1613, 0.0), (1614, 0.0), (1615, 0.0), (1616, 0.0016742355570215713), (1617, 0.0), (1618, 0.0), (1619, 0.01860972879367803), (1620, 0.00209970269986594), (1621, 0.0075999456144561495), (1622, 0.0), (1623, 0.0), (1624, 0.0016157577035305823), (1625, 0.0), (1626, 0.0), (1627, 0.0021019453538148832), (1628, 0.0026328548996661775), (1629, 0.023054132022755688), (1630, 0.010037542337892584), (1631, 0.0), (1632, 0.0), (1633, 0.0), (1634, 0.0023010709205779183), (1635, 0.0), (1636, 0.0), (1637, 0.0), (1638, 0.0), (1639, 0.0), (1640, 0.0), (1641, 0.0), (1642, 0.0), (1643, 0.0024600369002721594), (1644, 0.007516467007076771), (1645, 0.002252533928549867), (1646, 0.0), (1647, 0.027232815742486486), (1648, 0.05806758562942598), (1649, 0.0), (1650, 0.011817939936134041), (1651, 0.0), (1652, 0.014411105277605005), (1653, 0.002373284121819743), (1654, 0.021302739252819853), (1655, 0.014723529214438478), (1656, 0.0), (1657, 0.0), (1658, 0.013807915992580175), (1659, 0.0), (1660, 0.0), (1661, 0.0), (1662, 0.01209672050949575), (1663, 0.0), (1664, 0.007358534350514505), (1665, 0.007487697653748783), (1666, 0.0018058279468658746), (1667, 0.00211822374644781), (1668, 0.0), (1669, 0.0), (1670, 0.0), (1671, 0.019286539247489028), (1672, 0.0), (1673, 0.0), (1674, 0.0071898671650508), (1675, 0.04162757258918239), (1676, 0.07548153411364149), (1677, 0.0015591344001156238), (1678, 0.01641713238546386), (1679, 0.0), (1680, 0.004781020242347181), (1681, 0.0), (1682, 0.026133548935084926), (1683, 0.0), (1684, 0.013111809104262349), (1685, 0.012767738146101245), (1686, 0.0), (1687, 0.0027031925448815627), (1688, 0.014819264571175212), (1689, 0.0), (1690, 0.008581616001765123), (1691, 0.0), (1692, 0.015264626857947272), (1693, 0.002156515458262024), (1694, 0.004108061245645984), (1695, 0.005821187770104336), (1696, 0.007598511532311614), (1697, 0.0), (1698, 0.0), (1699, 0.0), (1700, 0.0), (1701, 0.009097460552009906), (1702, 0.021728122494391152), (1703, 0.002559286614200754), (1704, 0.0), (1705, 0.005958744509989322), (1706, 0.0023246501741465346), (1707, 0.02588523520934487), (1708, 0.010491113029205341), (1709, 0.0), (1710, 0.01611630153947522), (1711, 0.0033499380104342145), (1712, 0.010118412188864653), (1713, 0.010672359249979628), (1714, 0.01827534652991028), (1715, 0.012415815121870526), (1716, 0.008625338782872728), (1717, 0.002275036670564901), (1718, 0.016486697652525355), (1719, 0.0016951551242722254), (1720, 0.01576259759012814), (1721, 0.022431445075388207), (1722, 0.0024488397282432764), (1723, 0.012181467440726082), (1724, 0.0), (1725, 0.0), (1726, 0.0), (1727, 0.005843725816753385), (1728, 0.0), (1729, 0.0), (1730, 0.009621488518788362), (1731, 0.0), (1732, 0.0), (1733, 0.0), (1734, 0.0), (1735, 0.00548935494959558), (1736, 0.0054997537070435275), (1737, 0.008720939684381743), (1738, 0.0), (1739, 0.006364253138211267), (1740, 0.00226998777101146), (1741, 0.030262169706442694), (1742, 0.0), (1743, 0.007146303011501867), (1744, 0.0023298075473354557), (1745, 0.0), (1746, 0.0068434460564266286), (1747, 0.006823919976041365), (1748, 0.003150195243499746), (1749, 0.013901461751127584), (1750, 0.07326730635421366), (1751, 0.0), (1752, 0.025049736094107565), (1753, 0.0), (1754, 0.0060956193257406), (1755, 0.0), (1756, 0.0), (1757, 0.012544003935876116), (1758, 0.0), (1759, 0.034466718594224746), (1760, 0.001826679825630092), (1761, 0.008103579861215831), (1762, 0.00790779013641494), (1763, 0.015487060661733784), (1764, 0.013638672395574897), (1765, 0.0), (1766, 0.0), (1767, 0.0), (1768, 0.002198301303361622), (1769, 0.0), (1770, 0.019355762081747458), (1771, 0.0), (1772, 0.0), (1773, 0.00823243091512012), (1774, 0.014371147000177706), (1775, 0.0), (1776, 0.004202297180936545), (1777, 0.0), (1778, 0.0), (1779, 0.010192336145203058), (1780, 0.0), (1781, 0.0), (1782, 0.0018078725385911776), (1783, 0.0), (1784, 0.0), (1785, 0.0), (1786, 0.0), (1787, 0.019424338182596035), (1788, 0.04217103966206938), (1789, 0.0), (1790, 0.010895994183896434), (1791, 0.0), (1792, 0.0), (1793, 0.012088498703418602), (1794, 0.0), (1795, 0.06774405082909611), (1796, 0.002185080953203659), (1797, 0.0045198707612500175), (1798, 0.019988790116186907), (1799, 0.015036314070303054), (1800, 0.0), (1801, 0.0), (1802, 0.025562131348833762), (1803, 0.0), (1804, 0.0), (1805, 0.0), (1806, 0.005988878038191059), (1807, 0.01535558203284495), (1808, 0.0), (1809, 0.04093554685381951), (1810, 0.0), (1811, 0.0), (1812, 0.008000060413899656), (1813, 0.0018914660266763862), (1814, 0.0), (1815, 0.006430870437110297), (1816, 0.004151668547451865), (1817, 0.03475093742949117), (1818, 0.01203253896294683), (1819, 0.002057397351639522), (1820, 0.0), (1821, 0.029458004865459814), (1822, 0.0029746953255964494), (1823, 0.0), (1824, 0.0), (1825, 0.0), (1826, 0.0), (1827, 0.0018175470975257237), (1828, 0.0015463481580228304), (1829, 0.0), (1830, 0.0020226272961612135), (1831, 0.0), (1832, 0.006668890986657879), (1833, 0.006525694965204652), (1834, 0.0), (1835, 0.0), (1836, 0.0), (1837, 0.019225211369099906), (1838, 0.03315229055088459), (1839, 0.0), (1840, 0.0), (1841, 0.017141648593644265), (1842, 0.0), (1843, 0.02077615898588377), (1844, 0.0), (1845, 0.04341265098413778), (1846, 0.0), (1847, 0.04717450463096862), (1848, 0.0), (1849, 0.01366958255332577), (1850, 0.0859091164029268), (1851, 0.0025305388266781193), (1852, 0.007655298348324352), (1853, 0.009599987943291526), (1854, 0.0051833403452437275), (1855, 0.0), (1856, 0.0), (1857, 0.0), (1858, 0.006032440016720936), (1859, 0.0), (1860, 0.007128105663838349), (1861, 0.03346095161578303), (1862, 0.0), (1863, 0.006420302512850274), (1864, 0.008864444534175219), (1865, 0.032966804535699244), (1866, 0.002499415524403676), (1867, 0.007304049722443805), (1868, 0.06974214328786162), (1869, 0.0018828605120953831), (1870, 0.023530505659566617), (1871, 0.07009278309193848), (1872, 0.03686938784823128), (1873, 0.007038316011916812), (1874, 0.005941176449180249), (1875, 0.015598265877823713), (1876, 0.016086816547220308), (1877, 0.0), (1878, 0.04807915968433757), (1879, 0.0), (1880, 0.030570188301536787), (1881, 0.0), (1882, 0.002366070102704188), (1883, 0.0), (1884, 0.002045342929829109), (1885, 0.02512397342643634), (1886, 0.0387596014555499), (1887, 0.0), (1888, 0.0), (1889, 0.0), (1890, 0.0), (1891, 0.0022707712792446816), (1892, 0.0026651002213340384), (1893, 0.00254666770068061), (1894, 0.0), (1895, 0.03142272268038362), (1896, 0.0026464880688717215), (1897, 0.01137947027525376), (1898, 0.0), (1899, 0.0), (1900, 0.0), (1901, 0.0), (1902, 0.0024088842995659927), (1903, 0.006033955986288175), (1904, 0.0), (1905, 0.0029560900603263322), (1906, 0.03263632940212431), (1907, 0.002655163627869959), (1908, 0.015936044471895627), (1909, 0.003146931445845212), (1910, 0.0), (1911, 0.014541307798835737), (1912, 0.0), (1913, 0.006911910297615416), (1914, 0.0), (1915, 0.0), (1916, 0.0024559080671342714), (1917, 0.0), (1918, 0.0021780072693398183), (1919, 0.02075024763619793), (1920, 0.014315219487831096), (1921, 0.0), (1922, 0.005874796753875611), (1923, 0.002495955370678759), (1924, 0.002720166254333074), (1925, 0.0), (1926, 0.0), (1927, 0.035967649250938774), (1928, 0.0), (1929, 0.0), (1930, 0.0), (1931, 0.0022835890579076604), (1932, 0.0), (1933, 0.0), (1934, 0.009328080735351438), (1935, 0.04184212848611677), (1936, 0.007612539344865423), (1937, 0.005411436372695072), (1938, 0.0), (1939, 0.0), (1940, 0.0), (1941, 0.0), (1942, 0.015701277536252695), (1943, 0.0018490679449392007), (1944, 0.0), (1945, 0.013695635348302558), (1946, 0.002244860867221418), (1947, 0.0031855173146172174), (1948, 0.01597234470728129), (1949, 0.005353196783614418), (1950, 0.012753974038301807), (1951, 0.019722106408214504), (1952, 0.0), (1953, 0.0), (1954, 0.0), (1955, 0.0), (1956, 0.0), (1957, 0.022617562491989276), (1958, 0.0), (1959, 0.0), (1960, 0.002880439684977451), (1961, 0.0), (1962, 0.0), (1963, 0.0), (1964, 0.0018687354893480244), (1965, 0.0), (1966, 0.0), (1967, 0.006938587486682859), (1968, 0.0024724206542372923), (1969, 0.002137366662922219), (1970, 0.041547782580737665), (1971, 0.005326034859062153), (1972, 0.0), (1973, 0.0), (1974, 0.0), (1975, 0.0), (1976, 0.017864538441553016), (1977, 0.04100132313929061), (1978, 0.0), (1979, 0.0), (1980, 0.0), (1981, 0.0), (1982, 0.02042575303996984), (1983, 0.0020434571984550686), (1984, 0.0), (1985, 0.02306651360448937), (1986, 0.014501491793781884), (1987, 0.0), (1988, 0.02879306367660172), (1989, 0.0015752671226833901), (1990, 0.013838971799267586), (1991, 0.0), (1992, 0.004650021226087043), (1993, 0.0), (1994, 0.12805648953220938), (1995, 0.003251666184860868), (1996, 0.035941380626456104), (1997, 0.013402835655219032), (1998, 0.0), (1999, 0.017448352894608152), (2000, 0.020909720206858665), (2001, 0.0), (2002, 0.0), (2003, 0.0), (2004, 0.0019869791826499597), (2005, 0.026371407889895712), (2006, 0.0), (2007, 0.0), (2008, 0.017099445542149656), (2009, 0.0), (2010, 0.002249376748702712), (2011, 0.050444047206169046), (2012, 0.021316720207569435), (2013, 0.019116499207520645), (2014, 0.018107956433003516), (2015, 0.0), (2016, 0.008659882330168303), (2017, 0.0), (2018, 0.012565921057930111), (2019, 0.0), (2020, 0.027075744139171035), (2021, 0.0), (2022, 0.00999412712202906), (2023, 0.03903896338256655), (2024, 0.00777901551283186), (2025, 0.0), (2026, 0.0524854650322009), (2027, 0.028927761745112714), (2028, 0.0), (2029, 0.002020469147338976), (2030, 0.0), (2031, 0.0018235248219951015), (2032, 0.0), (2033, 0.0), (2034, 0.0020416540000082577), (2035, 0.03235047838182507), (2036, 0.0), (2037, 0.03596133809982437), (2038, 0.0), (2039, 0.0015374370404327804), (2040, 0.01739613935553169), (2041, 0.0), (2042, 0.0), (2043, 0.0), (2044, 0.0), (2045, 0.017038844458719928), (2046, 0.0), (2047, 0.0), (2048, 0.0028796611709854935), (2049, 0.013347223800584954), (2050, 0.0), (2051, 0.013694580843768265), (2052, 0.017963980464155656), (2053, 0.007298979229812175), (2054, 0.0), (2055, 0.031034058671233353), (2056, 0.015425025897566034), (2057, 0.0), (2058, 0.011961373025038854), (2059, 0.0), (2060, 0.0), (2061, 0.0020272575232395825), (2062, 0.013598404635331423), (2063, 0.0), (2064, 0.00897635234479745), (2065, 0.0065246613848080875), (2066, 0.0), (2067, 0.0025982460971544787), (2068, 0.0021105561395002265), (2069, 0.0021408647822680686), (2070, 0.016106976708165098), (2071, 0.0), (2072, 0.0), (2073, 0.0022735654246771623), (2074, 0.01091768825062033), (2075, 0.0034689354845537468), (2076, 0.004319710044818406), (2077, 0.0), (2078, 0.0), (2079, 0.0), (2080, 0.006574352926294594), (2081, 0.0), (2082, 0.022953951814745174), (2083, 0.0024518847210858005), (2084, 0.0), (2085, 0.0), (2086, 0.0), (2087, 0.011763957836675411), (2088, 0.002369755148600795), (2089, 0.003136670141425301), (2090, 0.0), (2091, 0.0026581245919653287), (2092, 0.0), (2093, 0.005731614189893517), (2094, 0.025753857747184486), (2095, 0.007990397480352154), (2096, 0.010972408569404608), (2097, 0.0078015764646649265), (2098, 0.006952726335352294), (2099, 0.0), (2100, 0.016909844473103345), (2101, 0.016247656850958782), (2102, 0.016953953147344065), (2103, 0.016014615596689458), (2104, 0.0023760783036798124), (2105, 0.0024699404316288753), (2106, 0.0), (2107, 0.0), (2108, 0.0030599950551830793), (2109, 0.014518521313738444), (2110, 0.012955417488442887), (2111, 0.0), (2112, 0.03813744619417755), (2113, 0.012766234114051655), (2114, 0.04275738652758672), (2115, 0.0), (2116, 0.013073664185216143), (2117, 0.002112378320963168), (2118, 0.0), (2119, 0.0183259390995947), (2120, 0.0), (2121, 0.009114447222998038), (2122, 0.021939709859012925), (2123, 0.0190177090637403), (2124, 0.0), (2125, 0.0), (2126, 0.005417303919671916), (2127, 0.0020456358302445793), (2128, 0.0), (2129, 0.0), (2130, 0.0), (2131, 0.0021079104087079743), (2132, 0.0017427875102869496), (2133, 0.10048320825960619), (2134, 0.0031591355064923537), (2135, 0.0), (2136, 0.0), (2137, 0.0), (2138, 0.0), (2139, 0.0), (2140, 0.0), (2141, 0.0), (2142, 0.0), (2143, 0.015796075715301457), (2144, 0.017537024423411072), (2145, 0.025317841832065827), (2146, 0.0), (2147, 0.0), (2148, 0.0), (2149, 0.036663704341468234), (2150, 0.0), (2151, 0.0), (2152, 0.0), (2153, 0.0), (2154, 0.014336198409353131), (2155, 0.009557231051099676), (2156, 0.011367261062789166), (2157, 0.015665381031216136), (2158, 0.0), (2159, 0.002986154945048374), (2160, 0.013402512734925064), (2161, 0.034542643583870485), (2162, 0.0026304502587398107), (2163, 0.0), (2164, 0.0), (2165, 0.0), (2166, 0.0), (2167, 0.03860209356809217), (2168, 0.0), (2169, 0.002390787877612802), (2170, 0.0), (2171, 0.0), (2172, 0.0), (2173, 0.0), (2174, 0.018792455276185123), (2175, 0.012195089402877744), (2176, 0.0030485363139673774), (2177, 0.024657625718812578), (2178, 0.0), (2179, 0.0), (2180, 0.0), (2181, 0.0), (2182, 0.0), (2183, 0.0), (2184, 0.0), (2185, 0.010916062130698283), (2186, 0.0), (2187, 0.0), (2188, 0.0027749403059441997), (2189, 0.0), (2190, 0.0), (2191, 0.08599018623812243), (2192, 0.0), (2193, 0.013668250669227461), (2194, 0.0), (2195, 0.0020937130179687763), (2196, 0.004985635811603248), (2197, 0.010630332302885655), (2198, 0.019685846802641405), (2199, 0.003443725908803795), (2200, 0.0), (2201, 0.001993380521948652), (2202, 0.006694994088356906), (2203, 0.011621137709287663), (2204, 0.0), (2205, 0.013379615271106383), (2206, 0.005566124862567019), (2207, 0.02042624474563531), (2208, 0.0), (2209, 0.010238667550776995), (2210, 0.011443885767143638), (2211, 0.014706810244145541), (2212, 0.022765067077003393), (2213, 0.0), (2214, 0.03434756115516128), (2215, 0.0), (2216, 0.0066770578804493655), (2217, 0.0), (2218, 0.0), (2219, 0.0), (2220, 0.0), (2221, 0.04675828470740312), (2222, 0.0), (2223, 0.002991572026109824), (2224, 0.0062985320296689426), (2225, 0.0), (2226, 0.0018850922724144821), (2227, 0.0), (2228, 0.0), (2229, 0.0026966607151571328), (2230, 0.0022448516657158388), (2231, 0.0), (2232, 0.0), (2233, 0.0), (2234, 0.0), (2235, 0.004571626784123896), (2236, 0.010661976502940648), (2237, 0.03259628561486921), (2238, 0.0), (2239, 0.013638295833856139), (2240, 0.0022382911838501095), (2241, 0.0), (2242, 0.0024519717975100704), (2243, 0.0), (2244, 0.014076426601351985), (2245, 0.0), (2246, 0.0), (2247, 0.0), (2248, 0.0), (2249, 0.0), (2250, 0.006216913893493476), (2251, 0.0038005619462501677), (2252, 0.0), (2253, 0.0), (2254, 0.0073386706038338755), (2255, 0.003545339540792795), (2256, 0.0), (2257, 0.0035238987667596585), (2258, 0.0366063693712012), (2259, 0.0), (2260, 0.0030656519136923496), (2261, 0.0), (2262, 0.0), (2263, 0.0), (2264, 0.004436887526906226), (2265, 0.017918381188327594), (2266, 0.00259685613529301), (2267, 0.0), (2268, 0.0), (2269, 0.002262239745572391), (2270, 0.0), (2271, 0.0), (2272, 0.0), (2273, 0.0), (2274, 0.0), (2275, 0.008568273208079978), (2276, 0.019429561013583365), (2277, 0.011434817746531703), (2278, 0.0), (2279, 0.009191952461441544), (2280, 0.0052832430979825205), (2281, 0.0), (2282, 0.0), (2283, 0.0), (2284, 0.005546237330942082), (2285, 0.013159147607936196), (2286, 0.0033646299527727267), (2287, 0.0020081957518333694), (2288, 0.0), (2289, 0.0029439691416324357), (2290, 0.030927976244506834), (2291, 0.012530503755825002), (2292, 0.0), (2293, 0.0), (2294, 0.06303283033379493), (2295, 0.0020597147337067336), (2296, 0.0), (2297, 0.0), (2298, 0.033753870548354256), (2299, 0.0), (2300, 0.0), (2301, 0.03259302188159371), (2302, 0.003090902686689142), (2303, 0.016342404143150364), (2304, 0.0), (2305, 0.0), (2306, 0.011232436786849528), (2307, 0.0), (2308, 0.0), (2309, 0.015564714206233407), (2310, 0.0), (2311, 0.0), (2312, 0.0), (2313, 0.0021713522461042196), (2314, 0.0), (2315, 0.0), (2316, 0.022657577347410432), (2317, 0.0), (2318, 0.04613184286384235), (2319, 0.0021770359040064655), (2320, 0.002336552584771315), (2321, 0.021389394019571833), (2322, 0.0), (2323, 0.0), (2324, 0.0), (2325, 0.0), (2326, 0.0), (2327, 0.0), (2328, 0.0), (2329, 0.0), (2330, 0.0), (2331, 0.0), (2332, 0.0), (2333, 0.0), (2334, 0.00839934574065994), (2335, 0.015780010273582324), (2336, 0.0), (2337, 0.0), (2338, 0.0019451887191028014), (2339, 0.0156377126925997), (2340, 0.0), (2341, 0.0), (2342, 0.0), (2343, 0.0), (2344, 0.0029044790937216335), (2345, 0.0), (2346, 0.00568810382312307), (2347, 0.034583204977418895), (2348, 0.0025081970232010164), (2349, 0.003728998602550256), (2350, 0.003509849733612162), (2351, 0.0), (2352, 0.0), (2353, 0.034769222788658696), (2354, 0.0), (2355, 0.0019422112799145177), (2356, 0.0), (2357, 0.0), (2358, 0.0), (2359, 0.0015536957326413498), (2360, 0.0), (2361, 0.0029774572260813444), (2362, 0.04539340095004193), (2363, 0.0), (2364, 0.0), (2365, 0.0246755354779073), (2366, 0.03106913138885423), (2367, 0.0019231810909940577), (2368, 0.03773843207373493), (2369, 0.0), (2370, 0.0), (2371, 0.024565992601170233), (2372, 0.0), (2373, 0.0), (2374, 0.09363660733727147), (2375, 0.024347365010013187), (2376, 0.02651989570515681), (2377, 0.0), (2378, 0.0), (2379, 0.003777307812624283), (2380, 0.0), (2381, 0.0), (2382, 0.0), (2383, 0.0), (2384, 0.0), (2385, 0.0), (2386, 0.0028367554368951987), (2387, 0.0), (2388, 0.003233228880650928), (2389, 0.0), (2390, 0.002934295153784575), (2391, 0.0024121711040376815), (2392, 0.0), (2393, 0.0023453775397001353), (2394, 0.0029853064408636677), (2395, 0.0), (2396, 0.0), (2397, 0.0020769739779878866), (2398, 0.0), (2399, 0.002057773921352559), (2400, 0.002454199502237557), (2401, 0.0), (2402, 0.002242575075024969), (2403, 0.010480479753527951), (2404, 0.0), (2405, 0.0027338196317227468), (2406, 0.009126277676163402), (2407, 0.0036108333436961466), (2408, 0.0), (2409, 0.0), (2410, 0.0), (2411, 0.0031036287783484744), (2412, 0.00573133262652673), (2413, 0.01568416651146122), (2414, 0.0), (2415, 0.003464000291253337), (2416, 0.0), (2417, 0.03718829136555058), (2418, 0.01722963856499524), (2419, 0.0), (2420, 0.0), (2421, 0.013827182049420619), (2422, 0.0020893652359481605), (2423, 0.0035245225408640788), (2424, 0.0), (2425, 0.0), (2426, 0.014643652541849787), (2427, 0.002346369843675083), (2428, 0.00305037080007312), (2429, 0.0), (2430, 0.0021582771650705355), (2431, 0.0), (2432, 0.0), (2433, 0.0), (2434, 0.0028888842785854377), (2435, 0.0), (2436, 0.017522410152998873), (2437, 0.0031937680367237426), (2438, 0.0034706320484650457), (2439, 0.012050932969952806), (2440, 0.03584805265044208), (2441, 0.0016617672872249539), (2442, 0.0), (2443, 0.04453295501300669), (2444, 0.0), (2445, 0.0), (2446, 0.0), (2447, 0.005379396052511875), (2448, 0.003100445643334075), (2449, 0.011808536612305916), (2450, 0.0), (2451, 0.0), (2452, 0.0), (2453, 0.0017317217589566574), (2454, 0.0), (2455, 0.0), (2456, 0.0), (2457, 0.0021314166356595026), (2458, 0.0), (2459, 0.0024697125693231895), (2460, 0.029906003686265437), (2461, 0.0022151056608546967), (2462, 0.0), (2463, 0.015260623757602978), (2464, 0.007614890309282116), (2465, 0.0), (2466, 0.002824467278683445), (2467, 0.015270510450007976), (2468, 0.012729276422219578), (2469, 0.03533067895677407), (2470, 0.0), (2471, 0.0), (2472, 0.0), (2473, 0.009327068200185393), (2474, 0.02076054943950451), (2475, 0.0032025136598098462), (2476, 0.0), (2477, 0.0024045381022175564), (2478, 0.0031061430717636484), (2479, 0.0), (2480, 0.014296713917954066), (2481, 0.05307087151302814), (2482, 0.0020722945585744165), (2483, 0.0), (2484, 0.043245967492678505), (2485, 0.0), (2486, 0.006084451020576081), (2487, 0.03274868668363973), (2488, 0.0024617276757915485), (2489, 0.008392295745017347), (2490, 0.003871806806187925), (2491, 0.0), (2492, 0.0018165508934759622), (2493, 0.0), (2494, 0.015975207923497537), (2495, 0.0), (2496, 0.0023167763956539337), (2497, 0.0), (2498, 0.0), (2499, 0.0), (2500, 0.0), (2501, 0.018643209698557338), (2502, 0.001721205049314713), (2503, 0.013791913435624267), (2504, 0.0), (2505, 0.010703761074725381), (2506, 0.0), (2507, 0.0), (2508, 0.0), (2509, 0.001780015663507516), (2510, 0.0173280991835115), (2511, 0.0), (2512, 0.006595739564680571), (2513, 0.03435116129922994), (2514, 0.0), (2515, 0.0), (2516, 0.0), (2517, 0.032060029011982176), (2518, 0.0), (2519, 0.0), (2520, 0.001818689577345549), (2521, 0.0), (2522, 0.007970895187297055), (2523, 0.0), (2524, 0.015454680714613481), (2525, 0.0), (2526, 0.00170147386868297), (2527, 0.0017201764899563547), (2528, 0.0018120060426684201), (2529, 0.003927078525677524), (2530, 0.027158112720869515), (2531, 0.002163552164546002), (2532, 0.0), (2533, 0.0), (2534, 0.0006853857924612576), (2535, 0.003204314109477293), (2536, 0.0), (2537, 0.0), (2538, 0.11339754662227683), (2539, 0.0), (2540, 0.019666124138268286), (2541, 0.0), (2542, 0.0), (2543, 0.0), (2544, 0.0), (2545, 0.01003726351473786), (2546, 0.0058017940682335315), (2547, 0.0), (2548, 0.0), (2549, 0.0), (2550, 0.0747196679623055), (2551, 0.0), (2552, 0.0), (2553, 0.03539053065103164), (2554, 0.0024615485454932444), (2555, 0.002781759178432659), (2556, 0.0026055706217241693), (2557, 0.0), (2558, 0.044186095249577687), (2559, 0.003587454092921187), (2560, 0.042782893626557614), (2561, 0.0), (2562, 0.0), (2563, 0.01156928331488413), (2564, 0.0), (2565, 0.01632600390253937), (2566, 0.0), (2567, 0.0), (2568, 0.01625980388844353), (2569, 0.0), (2570, 0.0026848956124138493), (2571, 0.0), (2572, 0.006734451574747928), (2573, 0.0), (2574, 0.0), (2575, 0.0), (2576, 0.0), (2577, 0.0), (2578, 0.0), (2579, 0.03492815207224226), (2580, 0.0016363750102719806), (2581, 0.0), (2582, 0.03940294404405091), (2583, 0.0), (2584, 0.0), (2585, 0.0), (2586, 0.0), (2587, 0.01221820630987523), (2588, 0.0), (2589, 0.0), (2590, 0.0), (2591, 0.0015841272281775687), (2592, 0.0024300785073642587), (2593, 0.002127125252877404), (2594, 0.0), (2595, 0.0), (2596, 0.0), (2597, 0.0), (2598, 0.03120534535904321), (2599, 0.0), (2600, 0.0), (2601, 0.015746982289502005), (2602, 0.007897685394095499), (2603, 0.013248194158907597), (2604, 0.0), (2605, 0.0), (2606, 0.002263937705172442), (2607, 0.014378304839208524), (2608, 0.0), (2609, 0.0023938328907078636), (2610, 0.0), (2611, 0.001730666973289502), (2612, 0.0021713043084774426), (2613, 0.0), (2614, 0.005260587804949935), (2615, 0.0), (2616, 0.0), (2617, 0.003997343121608849), (2618, 0.031273059018073555), (2619, 0.0), (2620, 0.0), (2621, 0.04254665440115464), (2622, 0.03357650272714005), (2623, 0.0032019706807010257), (2624, 0.0), (2625, 0.0024114060745656497), (2626, 0.0), (2627, 0.0), (2628, 0.0), (2629, 0.0028666378527180876), (2630, 0.032055602395605245), (2631, 0.0), (2632, 0.017225172743425415), (2633, 0.016643829345297192), (2634, 0.0019774611098274985), (2635, 0.0), (2636, 0.0), (2637, 0.0), (2638, 0.024226706765256303), (2639, 0.03304016287286955), (2640, 0.012567066024208796), (2641, 0.0), (2642, 0.0018940455516814497), (2643, 0.0036795371799037547), (2644, 0.033342972487183827), (2645, 0.011825379560909715), (2646, 0.010541723208198127), (2647, 0.0351693257889026), (2648, 0.0), (2649, 0.01759905656450024), (2650, 0.03475471594646643), (2651, 0.0), (2652, 0.0020196931536396187), (2653, 0.09995521637884595), (2654, 0.035959899779707406), (2655, 0.0037056991240732515), (2656, 0.0), (2657, 0.0), (2658, 0.0), (2659, 0.0), (2660, 0.007551533749659546), (2661, 0.0028285075803601662), (2662, 0.0), (2663, 0.0), (2664, 0.00310784863082569), (2665, 0.010057882164792226), (2666, 0.0), (2667, 0.0), (2668, 0.015582728311086496), (2669, 0.0), (2670, 0.0), (2671, 0.0), (2672, 0.0), (2673, 0.0), (2674, 0.0026154832888714086), (2675, 0.0), (2676, 0.0), (2677, 0.0), (2678, 0.004364036064090136), (2679, 0.0), (2680, 0.012824893924135272), (2681, 0.0), (2682, 0.0), (2683, 0.0), (2684, 0.0), (2685, 0.0), (2686, 0.0), (2687, 0.017187614467460286), (2688, 0.01831752867424625), (2689, 0.03824594786356276), (2690, 0.0), (2691, 0.016209703852928393), (2692, 1.0000000000000004), (2693, 0.0), (2694, 0.032390469560423976), (2695, 0.0073858618857061496), (2696, 0.0026177093686259425), (2697, 0.0018215580943506699), (2698, 0.01587032968960272), (2699, 0.0), (2700, 0.0), (2701, 0.0), (2702, 0.0031288543821646106), (2703, 0.0), (2704, 0.0), (2705, 0.0030683648052255382), (2706, 0.02785103637816852), (2707, 0.0), (2708, 0.009536564077480318), (2709, 0.0), (2710, 0.016767743320867487), (2711, 0.0), (2712, 0.03312561693986429), (2713, 0.0), (2714, 0.0025031834741808833), (2715, 0.0), (2716, 0.020005858477913988), (2717, 0.0), (2718, 0.012719812163776694), (2719, 0.0), (2720, 0.0), (2721, 0.0), (2722, 0.0), (2723, 0.018178725458640042), (2724, 0.0017495993605133862), (2725, 0.0), (2726, 0.01591209489538159), (2727, 0.007847539174975944), (2728, 0.0), (2729, 0.0), (2730, 0.0), (2731, 0.003610806165489934), (2732, 0.015754480226974944), (2733, 0.0), (2734, 0.0), (2735, 0.0), (2736, 0.018438487406282504), (2737, 0.0), (2738, 0.0), (2739, 0.005233112883549483), (2740, 0.018240224503715707), (2741, 0.0021862192994740754), (2742, 0.017249003205363926), (2743, 0.0025886447843838215), (2744, 0.014211572194841189), (2745, 0.03599447144714038), (2746, 0.0022142918631433573), (2747, 0.001976211120597236), (2748, 0.00320879674767936), (2749, 0.0), (2750, 0.0), (2751, 0.043345885814548006), (2752, 0.0050877621685543), (2753, 0.0), (2754, 0.0), (2755, 0.002337789625943644), (2756, 0.0), (2757, 0.0), (2758, 0.001514858287422029), (2759, 0.01628210324746916), (2760, 0.007956954518013643), (2761, 0.001833304560805749), (2762, 0.052448343948292314), (2763, 0.0), (2764, 0.0038060088585856688), (2765, 0.0), (2766, 0.0014220469768376587), (2767, 0.012012396669714216), (2768, 0.0037523024113958648), (2769, 0.011577563831147726), (2770, 0.0), (2771, 0.0017172894436431893), (2772, 0.0032316314875430333), (2773, 0.0), (2774, 0.00542254881179763), (2775, 0.0036602473269133533), (2776, 0.0028937154949449815), (2777, 0.014911185294237291), (2778, 0.0033132455177305553), (2779, 0.0022553473403511596), (2780, 0.006163499606549224), (2781, 0.0), (2782, 0.017041071940825533), (2783, 0.0), (2784, 0.007649036276441087), (2785, 0.0), (2786, 0.0), (2787, 0.0), (2788, 0.0), (2789, 0.011197587374968202), (2790, 0.0), (2791, 0.04256582390168116), (2792, 0.0), (2793, 0.0), (2794, 0.0), (2795, 0.00963999559255661), (2796, 0.0032010165483388774), (2797, 0.0034125479801898435), (2798, 0.017283441608136017), (2799, 0.0), (2800, 0.0019321051508167002), (2801, 0.0), (2802, 0.001856946353032456), (2803, 0.008022541341411477), (2804, 0.0), (2805, 0.030628287839073964), (2806, 0.0), (2807, 0.06090985107398567), (2808, 0.02137085706351628), (2809, 0.005067478662300643), (2810, 0.0), (2811, 0.0), (2812, 0.011499637524087641), (2813, 0.0), (2814, 0.0), (2815, 0.0), (2816, 0.01616180143864405), (2817, 0.0), (2818, 0.0), (2819, 0.0), (2820, 0.006046952440579793), (2821, 0.00256252285594338), (2822, 0.0), (2823, 0.04701165506675294), (2824, 0.0), (2825, 0.0), (2826, 0.0), (2827, 0.0), (2828, 0.0), (2829, 0.0), (2830, 0.0024753343262942594), (2831, 0.015452440124235287), (2832, 0.0037638941976125702), (2833, 0.0), (2834, 0.002509832204863657), (2835, 0.0), (2836, 0.0), (2837, 0.0), (2838, 0.0026061668181520743), (2839, 0.0), (2840, 0.0021192480447703725), (2841, 0.029640651273193878), (2842, 0.0), (2843, 0.010156461689749591), (2844, 0.011215616795432), (2845, 0.001600666383846422), (2846, 0.0), (2847, 0.0), (2848, 0.0032601172114832084), (2849, 0.0072500287290454875), (2850, 0.0), (2851, 0.0), (2852, 0.0), (2853, 0.0), (2854, 0.002075355024921573), (2855, 0.0), (2856, 0.0), (2857, 0.002530223773929727), (2858, 0.0), (2859, 0.02755190165462196), (2860, 0.0), (2861, 0.0), (2862, 0.0020196543854439333), (2863, 0.0), (2864, 0.0), (2865, 0.0), (2866, 0.0), (2867, 0.038550668633851544), (2868, 0.03251981241752973), (2869, 0.08204808073089329), (2870, 0.0037988143882107988), (2871, 0.005569427270163939), (2872, 0.0031973823991280153), (2873, 0.014054962126644931), (2874, 0.015395539494587718), (2875, 0.0), (2876, 0.055807152325210496), (2877, 0.0), (2878, 0.002106723809833747), (2879, 0.0033485083638528715), (2880, 0.0), (2881, 0.0031249479795110854), (2882, 0.0), (2883, 0.0036686191237057415), (2884, 0.0), (2885, 0.012576469328629096), (2886, 0.008936880253984897), (2887, 0.022251696526523302), (2888, 0.0030665691338243486), (2889, 0.0036357947859307536), (2890, 0.003277778961422551), (2891, 0.0), (2892, 0.0016624470560623907), (2893, 0.032853753101981055), (2894, 0.0022738600737802488), (2895, 0.0), (2896, 0.0), (2897, 0.004591376678557041), (2898, 0.0), (2899, 0.0019843612978041065), (2900, 0.0), (2901, 0.0035883053127262828), (2902, 0.0), (2903, 0.036213440658629026), (2904, 0.0020513990566877445), (2905, 0.0), (2906, 0.0), (2907, 0.0019086486824434826), (2908, 0.036252919441462), (2909, 0.0), (2910, 0.007311013937476133), (2911, 0.002255464028420143), (2912, 0.0), (2913, 0.004720067279489989), (2914, 0.0031946448114994596), (2915, 0.013223086729945316), (2916, 0.0031660025069449485), (2917, 0.022293161312492215), (2918, 0.004983624628336912), (2919, 0.0077537302772716764), (2920, 0.015833817555350117), (2921, 0.0), (2922, 0.0), (2923, 0.0), (2924, 0.002848889217155799), (2925, 0.004885516291470155), (2926, 0.0028867325486038996), (2927, 0.0), (2928, 0.0), (2929, 0.012340514101263854), (2930, 0.0), (2931, 0.022664170462018452), (2932, 0.012111676979056001), (2933, 0.015799180121851195), (2934, 0.009367600986599804), (2935, 0.01399086792059594), (2936, 0.010480166263072657), (2937, 0.0), (2938, 0.0), (2939, 0.007699253527662708), (2940, 0.0), (2941, 0.0), (2942, 0.01181511188317888), (2943, 0.003046527406098557), (2944, 0.05024255766598928), (2945, 0.002124471516286788), (2946, 0.002745525882414853), (2947, 0.0), (2948, 0.0), (2949, 0.0), (2950, 0.0), (2951, 0.0), (2952, 0.0), (2953, 0.0), (2954, 0.0), (2955, 0.0), (2956, 0.0), (2957, 0.0), (2958, 0.0), (2959, 0.0), (2960, 0.0), (2961, 0.009194147580887015), (2962, 0.0), (2963, 0.0), (2964, 0.008076826996510196), (2965, 0.002095508095526731), (2966, 0.0033922958287586355), (2967, 0.0), (2968, 0.0), (2969, 0.022280377417843725), (2970, 0.0), (2971, 0.014977686325520692), (2972, 0.0021197122556798915), (2973, 0.0), (2974, 0.0031234986931160877), (2975, 0.012795072800895958), (2976, 0.00214019529734581), (2977, 0.017606630095012833), (2978, 0.005691530835260957), (2979, 0.0), (2980, 0.01575866345144113), (2981, 0.019231392973750087), (2982, 0.0), (2983, 0.0), (2984, 0.0), (2985, 0.010704555629320127), (2986, 0.0031959768442330113), (2987, 0.0), (2988, 0.010193423779563738), (2989, 0.003816513714112207), (2990, 0.0), (2991, 0.0), (2992, 0.013315156328021098), (2993, 0.0), (2994, 0.0), (2995, 0.04172730305053365), (2996, 0.007613535819774786), (2997, 0.0), (2998, 0.003916492668531243), (2999, 0.0028911646317581956), (3000, 0.035718345758477654), (3001, 0.0), (3002, 0.0), (3003, 0.0), (3004, 0.022172238739954515), (3005, 0.0), (3006, 0.0), (3007, 0.0), (3008, 0.010447342373645392), (3009, 0.0), (3010, 0.01125819496227073), (3011, 0.0), (3012, 0.003235992859078084), (3013, 0.0024767869229956065), (3014, 0.002058070410448801), (3015, 0.003493787959844502), (3016, 0.0), (3017, 0.020808301696977387), (3018, 0.0), (3019, 0.011015412616447914), (3020, 0.0), (3021, 0.0), (3022, 0.0), (3023, 0.03527496287832091), (3024, 0.0017556641104435322), (3025, 0.0), (3026, 0.0), (3027, 0.0016269615646779935), (3028, 0.002115731748645704), (3029, 0.0), (3030, 0.0), (3031, 0.0), (3032, 0.003101457988615548), (3033, 0.014946832747061526), (3034, 0.0), (3035, 0.0), (3036, 0.035262408511155814), (3037, 0.0029932398046734507), (3038, 0.0), (3039, 0.01614496527139096), (3040, 0.0), (3041, 0.0), (3042, 0.0), (3043, 0.007483139902643732), (3044, 0.003080579011939845), (3045, 0.047961887202132174), (3046, 0.01308631578865734), (3047, 0.0), (3048, 0.0), (3049, 0.0), (3050, 0.0026246987683700798), (3051, 0.00378088898643628), (3052, 0.0), (3053, 0.03841993842402027), (3054, 0.0), (3055, 0.0), (3056, 0.0016988385290000248), (3057, 0.0), (3058, 0.0), (3059, 0.0), (3060, 0.0), (3061, 0.0), (3062, 0.003174693985856947), (3063, 0.0), (3064, 0.0), (3065, 0.01056639705847578), (3066, 0.007690343313016843), (3067, 0.0177574316072724), (3068, 0.0), (3069, 0.0), (3070, 0.004543068052664232), (3071, 0.0019760229040079375), (3072, 0.003282733718155983), (3073, 0.0), (3074, 0.0034497306063553143), (3075, 0.0028808273171365443), (3076, 0.0028637146019527), (3077, 0.0), (3078, 0.0), (3079, 0.0), (3080, 0.0), (3081, 0.0033613105934199813), (3082, 0.0), (3083, 0.011243300861102893), (3084, 0.0), (3085, 0.01291885920821286), (3086, 0.007979041380571776), (3087, 0.0), (3088, 0.0), (3089, 0.0), (3090, 0.0), (3091, 0.04542611453399369), (3092, 0.0), (3093, 0.0), (3094, 0.013667865212776898), (3095, 0.021689896989551875), (3096, 0.01379584200454869), (3097, 0.0024113034290439905), (3098, 0.03421328374680512), (3099, 0.004820057702682738), (3100, 0.0), (3101, 0.0), (3102, 0.07359185737665619), (3103, 0.0), (3104, 0.0), (3105, 0.0), (3106, 0.0), (3107, 0.0), (3108, 0.012868715103335943), (3109, 0.0), (3110, 0.005328295842406661), (3111, 0.03422657490485366), (3112, 0.0029591467955748436), (3113, 0.0), (3114, 0.01320083768355541), (3115, 0.0), (3116, 0.0022217907390467938), (3117, 0.0), (3118, 0.005657600447757226), (3119, 0.008838585426559322), (3120, 0.001847845489005062), (3121, 0.0), (3122, 0.002127228235425723), (3123, 0.0032422770645430784), (3124, 0.0), (3125, 0.0021948207476983127), (3126, 0.0), (3127, 0.053765423787017284), (3128, 0.0), (3129, 0.025697110279427192), (3130, 0.0), (3131, 0.0), (3132, 0.0), (3133, 0.0), (3134, 0.0), (3135, 0.0), (3136, 0.0), (3137, 0.0016927061467809704), (3138, 0.0), (3139, 0.0), (3140, 0.002663737931225774), (3141, 0.0), (3142, 0.005561577349461772), (3143, 0.0), (3144, 0.03856455260422075), (3145, 0.0), (3146, 0.002996972079174574), (3147, 0.002026596402475095), (3148, 0.003065974318139061), (3149, 0.0), (3150, 0.0), (3151, 0.014628646514101732), (3152, 0.0140459232801659), (3153, 0.03935522398861107), (3154, 0.01671521851827069), (3155, 0.005780673165468753), (3156, 0.015264375444678116), (3157, 0.06077937639418541), (3158, 0.0), (3159, 0.0), (3160, 0.0), (3161, 0.0), (3162, 0.0), (3163, 0.0), (3164, 0.010227096870502758), (3165, 0.0032282062121268113), (3166, 0.003477727523795885), (3167, 0.012830820512262473), (3168, 0.0), (3169, 0.0), (3170, 0.0026980775693192026), (3171, 0.009006343282184267), (3172, 0.0), (3173, 0.0), (3174, 0.0), (3175, 0.0), (3176, 0.0), (3177, 0.0), (3178, 0.004197478073285085), (3179, 0.0), (3180, 0.0), (3181, 0.0), (3182, 0.0021188880960298345), (3183, 0.0023484958983229732), (3184, 0.0024782661191673403), (3185, 0.0), (3186, 0.0), (3187, 0.0027135891084200084), (3188, 0.0), (3189, 0.0), (3190, 0.0), (3191, 0.0), (3192, 0.0060272867178215875), (3193, 0.0), (3194, 0.002100399425764621), (3195, 0.00251106698697985), (3196, 0.0026851987238922462), (3197, 0.0), (3198, 0.002559749239559804), (3199, 0.0015847143042667833), (3200, 0.0018960705524611583), (3201, 0.0), (3202, 0.0), (3203, 0.03619337234565616), (3204, 0.0), (3205, 0.010427800746535702), (3206, 0.0), (3207, 0.0), (3208, 0.0), (3209, 0.0507066726328647), (3210, 0.00856782983756388), (3211, 0.0), (3212, 0.0), (3213, 0.023755029738039637), (3214, 0.0024544649902241878), (3215, 0.011277881676488983), (3216, 0.0), (3217, 0.0), (3218, 0.014916838531014519), (3219, 0.002912976173163984), (3220, 0.0017274536678516066), (3221, 0.0), (3222, 0.04549302554406749), (3223, 0.0), (3224, 0.0), (3225, 0.0), (3226, 0.02428281122413366), (3227, 0.0018285963421173891), (3228, 0.019579877779761518), (3229, 0.0), (3230, 0.0), (3231, 0.0), (3232, 0.004112752392146318), (3233, 0.002399376078377126), (3234, 0.0020469884374686624), (3235, 0.0023157412628414384), (3236, 0.0), (3237, 0.01592831508485412), (3238, 0.0), (3239, 0.0), (3240, 0.015413987880523922), (3241, 0.0022920743223034824), (3242, 0.0), (3243, 0.0), (3244, 0.012760635982442703), (3245, 0.0067162250174879696), (3246, 0.013490966527834271), (3247, 0.0), (3248, 0.022814808375778206), (3249, 0.030875693929197322), (3250, 0.0), (3251, 0.0), (3252, 0.0), (3253, 0.025008572145014545), (3254, 0.0019273501688573237), (3255, 0.024558945581880688), (3256, 0.016619892911405032), (3257, 0.0038441695788959266), (3258, 0.0031112096551505117), (3259, 0.005834997684598924), (3260, 0.014230573614287848), (3261, 0.0), (3262, 0.003753885515199773), (3263, 0.0), (3264, 0.014902139907027795), (3265, 0.014800816751092549), (3266, 0.0), (3267, 0.0037990081499866763), (3268, 0.002737246320765464), (3269, 0.0), (3270, 0.0), (3271, 0.0), (3272, 0.0), (3273, 0.002572027884226753), (3274, 0.003158544839984477), (3275, 0.009612331672124705), (3276, 0.03094436272143191), (3277, 0.0), (3278, 0.002144564460439854), (3279, 0.027727756340948723), (3280, 0.01949796758266372), (3281, 0.0), (3282, 0.002787380574093846), (3283, 0.0), (3284, 0.022121982051980075), (3285, 0.050146800873354776), (3286, 0.0), (3287, 0.0), (3288, 0.007755488257222895), (3289, 0.0), (3290, 0.0), (3291, 0.003909277511054408), (3292, 0.0), (3293, 0.0022338172598386514), (3294, 0.05150647256485553), (3295, 0.0361229392337493), (3296, 0.0031352640088246515), (3297, 0.006815414579027385), (3298, 0.002011055614990328), (3299, 0.024734607331218735), (3300, 0.0022280191967540427), (3301, 0.002322831627458189), (3302, 0.002354616331654489), (3303, 0.001965690271640697), (3304, 0.002242105758767876), (3305, 0.0), (3306, 0.008041034324867163), (3307, 0.0), (3308, 0.002709982035263555), (3309, 0.008799449588218817), (3310, 0.0), (3311, 0.002012855958726648), (3312, 0.005922413544446943), (3313, 0.05384044939451185), (3314, 0.002117685150695599), (3315, 0.018477075097739475), (3316, 0.010102537578721326), (3317, 0.006724016122693863), (3318, 0.001850533412169942), (3319, 0.012703696906162503), (3320, 0.0), (3321, 0.0), (3322, 0.0), (3323, 0.0), (3324, 0.0), (3325, 0.002619803135510577), (3326, 0.0024627018912677864), (3327, 0.001927185123986529), (3328, 0.021911815804239794), (3329, 0.006077398827081195), (3330, 0.0022804807433580037), (3331, 0.0017333033422639687), (3332, 0.0), (3333, 0.0), (3334, 0.03480303601052748), (3335, 0.0), (3336, 0.0), (3337, 0.0), (3338, 0.0), (3339, 0.0), (3340, 0.0), (3341, 0.0), (3342, 0.0019988990657389574), (3343, 0.0), (3344, 0.03952838916019303), (3345, 0.0463063206584499), (3346, 0.009827680341053906), (3347, 0.0019193464714480743), (3348, 0.0), (3349, 0.0028985483721490285), (3350, 0.0), (3351, 0.01771166303924042), (3352, 0.04048580289846198), (3353, 0.002204825179412966), (3354, 0.0), (3355, 0.0032489254084399313), (3356, 0.024526511705428578), (3357, 0.002609648161536117), (3358, 0.0), (3359, 0.00324661615325318), (3360, 0.025236757641006958), (3361, 0.0), (3362, 0.027465616685389486), (3363, 0.0029170236581206187), (3364, 0.0023468895505087523), (3365, 0.0015800439810349106), (3366, 0.0), (3367, 0.0), (3368, 0.0), (3369, 0.0), (3370, 0.005981785856986322), (3371, 0.0), (3372, 0.0), (3373, 0.012977238024852419), (3374, 0.04532452781527821), (3375, 0.031867604474400235), (3376, 0.05807580716229284), (3377, 0.04338156842054636), (3378, 0.0), (3379, 0.002394491489881386), (3380, 0.0016976744750224317), (3381, 0.0), (3382, 0.004917608240564052), (3383, 0.0), (3384, 0.017457741109150215), (3385, 0.03442266076874607), (3386, 0.017743707585260275), (3387, 0.016712238496133784), (3388, 0.0023839182970040148), (3389, 0.014194750156647038), (3390, 0.0), (3391, 0.0030315164350430183), (3392, 0.0), (3393, 0.0016987372618751007), (3394, 0.0), (3395, 0.04959108012672232), (3396, 0.0), (3397, 0.0), (3398, 0.0), (3399, 0.015524160219839277), (3400, 0.0), (3401, 0.0), (3402, 0.0022802654076395723), (3403, 0.01482971925655859), (3404, 0.0), (3405, 0.0), (3406, 0.002512948912431501), (3407, 0.016286095187158), (3408, 0.026278662496023925), (3409, 0.014471167237297487), (3410, 0.009505595341451479), (3411, 0.0), (3412, 0.0), (3413, 0.0031903777205351813), (3414, 0.0), (3415, 0.0), (3416, 0.016255270621349932), (3417, 0.0030137578606677755), (3418, 0.004715319108255946), (3419, 0.0), (3420, 0.04181199439122025), (3421, 0.028108811089985142), (3422, 0.0), (3423, 0.010706361901740536), (3424, 0.0), (3425, 0.002521661916447788), (3426, 0.013766763959616074), (3427, 0.022486457283894843), (3428, 0.012565481224543797), (3429, 0.0), (3430, 0.039838482717147246), (3431, 0.0), (3432, 0.0), (3433, 0.03585456453750007), (3434, 0.0), (3435, 0.002173970022898031), (3436, 0.0023295200792206754), (3437, 0.008635307323303767), (3438, 0.0), (3439, 0.0), (3440, 0.0), (3441, 0.0), (3442, 0.0), (3443, 0.0), (3444, 0.0), (3445, 0.0023738505702683367), (3446, 0.043720813232302994), (3447, 0.050542620174109765), (3448, 0.0), (3449, 0.002239624650179453), (3450, 0.03956490517043292), (3451, 0.0), (3452, 0.0), (3453, 0.006935868477395842), (3454, 0.0), (3455, 0.0), (3456, 0.007661444620837646), (3457, 0.015919478261935505), (3458, 0.008168172098144376), (3459, 0.0), (3460, 0.0018480821923003287), (3461, 0.0), (3462, 0.03671492422811486), (3463, 0.07980305996578557), (3464, 0.0), (3465, 0.005707379491305251), (3466, 0.03128894332295629), (3467, 0.0), (3468, 0.0), (3469, 0.04431665639488336), (3470, 0.01951643928411908), (3471, 0.04134750873039845), (3472, 0.0), (3473, 0.0), (3474, 0.0018081260354507554), (3475, 0.0), (3476, 0.0), (3477, 0.0018475635896096393), (3478, 0.0), (3479, 0.0035529209055772753), (3480, 0.09316348460242202), (3481, 0.0), (3482, 0.0), (3483, 0.02277456512084062), (3484, 0.0), (3485, 0.0), (3486, 0.021790142876317763), (3487, 0.0021104522063068376), (3488, 0.018002194981172503), (3489, 0.0), (3490, 0.0), (3491, 0.0), (3492, 0.04280179998089373), (3493, 0.002731786793118443), (3494, 0.0), (3495, 0.0), (3496, 0.002552630408609281), (3497, 0.0), (3498, 0.06672084719106514), (3499, 0.0), (3500, 0.0025073853772676616), (3501, 0.0028557210037323667), (3502, 0.0), (3503, 0.0018134617162977136), (3504, 0.020351639320817575), (3505, 0.0), (3506, 0.002066349433655838), (3507, 0.0), (3508, 0.014598556132200822), (3509, 0.011528113110900738), (3510, 0.0), (3511, 0.02358829152645384), (3512, 0.0044379671620200616), (3513, 0.0), (3514, 0.0), (3515, 0.014091783645648021), (3516, 0.0022729351419479185), (3517, 0.0), (3518, 0.0471523338158434), (3519, 0.0), (3520, 0.0), (3521, 0.0032898163152715594), (3522, 0.0), (3523, 0.0), (3524, 0.012347471612779774), (3525, 0.0), (3526, 0.002490566389765139), (3527, 0.002927228149493782), (3528, 0.03865918277872662), (3529, 0.0), (3530, 0.0), (3531, 0.0), (3532, 0.0), (3533, 0.0), (3534, 0.0017798831966049076), (3535, 0.00770671557793918), (3536, 0.01549857034225152), (3537, 0.0), (3538, 0.0), (3539, 0.0), (3540, 0.0), (3541, 0.017707362593583888), (3542, 0.002798795072072019), (3543, 0.0), (3544, 0.0), (3545, 0.0), (3546, 0.0016039619797870376), (3547, 0.0), (3548, 0.0), (3549, 0.0), (3550, 0.0), (3551, 0.002227904578518264), (3552, 0.03406952644124969), (3553, 0.021736139790840797), (3554, 0.0), (3555, 0.0), (3556, 0.054089775368549024), (3557, 0.00236883266987617), (3558, 0.02559642746447321), (3559, 0.01687139519806249), (3560, 0.0027446262030601846), (3561, 0.0), (3562, 0.0), (3563, 0.0037764952415470536), (3564, 0.0022003965918136244), (3565, 0.0), (3566, 0.01260414007744055), (3567, 0.0), (3568, 0.0), (3569, 0.0016746766433791524), (3570, 0.0), (3571, 0.0022352725064972464), (3572, 0.01914863854804588), (3573, 0.0), (3574, 0.014595382606823014), (3575, 0.0019855634256858885), (3576, 0.0), (3577, 0.002266444721991158), (3578, 0.0), (3579, 0.01303689135761055), (3580, 0.03170179456387018), (3581, 0.0), (3582, 0.005293765556752321), (3583, 0.0), (3584, 0.0), (3585, 0.0), (3586, 0.005862123569648695), (3587, 0.0), (3588, 0.0), (3589, 0.0), (3590, 0.0031193376331299445), (3591, 0.0), (3592, 0.0), (3593, 0.0), (3594, 0.013441686664695739), (3595, 0.0), (3596, 0.008188999594678233), (3597, 0.037169156440594965), (3598, 0.01374987176366743), (3599, 0.008811153342447486), (3600, 0.0), (3601, 0.0023484823184763684), (3602, 0.0), (3603, 0.0), (3604, 0.0), (3605, 0.0), (3606, 0.0), (3607, 0.0), (3608, 0.0), (3609, 0.0), (3610, 0.0), (3611, 0.0), (3612, 0.007208029645063535), (3613, 0.003462901030350407), (3614, 0.0019049793603080662), (3615, 0.0), (3616, 0.0), (3617, 0.0), (3618, 0.00253460354530489), (3619, 0.0), (3620, 0.0033227482044854554), (3621, 0.0), (3622, 0.0), (3623, 0.002459483275564402), (3624, 0.0024310262390282653), (3625, 0.0), (3626, 0.0016872519211561501), (3627, 0.0), (3628, 0.0), (3629, 0.0), (3630, 0.03123535757204843), (3631, 0.0), (3632, 0.008238715947818751), (3633, 0.0), (3634, 0.009355676135532735), (3635, 0.0036363527122368826), (3636, 0.0), (3637, 0.005955741848914384), (3638, 0.0023700358567454367), (3639, 0.002435191272613834), (3640, 0.0027993272837781033), (3641, 0.0021988976633869287), (3642, 0.0060843870415791985), (3643, 0.017227632381915717), (3644, 0.0), (3645, 0.005514962727833653), (3646, 0.0021732656588338913), (3647, 0.0), (3648, 0.015028457722890095), (3649, 0.0), (3650, 0.0), (3651, 0.0), (3652, 0.026534045172637664), (3653, 0.002471526889196319), (3654, 0.0023080386572994806), (3655, 0.059811206877852255), (3656, 0.018175195079376483), (3657, 0.0019503929232063395), (3658, 0.0), (3659, 0.005667710525526365), (3660, 0.002171437828653118), (3661, 0.010507582128492813), (3662, 0.0), (3663, 0.0), (3664, 0.0), (3665, 0.039034437541380425), (3666, 0.0024550750098134644), (3667, 0.014150413853821549), (3668, 0.0), (3669, 0.0021932866921421245), (3670, 0.0049647188499490165), (3671, 0.0), (3672, 0.0), (3673, 0.0022412540631922932), (3674, 0.0), (3675, 0.011237494850570027), (3676, 0.0), (3677, 0.0), (3678, 0.0), (3679, 0.0), (3680, 0.0031523948804193453), (3681, 0.0), (3682, 0.0), (3683, 0.0), (3684, 0.0324146186596234), (3685, 0.0), (3686, 0.0), (3687, 0.0), (3688, 0.0), (3689, 0.0168647990214869), (3690, 0.0), (3691, 0.0), (3692, 0.04215827055013235), (3693, 0.0), (3694, 0.00920820843865274), (3695, 0.0), (3696, 0.00205031794155829), (3697, 0.0), (3698, 0.0), (3699, 0.0050754348347269215), (3700, 0.0), (3701, 0.0), (3702, 0.0), (3703, 0.0), (3704, 0.0029536673880304607), (3705, 0.0018639079644381452), (3706, 0.002122303185682237), (3707, 0.0027799229972630787), (3708, 0.006309193458794232), (3709, 0.0), (3710, 0.0), (3711, 0.0328171894948145), (3712, 0.0), (3713, 0.0073168309824837), (3714, 0.0), (3715, 0.0), (3716, 0.0), (3717, 0.0), (3718, 0.0), (3719, 0.0), (3720, 0.01836294280797222), (3721, 0.0), (3722, 0.0), (3723, 0.0), (3724, 0.0), (3725, 0.0), (3726, 0.0), (3727, 0.0027690891554721314), (3728, 0.13014888968336685), (3729, 0.0), (3730, 0.0), (3731, 0.026734822201901265), (3732, 0.0), (3733, 0.016849483665980613), (3734, 0.0023656992799961133), (3735, 0.0), (3736, 0.0), (3737, 0.0), (3738, 0.0), (3739, 0.00188551325666279), (3740, 0.0), (3741, 0.005876211865602687), (3742, 0.0019734289572511964), (3743, 0.0), (3744, 0.0), (3745, 0.003149023752893162), (3746, 0.0), (3747, 0.01701643406327203), (3748, 0.010979693775437033), (3749, 0.0029753986270116637), (3750, 0.02623967599387014), (3751, 0.020059655497941992), (3752, 0.01142300995642782), (3753, 0.025655982725650086), (3754, 0.002352635642888981), (3755, 0.00250551080216763), (3756, 0.005478904110743665), (3757, 0.0), (3758, 0.0), (3759, 0.0), (3760, 0.0), (3761, 0.0), (3762, 0.0), (3763, 0.0028127951595664593), (3764, 0.0), (3765, 0.0020984551577597457), (3766, 0.0028155759293743833), (3767, 0.015297496896581855), (3768, 0.0), (3769, 0.0), (3770, 0.0), (3771, 0.0024705511456525075), (3772, 0.0027812947436236315), (3773, 0.0), (3774, 0.0), (3775, 0.0), (3776, 0.0), (3777, 0.007630485762867182), (3778, 0.041451948771799176), (3779, 0.03424224378982754), (3780, 0.0023789314555845873), (3781, 0.0), (3782, 0.0), (3783, 0.0), (3784, 0.01684998446722975), (3785, 0.0), (3786, 0.0), (3787, 0.0), (3788, 0.0), (3789, 0.0), (3790, 0.0), (3791, 0.0), (3792, 0.0), (3793, 0.02292234276420961), (3794, 0.004746016456222337), (3795, 0.0), (3796, 0.0), (3797, 0.0195734545210633), (3798, 0.0), (3799, 0.0027470326272528082), (3800, 0.0), (3801, 0.028305080077774332), (3802, 0.0), (3803, 0.0), (3804, 0.0), (3805, 0.0), (3806, 0.0), (3807, 0.0022274491361856893), (3808, 0.0), (3809, 0.0028313270634955294), (3810, 0.04449819377197779), (3811, 0.002041857288754118), (3812, 0.0), (3813, 0.0024087449143404315), (3814, 0.0), (3815, 0.0), (3816, 0.0), (3817, 0.0), (3818, 0.0), (3819, 0.0024061121748435443), (3820, 0.0), (3821, 0.012075013650990476), (3822, 0.01775749311919214), (3823, 0.0), (3824, 0.0), (3825, 0.013739811490857373), (3826, 0.014356345989658594), (3827, 0.0030596715537231606), (3828, 0.011368854236241953), (3829, 0.013636628112092115), (3830, 0.0), (3831, 0.0), (3832, 0.003417639875788302), (3833, 0.0), (3834, 0.0), (3835, 0.051874557748746865), (3836, 0.0), (3837, 0.0), (3838, 0.0), (3839, 0.03888698668293407), (3840, 0.0), (3841, 0.0), (3842, 0.00498714147072366), (3843, 0.0), (3844, 0.0), (3845, 0.0026089023300559515), (3846, 0.0), (3847, 0.0), (3848, 0.0), (3849, 0.0), (3850, 0.01760140255229238), (3851, 0.0), (3852, 0.0137704107357248), (3853, 0.03261452144258039), (3854, 0.007603128826061503), (3855, 0.0016653489519490743), (3856, 0.0), (3857, 0.03564517043315943), (3858, 0.0), (3859, 0.0), (3860, 0.004474728090117261), (3861, 0.032530029029972714), (3862, 0.0068689737608527614), (3863, 0.0), (3864, 0.014134527452639541), (3865, 0.012181906115699265), (3866, 0.002942761361263128), (3867, 0.025004139133075594), (3868, 0.014024871950866616), (3869, 0.0), (3870, 0.0), (3871, 0.016843524859576384), (3872, 0.0), (3873, 0.0028153190927633636), (3874, 0.0), (3875, 0.030686531340299635), (3876, 0.0022388733631069353), (3877, 0.0), (3878, 0.0), (3879, 0.0), (3880, 0.015544176259572866), (3881, 0.0), (3882, 0.0025367372599678956), (3883, 0.0025146966964747636), (3884, 0.0), (3885, 0.0), (3886, 0.0), (3887, 0.0), (3888, 0.0023146998580638634), (3889, 0.0), (3890, 0.0020342895068185345), (3891, 0.0), (3892, 0.0034896190054293777), (3893, 0.002637202909687496), (3894, 0.0), (3895, 0.035235268100904875), (3896, 0.0), (3897, 0.0), (3898, 0.002626335488012715), (3899, 0.0), (3900, 0.0027458687855669885), (3901, 0.0029385559301296233), (3902, 0.0029865103387737616), (3903, 0.019020418765782903), (3904, 0.021459203981995734), (3905, 0.0), (3906, 0.0), (3907, 0.0), (3908, 0.0), (3909, 0.015239428080446453), (3910, 0.0019956243403360338), (3911, 0.0), (3912, 0.0), (3913, 0.012581367211776615), (3914, 0.0), (3915, 0.002434477423737279), (3916, 0.0), (3917, 0.0026524710851177783), (3918, 0.0), (3919, 0.011231220538488993), (3920, 0.0027253897540391887), (3921, 0.0), (3922, 0.003531868870103013), (3923, 0.013862594968120675), (3924, 0.008282320284428771), (3925, 0.00402623977495365), (3926, 0.01439574113329876), (3927, 0.045996931102639076), (3928, 0.00240944699431554), (3929, 0.0), (3930, 0.0), (3931, 0.0), (3932, 0.00424490835396787), (3933, 0.0), (3934, 0.048307045157710476), (3935, 0.0), (3936, 0.0), (3937, 0.0), (3938, 0.0), (3939, 0.0), (3940, 0.010882659061234718), (3941, 0.00483525411619558), (3942, 0.0), (3943, 0.0), (3944, 0.0), (3945, 0.0), (3946, 0.04013280437364532), (3947, 0.02280061217852537), (3948, 0.0), (3949, 0.0), (3950, 0.0), (3951, 0.019023976826259063), (3952, 0.0032473693378997407), (3953, 0.002256806387701321), (3954, 0.017694882228836997), (3955, 0.08779420000932595), (3956, 0.001765096245707803), (3957, 0.011845079397642424), (3958, 0.03312382864152963), (3959, 0.008227285915039826), (3960, 0.0024867627170128853), (3961, 0.04425458419281844), (3962, 0.0026570928285220823), (3963, 0.0), (3964, 0.0), (3965, 0.0), (3966, 0.0), (3967, 0.0), (3968, 0.0), (3969, 0.0), (3970, 0.0), (3971, 0.0), (3972, 0.0), (3973, 0.03977571836879619), (3974, 0.047787084803298255), (3975, 0.0), (3976, 0.039397389718133044), (3977, 0.0), (3978, 0.011296305810519058), (3979, 0.0), (3980, 0.0), (3981, 0.0), (3982, 0.0), (3983, 0.025616712660179577), (3984, 0.0023240415451578995), (3985, 0.0), (3986, 0.0), (3987, 0.0), (3988, 0.0), (3989, 0.0), (3990, 0.003661263027487525), (3991, 0.0), (3992, 0.008659216961971524), (3993, 0.004666131567096255), (3994, 0.0), (3995, 0.0), (3996, 0.0), (3997, 0.0), (3998, 0.006528485451125182), (3999, 0.0), (4000, 0.005868555432743002), (4001, 0.014506769436437493), (4002, 0.0), (4003, 0.0), (4004, 0.04139583841123607), (4005, 0.01992063891520677), (4006, 0.0), (4007, 0.018764177396045047), (4008, 0.016444202617126154), (4009, 0.012877128105185758), (4010, 0.0), (4011, 0.0021664024897156972), (4012, 0.039038699708986414), (4013, 0.0), (4014, 0.0029528122143591966), (4015, 0.0), (4016, 0.038041277085580125), (4017, 0.0), (4018, 0.0), (4019, 0.0), (4020, 0.0020059385813593488), (4021, 0.0), (4022, 0.0), (4023, 0.040785825131625174), (4024, 0.0023333020519973697), (4025, 0.017725483116851744), (4026, 0.0), (4027, 0.0), (4028, 0.021225163112473952), (4029, 0.0), (4030, 0.0), (4031, 0.0), (4032, 0.014435030514109281), (4033, 0.002055394363545516), (4034, 0.0), (4035, 0.022633782372993762), (4036, 0.0022797082124163376), (4037, 0.0), (4038, 0.0022448858001433343), (4039, 0.0), (4040, 0.0), (4041, 0.0), (4042, 0.0), (4043, 0.0), (4044, 0.0), (4045, 0.0), (4046, 0.002418620923311552), (4047, 0.0), (4048, 0.007292144807912813), (4049, 0.0), (4050, 0.04004206358376586), (4051, 0.0025359123635996534), (4052, 0.00975386915581905), (4053, 0.03428649844493882), (4054, 0.002099080692730794), (4055, 0.012613069071758609), (4056, 0.0025173517887307744), (4057, 0.012756602276383222), (4058, 0.0), (4059, 0.0), (4060, 0.005491533692212623), (4061, 0.014327100306563773), (4062, 0.12013716800839722), (4063, 0.0), (4064, 0.018817257551610372), (4065, 0.0), (4066, 0.001999342442100507), (4067, 0.0), (4068, 0.007181260642704148), (4069, 0.0022617211884688655), (4070, 0.0), (4071, 0.0), (4072, 0.0), (4073, 0.0), (4074, 0.0017608440200754254), (4075, 0.0), (4076, 0.0), (4077, 0.008103039719329044), (4078, 0.0), (4079, 0.0029439632548953795), (4080, 0.0), (4081, 0.03223354795728927), (4082, 0.003023251892574317), (4083, 0.0), (4084, 0.0), (4085, 0.0020436422454387167), (4086, 0.0), (4087, 0.002635255239032694), (4088, 0.010286022168690435), (4089, 0.0), (4090, 0.0), (4091, 0.0), (4092, 0.0027627541462011745), (4093, 0.0), (4094, 0.0), (4095, 0.00654419121816277), (4096, 0.0037656907883516807), (4097, 0.0), (4098, 0.002775379839058418), (4099, 0.014429028753235365), (4100, 0.0), (4101, 0.002228401269764536), (4102, 0.0), (4103, 0.0), (4104, 0.014396103558116534), (4105, 0.0), (4106, 0.013696556408153288), (4107, 0.0), (4108, 0.0), (4109, 0.0), (4110, 0.013206754321116903), (4111, 0.002954863683194355), (4112, 0.0), (4113, 0.0022588528466079435), (4114, 0.0), (4115, 0.0), (4116, 0.002578639156732146), (4117, 0.0029247122536186533), (4118, 0.006390348798712467), (4119, 0.0), (4120, 0.0), (4121, 0.006199367425466706), (4122, 0.0), (4123, 0.0024941219984391427), (4124, 0.0054416934775233985), (4125, 0.0), (4126, 0.0), (4127, 0.0), (4128, 0.015880708641453065), (4129, 0.0), (4130, 0.002488420373408256), (4131, 0.0), (4132, 0.0), (4133, 0.003052253935048038), (4134, 0.01308021903257608), (4135, 0.0021417803593023798), (4136, 0.0), (4137, 0.023470827919720032), (4138, 0.003010631800601512), (4139, 0.0), (4140, 0.0), (4141, 0.04503115071219324), (4142, 0.0), (4143, 0.002026290308903849), (4144, 0.0), (4145, 0.0), (4146, 0.0), (4147, 0.0), (4148, 0.0), (4149, 0.04077404932883711), (4150, 0.0), (4151, 0.002039828561103698), (4152, 0.017924170444540897), (4153, 0.0), (4154, 0.0020178803794986184), (4155, 0.0), (4156, 0.03383607804983027), (4157, 0.0), (4158, 0.010468426520936854), (4159, 0.0), (4160, 0.0030755425393698996), (4161, 0.0), (4162, 0.0), (4163, 0.003327347289763965), (4164, 0.0041091637982133555), (4165, 0.024972092400500613), (4166, 0.0), (4167, 0.0), (4168, 0.0), (4169, 0.0), (4170, 0.0), (4171, 0.0012546733774057956), (4172, 0.0), (4173, 0.0), (4174, 0.0), (4175, 0.0), (4176, 0.03258297120072197), (4177, 0.0625443124003835), (4178, 0.00229142226275187), (4179, 0.0), (4180, 0.0), (4181, 0.0), (4182, 0.011818854325901643), (4183, 0.002203909379116477), (4184, 0.0), (4185, 0.0), (4186, 0.0), (4187, 0.0025485512910453246), (4188, 0.0), (4189, 0.02180611857455134), (4190, 0.0), (4191, 0.0), (4192, 0.006953645060400941), (4193, 0.0), (4194, 0.0), (4195, 0.01878263234409407), (4196, 0.01531926209326166), (4197, 0.0), (4198, 0.0), (4199, 0.0), (4200, 0.0), (4201, 0.0), (4202, 0.0038604010811348947), (4203, 0.019582856495127927), (4204, 0.0), (4205, 0.0164763505986007), (4206, 0.0), (4207, 0.0), (4208, 0.0), (4209, 0.0), (4210, 0.014514670737671374), (4211, 0.0), (4212, 0.0), (4213, 0.0), (4214, 0.0), (4215, 0.0), (4216, 0.004968862986937002), (4217, 0.01597906964903836), (4218, 0.0), (4219, 0.0), (4220, 0.0), (4221, 0.0), (4222, 0.0), (4223, 0.0), (4224, 0.0), (4225, 0.0), (4226, 0.016461217675869853), (4227, 0.006961070064587838), (4228, 0.0), (4229, 0.0), (4230, 0.0), (4231, 0.009737999267016614), (4232, 0.00426454405432766), (4233, 0.005641418757235692), (4234, 0.0), (4235, 0.0058367510806559796), (4236, 0.00822627778032953), (4237, 0.0), (4238, 0.0), (4239, 0.0), (4240, 0.0), (4241, 0.0), (4242, 0.013373083364342888), (4243, 0.0032794608151178383), (4244, 0.0032197660555976534), (4245, 0.0), (4246, 0.009076543838816103), (4247, 0.001816937020537758), (4248, 0.0), (4249, 0.0029366069871885926), (4250, 0.0), (4251, 0.0), (4252, 0.0), (4253, 0.0), (4254, 0.0), (4255, 0.018001196012863943), (4256, 0.0), (4257, 0.015904854736913953), (4258, 0.0), (4259, 0.002419379849860044), (4260, 0.0), (4261, 0.003279979675236807), (4262, 0.0), (4263, 0.0), (4264, 0.0), (4265, 0.0), (4266, 0.0024427289433927896), (4267, 0.0), (4268, 0.10072558460747058), (4269, 0.0027001884662918654), (4270, 0.0), (4271, 0.0), (4272, 0.014200479106181968), (4273, 0.0), (4274, 0.0), (4275, 0.0), (4276, 0.0), (4277, 0.0), (4278, 0.0), (4279, 0.0), (4280, 0.0), (4281, 0.040186262421274356), (4282, 0.0019129801021712915), (4283, 0.04062275665725269), (4284, 0.002090156765920642), (4285, 0.0), (4286, 0.0020313973530643754), (4287, 0.0022768226908925883), (4288, 0.010228924388103664), (4289, 0.0), (4290, 0.0), (4291, 0.0), (4292, 0.0), (4293, 0.002535344850060322), (4294, 0.0), (4295, 0.0031447513888914072), (4296, 0.0), (4297, 0.0), (4298, 0.0), (4299, 0.0), (4300, 0.0), (4301, 0.0), (4302, 0.0), (4303, 0.014287187378015322), (4304, 0.0), (4305, 0.0), (4306, 0.0), (4307, 0.0), (4308, 0.0), (4309, 0.0023883246774452044), (4310, 0.0), (4311, 0.0023583011121259003), (4312, 0.0), (4313, 0.0), (4314, 0.037159281449657314), (4315, 0.0), (4316, 0.0), (4317, 0.0), (4318, 0.0), (4319, 0.0), (4320, 0.0), (4321, 0.028782089312795883), (4322, 0.0), (4323, 0.0), (4324, 0.0), (4325, 0.004545596340177317), (4326, 0.0), (4327, 0.0), (4328, 0.0), (4329, 0.0), (4330, 0.002828324683888897), (4331, 0.0), (4332, 0.0), (4333, 0.0027184057772712098), (4334, 0.0023684093996899527), (4335, 0.01181806662105576), (4336, 0.010294668949983272), (4337, 0.016748947487598614), (4338, 0.0), (4339, 0.0), (4340, 0.0), (4341, 0.0), (4342, 0.014029206365996355), (4343, 0.0), (4344, 0.014647205729711345), (4345, 0.0021652131885479243), (4346, 0.0), (4347, 0.0), (4348, 0.0), (4349, 0.03587087868770158), (4350, 0.0019274825702541637), (4351, 0.010034431548481581), (4352, 0.0), (4353, 0.0), (4354, 0.0), (4355, 0.0), (4356, 0.002172533888110441), (4357, 0.0029021810257703787), (4358, 0.0), (4359, 0.0), (4360, 0.0), (4361, 0.0), (4362, 0.0023831281394677962), (4363, 0.0), (4364, 0.0), (4365, 0.0), (4366, 0.009109154062982412), (4367, 0.008544045783864597), (4368, 0.0026346197814273386), (4369, 0.002566832200978575), (4370, 0.0), (4371, 0.010467044621771102), (4372, 0.0), (4373, 0.009840774649261922), (4374, 0.006214743823499019), (4375, 0.11194323921121245), (4376, 0.0), (4377, 0.0), (4378, 0.020217305445189786), (4379, 0.008171102271592689), (4380, 0.016420827562903046), (4381, 0.0), (4382, 0.03987531913069572), (4383, 0.0), (4384, 0.0), (4385, 0.006771054929383599), (4386, 0.0), (4387, 0.007049568482510805), (4388, 0.013812579571048518), (4389, 0.034648455805823895), (4390, 0.0), (4391, 0.0), (4392, 0.0), (4393, 0.0), (4394, 0.0020984190298256812), (4395, 0.04136851777898278), (4396, 0.0), (4397, 0.0), (4398, 0.06272541753515808), (4399, 0.0314540698972305), (4400, 0.0), (4401, 0.002573475100600925), (4402, 0.015748955612351324), (4403, 0.030139785049487416), (4404, 0.0), (4405, 0.0), (4406, 0.0), (4407, 0.0), (4408, 0.0), (4409, 0.0), (4410, 0.0), (4411, 0.0020201492324474404), (4412, 0.0032058937131530687), (4413, 0.0), (4414, 0.0), (4415, 0.0), (4416, 0.0), (4417, 0.0), (4418, 0.0), (4419, 0.0029338769748991577), (4420, 0.0024572714232699556), (4421, 0.0), (4422, 0.0028695018266171233), (4423, 0.0), (4424, 0.0), (4425, 0.0), (4426, 0.0), (4427, 0.0), (4428, 0.0), (4429, 0.002478178287659273), (4430, 0.0028872159438215047), (4431, 0.0), (4432, 0.0017507079899087908), (4433, 0.0), (4434, 0.0), (4435, 0.006192261613636433), (4436, 0.022194429058837825), (4437, 0.0), (4438, 0.0), (4439, 0.0), (4440, 0.019569345477583905), (4441, 0.0), (4442, 0.005231157659432275), (4443, 0.020150157247533544), (4444, 0.003123715732210983), (4445, 0.0), (4446, 0.002174938437271443), (4447, 0.0), (4448, 0.0027558096964539792), (4449, 0.0), (4450, 0.04570779411829392), (4451, 0.0), (4452, 0.0232795863067933), (4453, 0.0), (4454, 0.0), (4455, 0.0), (4456, 0.1175851745007213), (4457, 0.0), (4458, 0.0), (4459, 0.012556261829849686), (4460, 0.0), (4461, 0.0), (4462, 0.0), (4463, 0.0), (4464, 0.0), (4465, 0.0060487011499394325), (4466, 0.03603260186638621), (4467, 0.01607451887512251), (4468, 0.0), (4469, 0.008102886072947934), (4470, 0.0025348501895847354), (4471, 0.0), (4472, 0.00212615510272909), (4473, 0.002278670810801479), (4474, 0.005167878686753184), (4475, 0.00894375304137574), (4476, 0.0), (4477, 0.0028712960267564106), (4478, 0.0), (4479, 0.0018677439800611254), (4480, 0.0), (4481, 0.0044678162001052105), (4482, 0.033127013733808885), (4483, 0.0), (4484, 0.0035408766333642613), (4485, 0.0), (4486, 0.01576284702637919), (4487, 0.0022525366139047017), (4488, 0.018478139094623234), (4489, 0.00240939633244595), (4490, 0.002858819796989351), (4491, 0.0), (4492, 0.0410766422947958), (4493, 0.0), (4494, 0.0025729327242487512), (4495, 0.0), (4496, 0.0), (4497, 0.0), (4498, 0.0), (4499, 0.0), (4500, 0.0), (4501, 0.0024855734000858026), (4502, 0.0065539501222645225), (4503, 0.007009164471996038), (4504, 0.03717503415324622), (4505, 0.0), (4506, 0.0), (4507, 0.0030148566711422544), (4508, 0.0), (4509, 0.0), (4510, 0.005401225738551817), (4511, 0.020019737815881025), (4512, 0.007114657338642872), (4513, 0.0), (4514, 0.0), (4515, 0.0), (4516, 0.0031544325481276444), (4517, 0.0026150608420823264), (4518, 0.0), (4519, 0.0), (4520, 0.002942735212704993), (4521, 0.0033210677359115618), (4522, 0.0031144189550198647), (4523, 0.0020344576007735172), (4524, 0.010158124306471306), (4525, 0.0), (4526, 0.0), (4527, 0.0), (4528, 0.002979061809414612), (4529, 0.0), (4530, 0.0026689918726007698), (4531, 0.005823460427686686), (4532, 0.0), (4533, 0.02074002128239837), (4534, 0.037373814224465535), (4535, 0.0027904729996633426), (4536, 0.0022479651183533117), (4537, 0.0), (4538, 0.0), (4539, 0.0), (4540, 0.0), (4541, 0.0), (4542, 0.0), (4543, 0.0), (4544, 0.0), (4545, 0.0), (4546, 0.0035100660458637764), (4547, 0.0), (4548, 0.01384612407866773), (4549, 0.0), (4550, 0.0), (4551, 0.0073544756347449), (4552, 0.0), (4553, 0.004906594124186848), (4554, 0.02127508040137108), (4555, 0.0041761735416797315), (4556, 0.0), (4557, 0.005436249325327719), (4558, 0.0), (4559, 0.0), (4560, 0.0), (4561, 0.0), (4562, 0.0), (4563, 0.0025143602723142885), (4564, 0.015202184657335343), (4565, 0.0), (4566, 0.002507678388069541), (4567, 0.0), (4568, 0.0), (4569, 0.0), (4570, 0.0), (4571, 0.0041522196418023825), (4572, 0.0), (4573, 0.0028455944770705314), (4574, 0.0), (4575, 0.002949990501983033), (4576, 0.012528618649401028), (4577, 0.0), (4578, 0.0), (4579, 0.0), (4580, 0.0), (4581, 0.005942577800603806), (4582, 0.0), (4583, 0.036142881236559225), (4584, 0.0), (4585, 0.0), (4586, 0.0), (4587, 0.0), (4588, 0.027759005675586194), (4589, 0.0024937160271287693), (4590, 0.01429033768060901), (4591, 0.002097795727867091), (4592, 0.0), (4593, 0.002639419244403121), (4594, 0.02226134808725827), (4595, 0.0), (4596, 0.018601128132353643), (4597, 0.0), (4598, 0.0), (4599, 0.0), (4600, 0.0), (4601, 0.0023719849123726047), (4602, 0.0185927193739835), (4603, 0.012202735409613901), (4604, 0.0), (4605, 0.01628217878823206), (4606, 0.0), (4607, 0.0), (4608, 0.01595276884562916), (4609, 0.0), (4610, 0.01268253395453552), (4611, 0.0), (4612, 0.0), (4613, 0.0), (4614, 0.06283735640019394), (4615, 0.0), (4616, 0.0), (4617, 0.0036846818020471414), (4618, 0.0), (4619, 0.002937970857841923), (4620, 0.0), (4621, 0.0), (4622, 0.0), (4623, 0.005215747954534781), (4624, 0.002280154525366112), (4625, 0.0029728273831076506), (4626, 0.001929446967275485), (4627, 0.026249761952217857), (4628, 0.0), (4629, 0.002480830519099053), (4630, 0.0), (4631, 0.0), (4632, 0.0032296896639447048), (4633, 0.0), (4634, 0.0), (4635, 0.0), (4636, 0.001983521040396783), (4637, 0.003374933500067957), (4638, 0.002197706214741302), (4639, 0.0), (4640, 0.019976826888139565), (4641, 0.0), (4642, 0.0), (4643, 0.002129896428544979), (4644, 0.0), (4645, 0.0), (4646, 0.0), (4647, 0.0), (4648, 0.0), (4649, 0.0127038932699244), (4650, 0.002423995410938763), (4651, 0.0), (4652, 0.005105281223992792), (4653, 0.0), (4654, 0.0), (4655, 0.0), (4656, 0.005601334597309382), (4657, 0.003036369309663721), (4658, 0.019104938654547217), (4659, 0.0), (4660, 0.0027355448378961118), (4661, 0.0), (4662, 0.0), (4663, 0.0), (4664, 0.0), (4665, 0.0), (4666, 0.0), (4667, 0.0), (4668, 0.0028164114275753007), (4669, 0.008524180144271953), (4670, 0.002356924765838616), (4671, 0.0), (4672, 0.0), (4673, 0.006909743882566011), (4674, 0.0017804563131325858), (4675, 0.0), (4676, 0.0), (4677, 0.0), (4678, 0.0), (4679, 0.016533094504252357), (4680, 0.0), (4681, 0.0), (4682, 0.0648497363387817), (4683, 0.0), (4684, 0.03820595687592358), (4685, 0.015620691850532668), (4686, 0.0), (4687, 0.0), (4688, 0.0), (4689, 0.0), (4690, 0.0), (4691, 0.0), (4692, 0.0), (4693, 0.0), (4694, 0.0), (4695, 0.00959454369499791), (4696, 0.0), (4697, 0.0), (4698, 0.0), (4699, 0.0024012932816925153), (4700, 0.0), (4701, 0.04112413264308401), (4702, 0.0), (4703, 0.0156697671729031), (4704, 0.0), (4705, 0.0), (4706, 0.0031704803559581794), (4707, 0.0), (4708, 0.0), (4709, 0.0), (4710, 0.0036255935423019944), (4711, 0.0), (4712, 0.00214246285595398), (4713, 0.003151040968567957), (4714, 0.0), (4715, 0.0), (4716, 0.0), (4717, 0.0), (4718, 0.0031148292191748106), (4719, 0.0), (4720, 0.0), (4721, 0.017493161861234414), (4722, 0.0029185503360619493), (4723, 0.0034594781961724444), (4724, 0.007614975567699567), (4725, 0.0), (4726, 0.013521836188519085), (4727, 0.026327060529680202), (4728, 0.0), (4729, 0.0), (4730, 0.0), (4731, 0.048093635347594976), (4732, 0.0), (4733, 0.0017395760536116052), (4734, 0.003008490818321601), (4735, 0.006557013288312585), (4736, 0.0), (4737, 0.0), (4738, 0.007882506504705768), (4739, 0.024260615881732853), (4740, 0.0), (4741, 0.0), (4742, 0.0), (4743, 0.0), (4744, 0.0), (4745, 0.0), (4746, 0.0), (4747, 0.006137096664113981), (4748, 0.013060027631577473), (4749, 0.0), (4750, 0.0), (4751, 0.0), (4752, 0.0016292016014252553), (4753, 0.0), (4754, 0.0), (4755, 0.0), (4756, 0.0), (4757, 0.0), (4758, 0.0), (4759, 0.0)]\n"
     ]
    }
   ],
   "source": [
    "# getting a list of similar movies \n",
    "Recommendation_Score = list (enumerate(Similarty_score [Index_of_Close_Match_Movie]))\n",
    "print (Recommendation_Score)"
   ]
  },
  {
   "cell_type": "code",
   "execution_count": 46,
   "metadata": {},
   "outputs": [
    {
     "data": {
      "text/plain": [
       "4760"
      ]
     },
     "execution_count": 46,
     "metadata": {},
     "output_type": "execute_result"
    }
   ],
   "source": [
    "len(Recommendation_Score)"
   ]
  },
  {
   "cell_type": "markdown",
   "metadata": {},
   "source": [
    "# Get All Movies Sort Based on Recommendation Score wrt Favourites Movies"
   ]
  },
  {
   "cell_type": "code",
   "execution_count": 47,
   "metadata": {},
   "outputs": [
    {
     "name": "stdout",
     "output_type": "stream",
     "text": [
      "[(2692, 1.0000000000000004), (1341, 0.15359336410144117), (62, 0.14356065831805798), (3728, 0.13014888968336685), (1994, 0.12805648953220938), (4062, 0.12013716800839722), (292, 0.11821278031380796), (4456, 0.1175851745007213), (1243, 0.11739794574339155), (2538, 0.11339754662227683), (4375, 0.11194323921121245), (4268, 0.10072558460747058), (2133, 0.10048320825960619), (2653, 0.09995521637884595), (2374, 0.09363660733727147), (3480, 0.09316348460242202), (137, 0.09149022490825245), (877, 0.09005000120499644), (3955, 0.08779420000932595), (2191, 0.08599018623812243), (1850, 0.0859091164029268), (438, 0.085633082529934), (1383, 0.08288407503910462), (2869, 0.08204808073089329), (412, 0.08200108031753472), (3463, 0.07980305996578557), (1389, 0.07841045269941749), (1134, 0.07629306018030693), (1393, 0.07573548632692405), (1676, 0.07548153411364149), (2550, 0.0747196679623055), (578, 0.07452788836193569), (818, 0.07400018042693267), (3102, 0.07359185737665619), (1750, 0.07326730635421366), (1292, 0.07191064595598759), (44, 0.07109679446557013), (1871, 0.07009278309193848), (1868, 0.06974214328786162), (227, 0.06961284702813435), (1527, 0.06820135595813394), (1795, 0.06774405082909611), (3498, 0.06672084719106514), (1248, 0.06603235275628681), (1379, 0.06508309732006448), (4682, 0.0648497363387817), (1272, 0.06481553977202618), (1568, 0.06373050030250413), (540, 0.06342495980925951), (1030, 0.06310011714009633), (2294, 0.06303283033379493), (4614, 0.06283735640019394), (873, 0.06280195140204264), (4398, 0.06272541753515808), (4177, 0.0625443124003835), (126, 0.06191284290728372), (1367, 0.06172398646413361), (2807, 0.06090985107398567), (3157, 0.06077937639418541), (1464, 0.060100090810004156), (3655, 0.059811206877852255), (1043, 0.05894580919445694), (1023, 0.058900424116081415), (1046, 0.058287344288204035), (3376, 0.05807580716229284), (1648, 0.05806758562942598), (213, 0.05763919790802342), (1506, 0.05728617427849988), (1405, 0.05697109830925944), (108, 0.056349385173422466), (282, 0.05592191744042698), (519, 0.055831995110411335), (2876, 0.055807152325210496), (1358, 0.05486805880806518), (911, 0.05472835617607673), (3556, 0.054089775368549024), (3313, 0.05384044939451185), (3127, 0.053765423787017284), (465, 0.053638574056948385), (2481, 0.05307087151302814), (2026, 0.0524854650322009), (2762, 0.052448343948292314), (3835, 0.051874557748746865), (1500, 0.051618460350724565), (3294, 0.05150647256485553), (628, 0.050926808099512735), (3209, 0.0507066726328647), (3447, 0.050542620174109765), (2011, 0.050444047206169046), (2944, 0.05024255766598928), (3285, 0.050146800873354776), (3395, 0.04959108012672232), (1515, 0.04905396793839527), (864, 0.048706956794344246), (110, 0.04848986239978371), (3934, 0.048307045157710476), (1021, 0.048170371352549625), (4731, 0.048093635347594976), (1878, 0.04807915968433757), (3045, 0.047961887202132174), (629, 0.04784786725964299), (3974, 0.047787084803298255), (371, 0.04769519288617496), (1847, 0.04717450463096862), (3518, 0.0471523338158434), (1505, 0.04708495111071453), (1203, 0.04705828622179398), (2823, 0.04701165506675294), (1241, 0.046786016335791394), (2221, 0.04675828470740312), (193, 0.046344774226533436), (3345, 0.0463063206584499), (1492, 0.04627378602613761), (2318, 0.04613184286384235), (3927, 0.045996931102639076), (4450, 0.04570779411829392), (3222, 0.04549302554406749), (3091, 0.04542611453399369), (254, 0.045409676255458886), (2362, 0.04539340095004193), (3374, 0.04532452781527821), (116, 0.04523408081105094), (4141, 0.04503115071219324), (1585, 0.045021885698204714), (1068, 0.04481503151150984), (2443, 0.04453295501300669), (3810, 0.04449819377197779), (1302, 0.04442326034985472), (109, 0.04434828268626551), (1173, 0.04432797772280907), (3469, 0.04431665639488336), (3961, 0.04425458419281844), (2558, 0.044186095249577687), (1118, 0.043980966341370276), (976, 0.04377278920945102), (3446, 0.043720813232302994), (824, 0.04366065403920328), (1003, 0.04364397071284938), (691, 0.04362555907709101), (1845, 0.04341265098413778), (3377, 0.04338156842054636), (2751, 0.043345885814548006), (2484, 0.043245967492678505), (334, 0.04292144137800577), (670, 0.04287163319967284), (3492, 0.04280179998089373), (2560, 0.042782893626557614), (2114, 0.04275738652758672), (2791, 0.04256582390168116), (2621, 0.04254665440115464), (832, 0.04223438398403755), (1788, 0.04217103966206938), (3692, 0.04215827055013235), (67, 0.0420058263070608), (1386, 0.04186126178368847), (1935, 0.04184212848611677), (112, 0.041819069535555205), (3420, 0.04181199439122025), (2995, 0.04172730305053365), (1675, 0.04162757258918239), (1970, 0.041547782580737665), (3778, 0.041451948771799176), (4004, 0.04139583841123607), (952, 0.04138803450606165), (4395, 0.04136851777898278), (328, 0.04136314808709124), (3471, 0.04134750873039845), (4701, 0.04112413264308401), (166, 0.041103219782651766), (4492, 0.0410766422947958), (175, 0.04102202729831334), (1977, 0.04100132313929061), (269, 0.04096173905636854), (1809, 0.04093554685381951), (1512, 0.040887728783688834), (4023, 0.040785825131625174), (4149, 0.04077404932883711), (4283, 0.04062275665725269), (261, 0.04058490024858409), (15, 0.04054130129277683), (1033, 0.04050122787636064), (3352, 0.04048580289846198), (657, 0.04032338862935257), (613, 0.040319895409642745), (763, 0.04018766200727161), (4281, 0.040186262421274356), (3946, 0.04013280437364532), (4050, 0.04004206358376586), (515, 0.04002603370608461), (4382, 0.03987531913069572), (768, 0.03984499345345119), (3430, 0.039838482717147246), (3973, 0.03977571836879619), (530, 0.03963123772904971), (409, 0.03957416170204476), (3450, 0.03956490517043292), (3344, 0.03952838916019303), (1361, 0.039428534678114247), (2582, 0.03940294404405091), (3976, 0.039397389718133044), (1544, 0.03938847335257974), (1045, 0.039360610832437554), (3153, 0.03935522398861107), (1609, 0.03913729177537107), (1261, 0.03910689804048655), (1274, 0.03906498360306311), (2023, 0.03903896338256655), (4012, 0.039038699708986414), (3665, 0.039034437541380425), (3839, 0.03888698668293407), (1886, 0.0387596014555499), (3528, 0.03865918277872662), (2167, 0.03860209356809217), (3144, 0.03856455260422075), (2867, 0.038550668633851544), (3053, 0.03841993842402027), (2689, 0.03824594786356276), (4684, 0.03820595687592358), (677, 0.038161650851986924), (2112, 0.03813744619417755), (61, 0.03812267529195229), (4016, 0.038041277085580125), (33, 0.03792936103827477), (2368, 0.03773843207373493), (1052, 0.037535050496850804), (4534, 0.037373814224465535), (776, 0.03721816825695624), (2417, 0.03718829136555058), (4504, 0.03717503415324622), (3597, 0.037169156440594965), (4314, 0.037159281449657314), (788, 0.03689025913184979), (1872, 0.03686938784823128), (3462, 0.03671492422811486), (204, 0.03666864951468159), (2149, 0.036663704341468234), (2258, 0.0366063693712012), (929, 0.03643447966711777), (2908, 0.036252919441462), (2903, 0.036213440658629026), (3203, 0.03619337234565616), (4583, 0.036142881236559225), (3295, 0.0361229392337493), (4466, 0.03603260186638621), (2745, 0.03599447144714038), (1927, 0.035967649250938774), (2037, 0.03596133809982437), (2654, 0.035959899779707406), (1996, 0.035941380626456104), (4349, 0.03587087868770158), (1314, 0.035861941417623146), (3433, 0.03585456453750007), (2440, 0.03584805265044208), (1579, 0.03583357221816891), (1245, 0.03577890726856133), (345, 0.03573387048765703), (3000, 0.035718345758477654), (364, 0.035691093478099165), (3857, 0.03564517043315943), (1270, 0.03555645706401563), (2553, 0.03539053065103164), (2469, 0.03533067895677407), (590, 0.035314038326704884), (3023, 0.03527496287832091), (3036, 0.035262408511155814), (3895, 0.035235268100904875), (2647, 0.0351693257889026), (586, 0.035036998246688274), (2579, 0.03492815207224226), (779, 0.03491442062188829), (3334, 0.03480303601052748), (2353, 0.034769222788658696), (2650, 0.03475471594646643), (1817, 0.03475093742949117), (967, 0.03467385800222816), (4389, 0.034648455805823895), (442, 0.034638275251916394), (1445, 0.0346076425577365), (2347, 0.034583204977418895), (2161, 0.034542643583870485), (1759, 0.034466718594224746), (3385, 0.03442266076874607), (2513, 0.03435116129922994), (2214, 0.03434756115516128), (4053, 0.03428649844493882), (3779, 0.03424224378982754), (3111, 0.03422657490485366), (3098, 0.03421328374680512), (1070, 0.034109562755877156), (3552, 0.03406952644124969), (796, 0.03406851700945675), (4156, 0.03383607804983027), (2298, 0.033753870548354256), (1175, 0.0336965557014607), (2622, 0.03357650272714005), (161, 0.033573844595427525), (1861, 0.03346095161578303), (1112, 0.033416140897764436), (1523, 0.033411489398913925), (29, 0.03338238768740384), (2644, 0.033342972487183827), (1838, 0.03315229055088459), (4482, 0.033127013733808885), (2712, 0.03312561693986429), (3958, 0.03312382864152963), (2639, 0.03304016287286955), (330, 0.03298328518788881), (1865, 0.032966804535699244), (2893, 0.032853753101981055), (3711, 0.0328171894948145), (2487, 0.03274868668363973), (1331, 0.03268023438955875), (1906, 0.03263632940212431), (3853, 0.03261452144258039), (1369, 0.032607594073608095), (1146, 0.032599890059362535), (2237, 0.03259628561486921), (2301, 0.03259302188159371), (4176, 0.03258297120072197), (3861, 0.032530029029972714), (2868, 0.03251981241752973), (3684, 0.0324146186596234), (2694, 0.032390469560423976), (2035, 0.03235047838182507), (942, 0.032267508540679286), (4081, 0.03223354795728927), (46, 0.032220675698815426), (2517, 0.032060029011982176), (2630, 0.032055602395605245), (3375, 0.031867604474400235), (1365, 0.03183604592289156), (968, 0.03172079355317779), (3580, 0.03170179456387018), (553, 0.03164733858953805), (4399, 0.0314540698972305), (1895, 0.03142272268038362), (160, 0.03138871409058848), (3466, 0.03128894332295629), (2618, 0.031273059018073555), (3630, 0.03123535757204843), (2598, 0.03120534535904321), (1401, 0.031196101142361495), (2366, 0.03106913138885423), (2055, 0.031034058671233353), (1202, 0.031001899304118456), (3276, 0.03094436272143191), (2290, 0.030927976244506834), (615, 0.030918208796244743), (3249, 0.030875693929197322), (3875, 0.030686531340299635), (812, 0.030662101390499373), (2805, 0.030628287839073964), (1880, 0.030570188301536787), (1741, 0.030262169706442694), (638, 0.03024610969683593), (4403, 0.030139785049487416), (2460, 0.029906003686265437), (174, 0.02979906095631537), (1152, 0.029684068493415428), (1403, 0.02965792553881057), (2841, 0.029640651273193878), (1216, 0.02947181149812209), (1821, 0.029458004865459814), (566, 0.029258450359612186), (1510, 0.029174406084137364), (203, 0.02906653822582833), (75, 0.028991416028958474), (2027, 0.028927761745112714), (218, 0.028835776617732206), (1988, 0.02879306367660172), (4321, 0.028782089312795883), (1412, 0.028775210991405762), (124, 0.028731153156030403), (1257, 0.0286596830699249), (210, 0.02862458454304536), (408, 0.028515583954853877), (545, 0.028381640311306956), (710, 0.0283196919269305), (3801, 0.028305080077774332), (904, 0.028116771257069524), (3421, 0.028108811089985142), (1129, 0.028070085711991828), (1254, 0.02802015882919486), (2706, 0.02785103637816852), (4588, 0.027759005675586194), (3279, 0.027727756340948723), (1443, 0.02755236922663777), (2859, 0.02755190165462196), (172, 0.027524890128647218), (3362, 0.027465616685389486), (1384, 0.02739803665788018), (1647, 0.027232815742486486), (2530, 0.027158112720869515), (2020, 0.027075744139171035), (479, 0.027023273251499506), (1278, 0.02693277531741861), (3731, 0.026734822201901265), (88, 0.02654204977536522), (3652, 0.026534045172637664), (2376, 0.02651989570515681), (682, 0.026450758104754862), (2005, 0.026371407889895712), (4727, 0.026327060529680202), (3408, 0.026278662496023925), (4627, 0.026249761952217857), (3750, 0.02623967599387014), (1095, 0.026237166974287456), (1682, 0.026133548935084926), (934, 0.025999782512336443), (551, 0.025955374287914296), (1707, 0.02588523520934487), (13, 0.025880898435512417), (296, 0.02583048851442476), (2094, 0.025753857747184486), (1342, 0.025700346310071915), (3129, 0.025697110279427192), (343, 0.02566893463771991), (3753, 0.025655982725650086), (3983, 0.025616712660179577), (3558, 0.02559642746447321), (1802, 0.025562131348833762), (1320, 0.025481575081397007), (185, 0.025381148862483056), (2145, 0.025317841832065827), (3360, 0.025236757641006958), (510, 0.025185108537188465), (1885, 0.02512397342643634), (1752, 0.025049736094107565), (3253, 0.025008572145014545), (3867, 0.025004139133075594), (4165, 0.024972092400500613), (895, 0.024831242002578913), (45, 0.024803388170560967), (957, 0.02477055319664191), (3299, 0.024734607331218735), (2365, 0.0246755354779073), (2177, 0.024657625718812578), (7, 0.02456702722660241), (2371, 0.024565992601170233), (3255, 0.024558945581880688), (3356, 0.024526511705428578), (1311, 0.02452534900245828), (231, 0.02449623553959546), (387, 0.024489760523012), (1195, 0.024408718848837874), (787, 0.024387760891699722), (2375, 0.024347365010013187), (57, 0.0243102274291893), (3226, 0.02428281122413366), (4739, 0.024260615881732853), (2638, 0.024226706765256303), (1249, 0.024175255661269015), (358, 0.023968259436258504), (637, 0.023875280964145224), (3213, 0.023755029738039637), (618, 0.02363360188368815), (3511, 0.02358829152645384), (1870, 0.023530505659566617), (1418, 0.02349202559407366), (4137, 0.023470827919720032), (903, 0.02346925878335685), (1471, 0.02333719179711667), (762, 0.023323476063281955), (4452, 0.0232795863067933), (1085, 0.023210528735258217), (222, 0.02315147321925721), (25, 0.023136736604333397), (1985, 0.02306651360448937), (1629, 0.023054132022755688), (1239, 0.022993663196400154), (2082, 0.022953951814745174), (3793, 0.02292234276420961), (374, 0.022905885453749626), (808, 0.022873925159649616), (3248, 0.022814808375778206), (3947, 0.02280061217852537), (3483, 0.02277456512084062), (2212, 0.022765067077003393), (2931, 0.022664170462018452), (2316, 0.022657577347410432), (4035, 0.022633782372993762), (1957, 0.022617562491989276), (3427, 0.022486457283894843), (1721, 0.022431445075388207), (2917, 0.022293161312492215), (2969, 0.022280377417843725), (4594, 0.02226134808725827), (2887, 0.022251696526523302), (4436, 0.022194429058837825), (452, 0.022185538670506762), (3004, 0.022172238739954515), (89, 0.02213454767551369), (3284, 0.022121982051980075), (2122, 0.021939709859012925), (757, 0.02193660984078409), (3328, 0.021911815804239794), (870, 0.021899529264289702), (4189, 0.02180611857455134), (1090, 0.021805988819300955), (3486, 0.021790142876317763), (3553, 0.021736139790840797), (620, 0.021731374218020728), (1702, 0.021728122494391152), (3095, 0.021689896989551875), (1024, 0.021674833282933518), (830, 0.021552576132856965), (609, 0.02152579184444047), (3904, 0.021459203981995734), (847, 0.021409728166221796), (209, 0.021400229274256596), (2321, 0.021389394019571833), (2808, 0.02137085706351628), (2012, 0.021316720207569435), (1654, 0.021302739252819853), (4554, 0.02127508040137108), (555, 0.02125767850407871), (4028, 0.021225163112473952), (706, 0.02115654478447225), (130, 0.021057420200230742), (437, 0.020948153729417746), (2000, 0.020909720206858665), (19, 0.020872342213734275), (774, 0.02085139858119092), (3017, 0.020808301696977387), (1843, 0.02077615898588377), (2474, 0.02076054943950451), (1919, 0.02075024763619793), (4533, 0.02074002128239837), (2207, 0.02042624474563531), (1982, 0.02042575303996984), (3504, 0.020351639320817575), (632, 0.020286779437047948), (4378, 0.020217305445189786), (1398, 0.020155097383256847), (4443, 0.020150157247533544), (65, 0.020080324538559974), (3751, 0.020059655497941992), (4511, 0.020019737815881025), (2716, 0.020005858477913988), (1798, 0.019988790116186907), (4640, 0.019976826888139565), (4005, 0.01992063891520677), (176, 0.019885878909856824), (1951, 0.019722106408214504), (2198, 0.019685846802641405), (899, 0.01966732319741777), (2540, 0.019666124138268286), (1310, 0.0196160415648455), (4203, 0.019582856495127927), (3228, 0.019579877779761518), (252, 0.019579025264153154), (3797, 0.0195734545210633), (4440, 0.019569345477583905), (794, 0.019526380915236584), (3470, 0.01951643928411908), (1114, 0.01951195075920622), (3280, 0.01949796758266372), (2276, 0.019429561013583365), (1787, 0.019424338182596035), (1770, 0.019355762081747458), (775, 0.019319108661703475), (1671, 0.019286539247489028), (2981, 0.019231392973750087), (1837, 0.019225211369099906), (1074, 0.019174411074593285), (3572, 0.01914863854804588), (2013, 0.019116499207520645), (4658, 0.019104938654547217), (669, 0.019039641827513467), (3951, 0.019023976826259063), (3903, 0.019020418765782903), (2123, 0.0190177090637403), (4064, 0.018817257551610372), (2174, 0.018792455276185123), (4195, 0.01878263234409407), (496, 0.018773696834475617), (4007, 0.018764177396045047), (1465, 0.018729005566380713), (430, 0.018709784750914362), (795, 0.018682073185487976), (2501, 0.018643209698557338), (1619, 0.01860972879367803), (4596, 0.018601128132353643), (4602, 0.0185927193739835), (1413, 0.0185616394199611), (935, 0.018560531794747953), (844, 0.018523558441975015), (4488, 0.018478139094623234), (3315, 0.018477075097739475), (2736, 0.018438487406282504), (3720, 0.01836294280797222), (1377, 0.018331151623430568), (2119, 0.0183259390995947), (2688, 0.01831752867424625), (1714, 0.01827534652991028), (2740, 0.018240224503715707), (694, 0.018205058067213658), (2723, 0.018178725458640042), (3656, 0.018175195079376483), (179, 0.018171740885402497), (1157, 0.018115183787902674), (2014, 0.018107956433003516), (897, 0.018084024867456493), (1063, 0.018056009483643137), (342, 0.018054459147179763), (280, 0.018005250589365376), (3488, 0.018002194981172503), (4255, 0.018001196012863943), (251, 0.017989439032998412), (287, 0.017968498531786996), (2052, 0.017963980464155656), (4152, 0.017924170444540897), (2265, 0.017918381188327594), (1976, 0.017864538441553016), (1162, 0.017859341190911707), (643, 0.01779180444909896), (3822, 0.01775749311919214), (3067, 0.0177574316072724), (106, 0.01774853124746414), (3386, 0.017743707585260275), (4025, 0.017725483116851744), (3351, 0.01771166303924042), (3541, 0.017707362593583888), (3954, 0.017694882228836997), (1382, 0.017669481120835644), (2977, 0.017606630095012833), (3850, 0.01760140255229238), (2649, 0.01759905656450024), (2144, 0.017537024423411072), (2436, 0.017522410152998873), (4721, 0.017493161861234414), (3384, 0.017457741109150215), (1999, 0.017448352894608152), (2040, 0.01739613935553169), (421, 0.017346844881337902), (424, 0.0173388032967548), (2510, 0.0173280991835115), (332, 0.017308266184942814), (2798, 0.017283441608136017), (2742, 0.017249003205363926), (2418, 0.01722963856499524), (3643, 0.017227632381915717), (2632, 0.017225172743425415), (250, 0.017211471923014292), (2687, 0.017187614467460286), (459, 0.017166662109709296), (1841, 0.017141648593644265), (2008, 0.017099445542149656), (2782, 0.017041071940825533), (2045, 0.017038844458719928), (3747, 0.01701643406327203), (2102, 0.016953953147344065), (2100, 0.016909844473103345), (3559, 0.01687139519806249), (3689, 0.0168647990214869), (3784, 0.01684998446722975), (3733, 0.016849483665980613), (3871, 0.016843524859576384), (635, 0.016792946815267898), (2710, 0.016767743320867487), (4337, 0.016748947487598614), (1266, 0.01673106780885357), (3154, 0.01671521851827069), (3387, 0.016712238496133784), (917, 0.016707879988996994), (119, 0.016690909467029696), (1015, 0.01668734901960109), (1514, 0.016681002831764224), (353, 0.016678136207879793), (833, 0.01666104262286467), (2633, 0.016643829345297192), (3256, 0.016619892911405032), (1141, 0.01659047502314309), (4679, 0.016533094504252357), (1583, 0.016507120492553925), (1718, 0.016486697652525355), (4205, 0.0164763505986007), (4226, 0.016461217675869853), (4008, 0.016444202617126154), (4380, 0.016420827562903046), (1678, 0.01641713238546386), (752, 0.016384162844063428), (407, 0.016374222308553274), (916, 0.01636872644312667), (79, 0.016355169368958068), (2303, 0.016342404143150364), (2565, 0.01632600390253937), (104, 0.016307139060278555), (3407, 0.016286095187158), (4605, 0.01628217878823206), (2759, 0.01628210324746916), (384, 0.016279401584242504), (2568, 0.01625980388844353), (3416, 0.016255270621349932), (2101, 0.016247656850958782), (778, 0.01624748907982223), (527, 0.016233160723128904), (2691, 0.016209703852928393), (2816, 0.01616180143864405), (1124, 0.01614908391091685), (3039, 0.01614496527139096), (1710, 0.01611630153947522), (734, 0.016113782530167563), (2070, 0.016106976708165098), (1876, 0.016086816547220308), (4467, 0.01607451887512251), (867, 0.016037087129638975), (836, 0.016019899680586817), (2103, 0.016014615596689458), (4217, 0.01597906964903836), (2494, 0.015975207923497537), (1948, 0.01597234470728129), (4608, 0.01595276884562916), (1908, 0.015936044471895627), (3237, 0.01592831508485412), (3457, 0.015919478261935505), (2726, 0.01591209489538159), (4257, 0.015904854736913953), (4128, 0.015880708641453065), (2698, 0.01587032968960272), (906, 0.01585072529384654), (142, 0.015839926666032303), (2920, 0.015833817555350117), (1192, 0.015822833846005788), (43, 0.01581376217405819), (2933, 0.015799180121851195), (2143, 0.015796075715301457), (1482, 0.015781926139174746), (2335, 0.015780010273582324), (4486, 0.01576284702637919), (1720, 0.01576259759012814), (2980, 0.01575866345144113), (2732, 0.015754480226974944), (4402, 0.015748955612351324), (2601, 0.015746982289502005), (313, 0.015734559490909007), (782, 0.015712080224693326), (1942, 0.015701277536252695), (850, 0.015693072250261394), (1220, 0.01568956749112218), (2413, 0.01568416651146122), (631, 0.015671504432709045), (4703, 0.0156697671729031), (2157, 0.015665381031216136), (2339, 0.0156377126925997), (4685, 0.015620691850532668), (1875, 0.015598265877823713), (2668, 0.015582728311086496), (1397, 0.01558125252383315), (428, 0.01557657311198219), (2309, 0.015564714206233407), (3880, 0.015544176259572866), (1283, 0.015527327121152401), (3399, 0.015524160219839277), (1396, 0.015512226691363706), (413, 0.015506833528419535), (3536, 0.01549857034225152), (1612, 0.015489479753362905), (1763, 0.015487060661733784), (2524, 0.015454680714613481), (1539, 0.015453010150424162), (2831, 0.015452440124235287), (2056, 0.015425025897566034), (3240, 0.015413987880523922), (2874, 0.015395539494587718), (1486, 0.015379111767656245), (1807, 0.01535558203284495), (4196, 0.01531926209326166), (3767, 0.015297496896581855), (346, 0.015280943725757263), (1572, 0.015276320813522152), (2467, 0.015270510450007976), (1692, 0.015264626857947272), (3156, 0.015264375444678116), (2463, 0.015260623757602978), (3909, 0.015239428080446453), (1132, 0.015230927283707769), (4564, 0.015202184657335343), (273, 0.01518724799042411), (1012, 0.015121964703592797), (1238, 0.015074498739271256), (921, 0.015042908109337283), (1799, 0.015036314070303054), (56, 0.01503315893304665), (3648, 0.015028457722890095), (22, 0.015013281894246739), (356, 0.015006532784086968), (748, 0.014997617087780253), (2971, 0.014977686325520692), (814, 0.01496612973021118), (3033, 0.014946832747061526), (3218, 0.014916838531014519), (2777, 0.014911185294237291), (3264, 0.014902139907027795), (1293, 0.014897978339221669), (1250, 0.014870595533088058), (1526, 0.014856264836287726), (1206, 0.014830861889667746), (3403, 0.01482971925655859), (1688, 0.014819264571175212), (3265, 0.014800816751092549), (1493, 0.014738771022218848), (1655, 0.014723529214438478), (329, 0.014717688141859982), (1136, 0.01470720220671096), (2211, 0.014706810244145541), (962, 0.014688656856475846), (403, 0.014673196595523432), (672, 0.014671051344953227), (4344, 0.014647205729711345), (1494, 0.014645419360497026), (2426, 0.014643652541849787), (3151, 0.014628646514101732), (3508, 0.014598556132200822), (3574, 0.014595382606823014), (131, 0.014583329820926305), (1186, 0.014578073466522951), (1087, 0.014559675928883247), (1215, 0.014556132544065415), (1911, 0.014541307798835737), (84, 0.01454122177020507), (2109, 0.014518521313738444), (4210, 0.014514670737671374), (4001, 0.014506769436437493), (398, 0.014505364199230058), (1986, 0.014501491793781884), (1501, 0.014494334781367486), (1111, 0.014490136336983265), (3409, 0.014471167237297487), (1116, 0.014450483369151095), (4032, 0.014435030514109281), (4099, 0.014429028753235365), (463, 0.01442418249468238), (212, 0.014422663602562056), (1652, 0.014411105277605005), (4104, 0.014396103558116534), (3926, 0.01439574113329876), (2607, 0.014378304839208524), (1774, 0.014371147000177706), (138, 0.01437058124025734), (3826, 0.014356345989658594), (568, 0.014337700225247628), (2154, 0.014336198409353131), (4061, 0.014327100306563773), (145, 0.014326250428746672), (1920, 0.014315219487831096), (2480, 0.014296713917954066), (4590, 0.01429033768060901), (4303, 0.014287187378015322), (1374, 0.014278855913127329), (1417, 0.014244592969200909), (3260, 0.014230573614287848), (9, 0.014216857799761146), (2744, 0.014211572194841189), (279, 0.014204111951714879), (4272, 0.014200479106181968), (1307, 0.014198938841274223), (3389, 0.014194750156647038), (1425, 0.01419206528116038), (85, 0.014185125453516415), (1317, 0.014179122963420946), (86, 0.014153643019022388), (3667, 0.014150413853821549), (523, 0.014147779116509896), (3864, 0.014134527452639541), (68, 0.014120074503283545), (1538, 0.014116673393124257), (1316, 0.014113415851039153), (3515, 0.014091783645648021), (2244, 0.014076426601351985), (2873, 0.014054962126644931), (3152, 0.0140459232801659), (4342, 0.014029206365996355), (1420, 0.014026248579917413), (3868, 0.014024871950866616), (1385, 0.014003489776369945), (2935, 0.01399086792059594), (1749, 0.013901461751127584), (199, 0.013866085140734822), (3923, 0.013862594968120675), (4548, 0.01384612407866773), (1990, 0.013838971799267586), (60, 0.01383531173635395), (2421, 0.013827182049420619), (4388, 0.013812579571048518), (1658, 0.013807915992580175), (3096, 0.01379584200454869), (2503, 0.013791913435624267), (3852, 0.0137704107357248), (3426, 0.013766763959616074), (307, 0.013756677154839617), (3598, 0.01374987176366743), (3825, 0.013739811490857373), (684, 0.013724425404762836), (4106, 0.013696556408153288), (1945, 0.013695635348302558), (2051, 0.013694580843768265), (263, 0.01368843253506727), (1849, 0.01366958255332577), (2193, 0.013668250669227461), (3094, 0.013667865212776898), (936, 0.013661868442569301), (1764, 0.013638672395574897), (2239, 0.013638295833856139), (3829, 0.013636628112092115), (2062, 0.013598404635331423), (4726, 0.013521836188519085), (3246, 0.013490966527834271), (1194, 0.013488849113999229), (1005, 0.013488760291293901), (240, 0.013451018747838071), (1376, 0.013445673518675086), (3594, 0.013441686664695739), (1997, 0.013402835655219032), (2160, 0.013402512734925064), (648, 0.013398593150445804), (2205, 0.013379615271106383), (1327, 0.013374282536064212), (4242, 0.013373083364342888), (2049, 0.013347223800584954), (2992, 0.013315156328021098), (1059, 0.01325972338957143), (2603, 0.013248194158907597), (2915, 0.013223086729945316), (208, 0.013215328065642892), (4110, 0.013206754321116903), (1329, 0.013202137663098199), (3114, 0.01320083768355541), (441, 0.013184558923678083), (2285, 0.013159147607936196), (83, 0.013139858740587713), (284, 0.013134497300436282), (947, 0.013117014815683756), (1684, 0.013111809104262349), (970, 0.013101245602608488), (3046, 0.01308631578865734), (4134, 0.01308021903257608), (2116, 0.013073664185216143), (63, 0.013073346641193383), (511, 0.013073265642196756), (4748, 0.013060027631577473), (834, 0.013050746169663483), (3579, 0.01303689135761055), (3373, 0.012977238024852419), (2110, 0.012955417488442887), (381, 0.012950896036278307), (521, 0.012930970412409147), (3085, 0.01291885920821286), (1567, 0.012880089232592094), (4009, 0.012877128105185758), (3108, 0.012868715103335943), (3167, 0.012830820512262473), (2680, 0.012824893924135272), (1128, 0.012819400838036676), (2975, 0.012795072800895958), (835, 0.012786924317116323), (1685, 0.012767738146101245), (2113, 0.012766234114051655), (3244, 0.012760635982442703), (4057, 0.012756602276383222), (1950, 0.012753974038301807), (2468, 0.012729276422219578), (2718, 0.012719812163776694), (4649, 0.0127038932699244), (3319, 0.012703696906162503), (4610, 0.01268253395453552), (732, 0.012651313432278544), (1182, 0.0126497782174245), (4055, 0.012613069071758609), (3566, 0.01260414007744055), (3913, 0.012581367211776615), (2885, 0.012576469328629096), (2640, 0.012567066024208796), (2018, 0.012565921057930111), (3428, 0.012565481224543797), (3, 0.012558662536974404), (4459, 0.012556261829849686), (1757, 0.012544003935876116), (2291, 0.012530503755825002), (4576, 0.012528618649401028), (1267, 0.012484014111822896), (482, 0.012470010503023144), (1715, 0.012415815121870526), (317, 0.012360148148346866), (3524, 0.012347471612779774), (113, 0.012347105134425326), (2929, 0.012340514101263854), (885, 0.012280528817294887), (2587, 0.01221820630987523), (4603, 0.012202735409613901), (2175, 0.012195089402877744), (3865, 0.012181906115699265), (1723, 0.012181467440726082), (354, 0.012172185685223486), (597, 0.012169506038260634), (2932, 0.012111676979056001), (1662, 0.01209672050949575), (853, 0.012093745652430973), (1793, 0.012088498703418602), (327, 0.012080884669898437), (3821, 0.012075013650990476), (35, 0.012054150427297237), (2439, 0.012050932969952806), (1019, 0.012045672119275541), (1818, 0.01203253896294683), (2767, 0.012012396669714216), (406, 0.012006640680297418), (1077, 0.011994521748793428), (2058, 0.011961373025038854), (547, 0.011959267540824454), (1571, 0.01195021405350304), (147, 0.011946377088739997), (1020, 0.011942768085810032), (583, 0.011926770923054286), (3957, 0.011845079397642424), (2645, 0.011825379560909715), (4182, 0.011818854325901643), (4335, 0.01181806662105576), (1650, 0.011817939936134041), (2942, 0.01181511188317888), (309, 0.011809191817713428), (2449, 0.011808536612305916), (2087, 0.011763957836675411), (383, 0.011724953074028627), (177, 0.011684094118372181), (719, 0.011662441645875089), (271, 0.011639216669620376), (2203, 0.011621137709287663), (664, 0.011617912582930387), (144, 0.011579914630001773), (2769, 0.011577563831147726), (2563, 0.01156928331488413), (3509, 0.011528113110900738), (123, 0.011509858477851943), (2812, 0.011499637524087641), (538, 0.011462284409036308), (197, 0.011454325206422573), (2210, 0.011443885767143638), (2277, 0.011434817746531703), (3752, 0.01142300995642782), (1897, 0.01137947027525376), (3828, 0.011368854236241953), (2156, 0.011367261062789166), (1006, 0.011359091901597382), (0, 0.011354520917894698), (1144, 0.011340024385560971), (3978, 0.011296305810519058), (3215, 0.011277881676488983), (433, 0.011270354715998136), (3010, 0.01125819496227073), (3083, 0.011243300861102893), (3675, 0.011237494850570027), (2306, 0.011232436786849528), (3919, 0.011231220538488993), (464, 0.011220123116947416), (2844, 0.011215616795432), (2789, 0.011197587374968202), (472, 0.011165243041830886), (159, 0.011164850269286751), (1064, 0.011152788628872423), (1075, 0.011126805821005416), (288, 0.01110005101152045), (125, 0.011056160253582435), (243, 0.01103349285557689), (3019, 0.011015412616447914), (3748, 0.010979693775437033), (2096, 0.010972408569404608), (838, 0.010922865913816459), (2074, 0.01091768825062033), (2185, 0.010916062130698283), (1790, 0.010895994183896434), (3940, 0.010882659061234718), (402, 0.010868166192354737), (937, 0.010866163055623972), (1053, 0.010838697366222763), (277, 0.010778852877602352), (1125, 0.010768566655243558), (470, 0.010709961468334356), (3423, 0.010706361901740536), (2985, 0.010704555629320127), (2505, 0.010703761074725381), (1713, 0.010672359249979628), (2236, 0.010661976502940648), (1475, 0.010631458836851168), (2197, 0.010630332302885655), (181, 0.010604174492769706), (1453, 0.010589915400620738), (860, 0.010585316403958475), (3065, 0.01056639705847578), (2646, 0.010541723208198127), (3661, 0.010507582128492813), (1708, 0.010491113029205341), (2403, 0.010480479753527951), (2936, 0.010480166263072657), (4158, 0.010468426520936854), (4371, 0.010467044621771102), (3008, 0.010447342373645392), (3205, 0.010427800746535702), (874, 0.010355389666253084), (533, 0.010327229928073191), (4336, 0.010294668949983272), (4088, 0.010286022168690435), (40, 0.010277247383684513), (1014, 0.010274132571447893), (266, 0.01026605662481514), (2209, 0.010238667550776995), (4288, 0.010228924388103664), (3164, 0.010227096870502758), (173, 0.010208673758512128), (697, 0.010199343129987364), (2988, 0.010193423779563738), (1779, 0.010192336145203058), (733, 0.010166566390103162), (4524, 0.010158124306471306), (2843, 0.010156461689749591), (1519, 0.01014359765907647), (1351, 0.010133732768112285), (82, 0.010128659999436962), (1712, 0.010118412188864653), (3316, 0.010102537578721326), (2665, 0.010057882164792226), (434, 0.010055221355247985), (1630, 0.010037542337892584), (2545, 0.01003726351473786), (4351, 0.010034431548481581), (2022, 0.00999412712202906), (1290, 0.009992293782237793), (1279, 0.009925348612562092), (4373, 0.009840774649261922), (3346, 0.009827680341053906), (120, 0.009816548129483984), (477, 0.009810813079492654), (4052, 0.00975386915581905), (1137, 0.00974766862417653), (4231, 0.009737999267016614), (986, 0.00973117890709222), (940, 0.00967671848828293), (2795, 0.00963999559255661), (1730, 0.009621488518788362), (949, 0.009621301853870322), (3275, 0.009612331672124705), (1853, 0.009599987943291526), (4695, 0.00959454369499791), (1306, 0.009591071629787664), (966, 0.00957144052805224), (2155, 0.009557231051099676), (1184, 0.009553117532319461), (2708, 0.009536564077480318), (963, 0.009529791762149251), (1018, 0.009524308331399497), (3410, 0.009505595341451479), (1009, 0.00950487421618365), (651, 0.009459585141159797), (534, 0.009428900014976977), (689, 0.009384919389254044), (742, 0.00938165824602385), (2934, 0.009367600986599804), (3634, 0.009355676135532735), (692, 0.009354628098824638), (900, 0.009329313272948636), (1934, 0.009328080735351438), (2473, 0.009327068200185393), (414, 0.009326221181945912), (336, 0.009313406931135935), (1275, 0.009303644801564053), (715, 0.009289876879099167), (3694, 0.00920820843865274), (2961, 0.009194147580887015), (2279, 0.009191952461441544), (1446, 0.009187561898282775), (1160, 0.009158623629976034), (858, 0.009139415389325955), (1069, 0.00913654654606021), (2406, 0.009126277676163402), (2121, 0.009114447222998038), (4366, 0.009109154062982412), (1701, 0.009097460552009906), (4246, 0.009076543838816103), (537, 0.009059356299926482), (455, 0.009047564385018539), (340, 0.009011004578333048), (3171, 0.009006343282184267), (1017, 0.008982916377729026), (2064, 0.00897635234479745), (4475, 0.00894375304137574), (2886, 0.008936880253984897), (48, 0.008927831932162789), (32, 0.008887422418246178), (21, 0.00887618532097752), (1864, 0.008864444534175219), (1308, 0.008855586731726676), (701, 0.008843355295325046), (3119, 0.008838585426559322), (3599, 0.008811153342447486), (3309, 0.008799449588218817), (1461, 0.008785257478938916), (1119, 0.008772005304477637), (1737, 0.008720939684381743), (386, 0.008708680282999317), (2016, 0.008659882330168303), (3992, 0.008659216961971524), (3437, 0.008635307323303767), (1716, 0.008625338782872728), (1690, 0.008581616001765123), (2275, 0.008568273208079978), (3210, 0.00856782983756388), (232, 0.008550617399385623), (4367, 0.008544045783864597), (4669, 0.008524180144271953), (737, 0.008486695571495229), (561, 0.00847152380359331), (51, 0.008459375471741339), (341, 0.008423617239482017), (450, 0.008415320975913404), (429, 0.008402894560202599), (2334, 0.00839934574065994), (2489, 0.008392295745017347), (896, 0.008359371724629125), (924, 0.008357620421923149), (1359, 0.00835150989760711), (242, 0.008302347525648705), (3924, 0.008282320284428771), (1099, 0.00828101521413609), (584, 0.00827537089331553), (183, 0.008255447493673405), (3632, 0.008238715947818751), (1773, 0.00823243091512012), (3959, 0.008227285915039826), (4236, 0.00822627778032953), (1035, 0.00820291139852756), (582, 0.008197805103758843), (600, 0.008194213782342972), (3596, 0.008188999594678233), (4379, 0.008171102271592689), (3458, 0.008168172098144376), (1477, 0.008148751267468845), (363, 0.008139656859534366), (809, 0.008121414859827578), (1761, 0.008103579861215831), (4077, 0.008103039719329044), (4469, 0.008102886072947934), (2964, 0.008076826996510196), (1407, 0.008050370994871756), (3306, 0.008041034324867163), (2803, 0.008022541341411477), (321, 0.008004631724292671), (1812, 0.008000060413899656), (1262, 0.00799574071771707), (821, 0.007991196777150888), (2095, 0.007990397480352154), (3086, 0.007979041380571776), (2522, 0.007970895187297055), (2760, 0.007956954518013643), (301, 0.0079313004167942), (1255, 0.00792401580320913), (800, 0.007920545356201802), (543, 0.007917973469305449), (458, 0.007916011481535382), (1762, 0.00790779013641494), (2602, 0.007897685394095499), (4738, 0.007882506504705768), (1183, 0.00785719150393001), (2727, 0.007847539174975944), (766, 0.00783319814526822), (1048, 0.007830322777193338), (705, 0.007807459716608404), (2097, 0.0078015764646649265), (270, 0.007798710753367315), (1552, 0.0077843564478076305), (2024, 0.00777901551283186), (3288, 0.007755488257222895), (2919, 0.0077537302772716764), (817, 0.007722344105760658), (799, 0.007710408866860917), (3535, 0.00770671557793918), (2939, 0.007699253527662708), (3066, 0.007690343313016843), (149, 0.007688140109480974), (3456, 0.007661444620837646), (671, 0.007655585591696232), (1852, 0.007655298348324352), (2784, 0.007649036276441087), (1232, 0.0076416102704995725), (5, 0.007638021627455725), (3777, 0.007630485762867182), (4724, 0.007614975567699567), (2464, 0.007614890309282116), (2996, 0.007613535819774786), (1936, 0.007612539344865423), (3854, 0.007603128826061503), (1621, 0.0075999456144561495), (1696, 0.007598511532311614), (446, 0.0075848173463069985), (2660, 0.007551533749659546), (52, 0.007550126040990197), (1644, 0.007516467007076771), (1665, 0.007487697653748783), (3043, 0.007483139902643732), (502, 0.0074795441227067045), (2695, 0.0073858618857061496), (989, 0.007365868532860694), (1664, 0.007358534350514505), (4551, 0.0073544756347449), (2254, 0.0073386706038338755), (866, 0.007336760495629638), (879, 0.007331949427282134), (461, 0.007319967208039639), (1148, 0.007319232497665563), (3713, 0.0073168309824837), (2910, 0.007311013937476133), (281, 0.00730681245689828), (1867, 0.007304049722443805), (2053, 0.007298979229812175), (4048, 0.007292144807912813), (248, 0.00729133253720298), (1224, 0.007289874490495606), (322, 0.007283406309322913), (1551, 0.007281075273611143), (2849, 0.0072500287290454875), (1050, 0.007236146135141274), (1591, 0.0072290523015880615), (3612, 0.007208029645063535), (760, 0.007199602232935159), (1037, 0.00719381083703627), (1674, 0.0071898671650508), (370, 0.007182319229185637), (4068, 0.007181260642704148), (958, 0.007171449490110222), (1743, 0.007146303011501867), (622, 0.007137138376978502), (1860, 0.007128105663838349), (4512, 0.007114657338642872), (1334, 0.007110432722407775), (182, 0.007088409732838261), (1252, 0.007084168453825602), (758, 0.007064661735566261), (1058, 0.007062305947968571), (4387, 0.007049568482510805), (1226, 0.007049105371953727), (1873, 0.007038316011916812), (156, 0.00701727390379135), (4503, 0.007009164471996038), (843, 0.006976205660085095), (842, 0.006971623040743445), (4227, 0.006961070064587838), (4192, 0.006953645060400941), (2098, 0.006952726335352294), (164, 0.00694217185902989), (641, 0.00694161629030066), (1967, 0.006938587486682859), (3453, 0.006935868477395842), (1172, 0.006921740863323066), (1913, 0.006911910297615416), (1337, 0.006911618324361478), (667, 0.0069099434665318765), (4673, 0.006909743882566011), (1000, 0.006890545244068294), (1096, 0.006880420340839173), (1360, 0.006872550754068407), (300, 0.006870488238749348), (3862, 0.0068689737608527614), (445, 0.006855652240772187), (979, 0.006853915716114874), (1746, 0.0068434460564266286), (1747, 0.006823919976041365), (3297, 0.006815414579027385), (1595, 0.0067821814476902165), (276, 0.00677388310346531), (4385, 0.006771054929383599), (988, 0.006749442832924654), (616, 0.006745785411829518), (2572, 0.006734451574747928), (3317, 0.006724016122693863), (3245, 0.0067162250174879696), (1094, 0.006713318318628722), (2202, 0.006694994088356906), (230, 0.0066933265066936335), (468, 0.006692622057333864), (2216, 0.0066770578804493655), (1832, 0.006668890986657879), (816, 0.0066397433425710636), (368, 0.006638073011964158), (449, 0.006627552483284852), (806, 0.006625581981736149), (1343, 0.006597057485235795), (2512, 0.006595739564680571), (2080, 0.006574352926294594), (4735, 0.006557013288312585), (4502, 0.0065539501222645225), (224, 0.006551153916009441), (1388, 0.006547065826293061), (4095, 0.00654419121816277), (3998, 0.006528485451125182), (1833, 0.006525694965204652), (2065, 0.0065246613848080875), (87, 0.006490815978812887), (1312, 0.00644884171903357), (1815, 0.006430870437110297), (1863, 0.006420302512850274), (878, 0.006409053212781637), (4118, 0.006390348798712467), (1345, 0.006382550357880255), (1739, 0.006364253138211267), (3708, 0.006309193458794232), (236, 0.0063030512026904005), (2224, 0.0062985320296689426), (948, 0.0062965023266021375), (753, 0.00624473956348074), (78, 0.006240173271516187), (2250, 0.006216913893493476), (4374, 0.006214743823499019), (4121, 0.006199367425466706), (4435, 0.006192261613636433), (2780, 0.006163499606549224), (676, 0.006158089732049545), (4747, 0.006137096664113981), (385, 0.006118573718940053), (1754, 0.0060956193257406), (1553, 0.006086397285201979), (2486, 0.006084451020576081), (3642, 0.0060843870415791985), (3329, 0.006077398827081195), (207, 0.006053922384400004), (4465, 0.0060487011499394325), (2820, 0.006046952440579793), (1903, 0.006033955986288175), (1858, 0.006032440016720936), (3192, 0.0060272867178215875), (905, 0.00599190008582903), (1806, 0.005988878038191059), (3370, 0.005981785856986322), (1432, 0.005968976314332669), (1185, 0.005960406282430065), (1705, 0.005958744509989322), (3637, 0.005955741848914384), (1237, 0.005945979004560316), (4581, 0.005942577800603806), (1874, 0.005941176449180249), (180, 0.005929375020575211), (3312, 0.005922413544446943), (3741, 0.005876211865602687), (1922, 0.005874796753875611), (4000, 0.005868555432743002), (3586, 0.005862123569648695), (683, 0.005855851997745689), (1727, 0.005843725816753385), (4235, 0.0058367510806559796), (3259, 0.005834997684598924), (4531, 0.005823460427686686), (1695, 0.005821187770104336), (2546, 0.0058017940682335315), (3155, 0.005780673165468753), (2093, 0.005731614189893517), (2412, 0.00573133262652673), (3465, 0.005707379491305251), (2978, 0.005691530835260957), (2346, 0.00568810382312307), (3659, 0.005667710525526365), (675, 0.00566701409392468), (168, 0.005663818645236557), (828, 0.005662262216518769), (908, 0.005661446511842411), (3118, 0.005657600447757226), (653, 0.005641771652690857), (4233, 0.005641418757235692), (654, 0.005606049053960158), (4656, 0.005601334597309382), (483, 0.005586500888237166), (2871, 0.005569427270163939), (2206, 0.005566124862567019), (3142, 0.005561577349461772), (201, 0.00555354386095196), (2284, 0.005546237330942082), (244, 0.005540574258905979), (3645, 0.005514962727833653), (1736, 0.0054997537070435275), (4060, 0.005491533692212623), (1735, 0.00548935494959558), (3756, 0.005478904110743665), (1234, 0.005450302191037617), (4124, 0.0054416934775233985), (162, 0.0054394634792712246), (4557, 0.005436249325327719), (2774, 0.00542254881179763), (2126, 0.005417303919671916), (1937, 0.005411436372695072), (4510, 0.005401225738551817), (1339, 0.005397633440275923), (931, 0.005388893170567283), (829, 0.0053886902367991495), (1455, 0.0053845141066451545), (2447, 0.005379396052511875), (1440, 0.005379102378666144), (485, 0.0053539965815311815), (1949, 0.005353196783614418), (918, 0.005342866948492666), (3110, 0.005328295842406661), (1971, 0.005326034859062153), (418, 0.005297238682251509), (3582, 0.005293765556752321), (790, 0.005286026509022397), (2280, 0.0052832430979825205), (1387, 0.005275921235375679), (2614, 0.005260587804949935), (994, 0.005242459835503897), (2739, 0.005233112883549483), (4442, 0.005231157659432275), (827, 0.005223047921352708), (4623, 0.005215747954534781), (1406, 0.005199842806040067), (1854, 0.0051833403452437275), (283, 0.00518194990907588), (4474, 0.005167878686753184), (544, 0.005153024405679034), (1230, 0.005130684961041204), (396, 0.00512184350342829), (4652, 0.005105281223992792), (2752, 0.0050877621685543), (3699, 0.0050754348347269215), (2809, 0.005067478662300643), (1436, 0.005063069532999548), (869, 0.005004176736065921), (105, 0.005001064225588389), (1509, 0.004995519251522898), (3842, 0.00498714147072366), (2196, 0.004985635811603248), (2918, 0.004983624628336912), (4216, 0.004968862986937002), (3670, 0.0049647188499490165), (447, 0.004941277165392169), (1419, 0.004928416273263393), (3382, 0.004917608240564052), (494, 0.004907044180513357), (4553, 0.004906594124186848), (2925, 0.004885516291470155), (1542, 0.004885135386241321), (170, 0.004858884859468962), (695, 0.004840993220418138), (3941, 0.00483525411619558), (3099, 0.004820057702682738), (1680, 0.004781020242347181), (3794, 0.004746016456222337), (1371, 0.004740601813518444), (1231, 0.004721679488029372), (2913, 0.004720067279489989), (3418, 0.004715319108255946), (3993, 0.004666131567096255), (1992, 0.004650021226087043), (2897, 0.004591376678557041), (1348, 0.0045816283711467565), (360, 0.004575264201924271), (2235, 0.004571626784123896), (4325, 0.004545596340177317), (3070, 0.004543068052664232), (1797, 0.0045198707612500175), (801, 0.004485446957350068), (3860, 0.004474728090117261), (4481, 0.0044678162001052105), (155, 0.004464699309533363), (3512, 0.0044379671620200616), (2264, 0.004436887526906226), (2678, 0.004364036064090136), (2076, 0.004319710044818406), (915, 0.00431966894903166), (285, 0.004316125110274842), (333, 0.004305409078073092), (1061, 0.0043031417448032095), (1236, 0.004291656760987111), (4232, 0.00426454405432766), (122, 0.004258527041526382), (3932, 0.00424490835396787), (1776, 0.004202297180936545), (3178, 0.004197478073285085), (500, 0.004196920197875636), (611, 0.004188182529164963), (4555, 0.0041761735416797315), (4571, 0.0041522196418023825), (1816, 0.004151668547451865), (3232, 0.004112752392146318), (4164, 0.0041091637982133555), (1694, 0.004108061245645984), (542, 0.004055658821932926), (501, 0.004045855108183096), (3925, 0.00402623977495365), (939, 0.0040255837150374495), (475, 0.004009318669963605), (148, 0.004001978659003834), (2617, 0.003997343121608849), (735, 0.003959000970613967), (2529, 0.003927078525677524), (2998, 0.003916492668531243), (3291, 0.003909277511054408), (1115, 0.0038937818266852157), (2490, 0.003871806806187925), (4202, 0.0038604010811348947), (3257, 0.0038441695788959266), (2989, 0.003816513714112207), (2764, 0.0038060088585856688), (2251, 0.0038005619462501677), (3267, 0.0037990081499866763), (2870, 0.0037988143882107988), (1442, 0.0037841642470152416), (3051, 0.00378088898643628), (2379, 0.003777307812624283), (3563, 0.0037764952415470536), (4096, 0.0037656907883516807), (2832, 0.0037638941976125702), (1300, 0.003763699982830292), (3262, 0.003753885515199773), (2768, 0.0037523024113958648), (2349, 0.003728998602550256), (435, 0.0037241282330378856), (2655, 0.0037056991240732515), (4617, 0.0036846818020471414), (2643, 0.0036795371799037547), (2883, 0.0036686191237057415), (3990, 0.003661263027487525), (2775, 0.0036602473269133533), (627, 0.003641227602632288), (3635, 0.0036363527122368826), (2889, 0.0036357947859307536), (4710, 0.0036255935423019944), (2407, 0.0036108333436961466), (2731, 0.003610806165489934), (668, 0.0036049173717011464), (2901, 0.0035883053127262828), (2559, 0.003587454092921187), (3479, 0.0035529209055772753), (2255, 0.003545339540792795), (4484, 0.0035408766333642613), (3922, 0.003531868870103013), (2423, 0.0035245225408640788), (2257, 0.0035238987667596585), (4546, 0.0035100660458637764), (2350, 0.003509849733612162), (3015, 0.003493787959844502), (3892, 0.0034896190054293777), (3166, 0.003477727523795885), (1276, 0.003472729691793296), (2438, 0.0034706320484650457), (2075, 0.0034689354845537468), (2415, 0.003464000291253337), (3613, 0.003462901030350407), (4723, 0.0034594781961724444), (3074, 0.0034497306063553143), (2199, 0.003443725908803795), (3832, 0.003417639875788302), (2797, 0.0034125479801898435), (2966, 0.0033922958287586355), (4637, 0.003374933500067957), (2286, 0.0033646299527727267), (3081, 0.0033613105934199813), (1264, 0.0033607137609638293), (1711, 0.0033499380104342145), (2879, 0.0033485083638528715), (4163, 0.003327347289763965), (3620, 0.0033227482044854554), (4521, 0.0033210677359115618), (2778, 0.0033132455177305553), (326, 0.003300278454626034), (3521, 0.0032898163152715594), (3072, 0.003282733718155983), (4261, 0.003279979675236807), (4243, 0.0032794608151178383), (2890, 0.003277778961422551), (2848, 0.0032601172114832084), (1995, 0.003251666184860868), (3355, 0.0032489254084399313), (3952, 0.0032473693378997407), (3359, 0.00324661615325318), (3123, 0.0032422770645430784), (1429, 0.003239057788731155), (3012, 0.003235992859078084), (2388, 0.003233228880650928), (2772, 0.0032316314875430333), (4632, 0.0032296896639447048), (3165, 0.0032282062121268113), (4244, 0.0032197660555976534), (2748, 0.00320879674767936), (925, 0.0032086735745452794), (4412, 0.0032058937131530687), (1049, 0.0032050339847895766), (2535, 0.003204314109477293), (2475, 0.0032025136598098462), (2623, 0.0032019706807010257), (2796, 0.0032010165483388774), (2872, 0.0031973823991280153), (2986, 0.0031959768442330113), (2914, 0.0031946448114994596), (2437, 0.0031937680367237426), (3413, 0.0031903777205351813), (1187, 0.0031859732177539554), (1947, 0.0031855173146172174), (1547, 0.003184828197775907), (721, 0.003184516613124461), (3062, 0.003174693985856947), (4706, 0.0031704803559581794), (2916, 0.0031660025069449485), (419, 0.0031633654249018537), (369, 0.003161490880220202), (2134, 0.0031591355064923537), (3274, 0.003158544839984477), (4516, 0.0031544325481276444), (3680, 0.0031523948804193453), (4713, 0.003151040968567957), (1748, 0.003150195243499746), (3745, 0.003149023752893162), (1909, 0.003146931445845212), (4295, 0.0031447513888914072), (1208, 0.0031374897335682446), (2089, 0.003136670141425301), (3296, 0.0031352640088246515), (2702, 0.0031288543821646106), (2881, 0.0031249479795110854), (4444, 0.003123715732210983), (2974, 0.0031234986931160877), (3590, 0.0031193376331299445), (4718, 0.0031148292191748106), (4522, 0.0031144189550198647), (431, 0.003113435466187665), (3258, 0.0031112096551505117), (596, 0.003109940205506041), (2664, 0.00310784863082569), (2478, 0.0031061430717636484), (2411, 0.0031036287783484744), (998, 0.0031030704555026186), (3032, 0.003101457988615548), (2448, 0.003100445643334075), (2302, 0.003090902686689142), (3044, 0.003080579011939845), (999, 0.003080003741723881), (4160, 0.0030755425393698996), (2705, 0.0030683648052255382), (2888, 0.0030665691338243486), (3148, 0.003065974318139061), (2260, 0.0030656519136923496), (2108, 0.0030599950551830793), (3827, 0.0030596715537231606), (4133, 0.003052253935048038), (2428, 0.00305037080007312), (2176, 0.0030485363139673774), (2943, 0.003046527406098557), (4657, 0.003036369309663721), (3391, 0.0030315164350430183), (4082, 0.003023251892574317), (576, 0.003020070894938574), (4507, 0.0030148566711422544), (3417, 0.0030137578606677755), (4138, 0.003010631800601512), (4734, 0.003008490818321601), (876, 0.0030037670592333856), (3146, 0.002996972079174574), (3037, 0.0029932398046734507), (2223, 0.002991572026109824), (3902, 0.0029865103387737616), (2159, 0.002986154945048374), (2394, 0.0029853064408636677), (448, 0.0029839781291325085), (8, 0.002981685306370331), (4528, 0.002979061809414612), (2361, 0.0029774572260813444), (3749, 0.0029753986270116637), (1498, 0.0029749568538792446), (1822, 0.0029746953255964494), (4625, 0.0029728273831076506), (3112, 0.0029591467955748436), (1905, 0.0029560900603263322), (4111, 0.002954863683194355), (3704, 0.0029536673880304607), (4014, 0.0029528122143591966), (4575, 0.002949990501983033), (2289, 0.0029439691416324357), (4079, 0.0029439632548953795), (3866, 0.002942761361263128), (4520, 0.002942735212704993), (3901, 0.0029385559301296233), (4619, 0.002937970857841923), (4249, 0.0029366069871885926), (2390, 0.002934295153784575), (4419, 0.0029338769748991577), (3527, 0.002927228149493782), (4117, 0.0029247122536186533), (1513, 0.002924570639090836), (1570, 0.002921723251438926), (274, 0.002921647807887417), (826, 0.0029190980245482954), (4722, 0.0029185503360619493), (3363, 0.0029170236581206187), (3219, 0.002912976173163984), (2344, 0.0029044790937216335), (4357, 0.0029021810257703787), (1350, 0.0029010786007213508), (3349, 0.0028985483721490285), (2776, 0.0028937154949449815), (2999, 0.0028911646317581956), (2434, 0.0028888842785854377), (4430, 0.0028872159438215047), (2926, 0.0028867325486038996), (3075, 0.0028808273171365443), (1960, 0.002880439684977451), (2048, 0.0028796611709854935), (4477, 0.0028712960267564106), (4422, 0.0028695018266171233), (564, 0.0028666966281387417), (2629, 0.0028666378527180876), (761, 0.0028645564174392207), (3076, 0.0028637146019527), (4490, 0.002858819796989351), (3501, 0.0028557210037323667), (614, 0.002851185870868271), (2924, 0.002848889217155799), (4573, 0.0028455944770705314), (2386, 0.0028367554368951987), (3809, 0.0028313270634955294), (2661, 0.0028285075803601662), (4330, 0.002828324683888897), (2466, 0.002824467278683445), (783, 0.0028218966848027422), (4668, 0.0028164114275753007), (3766, 0.0028155759293743833), (3873, 0.0028153190927633636), (1083, 0.0028141377140084916), (3763, 0.0028127951595664593), (3640, 0.0027993272837781033), (3542, 0.002798795072072019), (4535, 0.0027904729996633426), (3282, 0.002787380574093846), (2555, 0.002781759178432659), (3772, 0.0027812947436236315), (3707, 0.0027799229972630787), (4098, 0.002775379839058418), (2188, 0.0027749403059441997), (3727, 0.0027690891554721314), (4092, 0.0027627541462011745), (4448, 0.0027558096964539792), (436, 0.0027476224115977415), (3799, 0.0027470326272528082), (3900, 0.0027458687855669885), (2946, 0.002745525882414853), (12, 0.002745387021625392), (3560, 0.0027446262030601846), (3268, 0.002737246320765464), (4660, 0.0027355448378961118), (2405, 0.0027338196317227468), (3493, 0.002731786793118443), (3920, 0.0027253897540391887), (693, 0.0027213828159623637), (1924, 0.002720166254333074), (4333, 0.0027184057772712098), (739, 0.002716530701172563), (3187, 0.0027135891084200084), (3308, 0.002709982035263555), (1687, 0.0027031925448815627), (4269, 0.0027001884662918654), (3170, 0.0026980775693192026), (2229, 0.0026966607151571328), (3196, 0.0026851987238922462), (2570, 0.0026848956124138493), (1474, 0.002676727781846688), (644, 0.0026761561549161874), (1364, 0.002669402478881911), (4530, 0.0026689918726007698), (1892, 0.0026651002213340384), (3140, 0.002663737931225774), (1161, 0.002663585067065682), (857, 0.0026621375394721403), (755, 0.0026620665457260623), (2091, 0.0026581245919653287), (3962, 0.0026570928285220823), (1907, 0.002655163627869959), (3917, 0.0026524710851177783), (985, 0.0026517332389019814), (107, 0.002651718625379869), (1896, 0.0026464880688717215), (4593, 0.002639419244403121), (3893, 0.002637202909687496), (4087, 0.002635255239032694), (4368, 0.0026346197814273386), (1628, 0.0026328548996661775), (2162, 0.0026304502587398107), (3898, 0.002626335488012715), (3050, 0.0026246987683700798), (3325, 0.002619803135510577), (2696, 0.0026177093686259425), (1349, 0.0026164546897904186), (2674, 0.0026154832888714086), (4517, 0.0026150608420823264), (350, 0.0026139313475836328), (318, 0.002612900985647394), (488, 0.002610484764075428), (3357, 0.002609648161536117), (3845, 0.0026089023300559515), (2838, 0.0026061668181520743), (2556, 0.0026055706217241693), (2067, 0.0025982460971544787), (2266, 0.00259685613529301), (41, 0.002591881090834105), (1324, 0.0025916559121072543), (813, 0.0025909786397408084), (652, 0.002590889417980158), (2743, 0.0025886447843838215), (206, 0.002579737711139686), (4116, 0.002578639156732146), (4401, 0.002573475100600925), (4494, 0.0025729327242487512), (3273, 0.002572027884226753), (34, 0.0025706105018467864), (4369, 0.002566832200978575), (688, 0.002565455932941772), (2821, 0.00256252285594338), (587, 0.0025614005224099934), (3198, 0.002559749239559804), (1703, 0.002559286614200754), (3496, 0.002552630408609281), (4187, 0.0025485512910453246), (1893, 0.00254666770068061), (716, 0.002540164362411367), (1537, 0.002538945864715152), (1065, 0.0025385909757361614), (3882, 0.0025367372599678956), (4051, 0.0025359123635996534), (4293, 0.002535344850060322), (4470, 0.0025348501895847354), (3618, 0.00253460354530489), (1851, 0.0025305388266781193), (2857, 0.002530223773929727), (871, 0.002523943066544541), (3425, 0.002521661916447788), (4056, 0.0025173517887307744), (11, 0.0025156393305481068), (3883, 0.0025146966964747636), (4563, 0.0025143602723142885), (3406, 0.002512948912431501), (3195, 0.00251106698697985), (2834, 0.002509832204863657), (2348, 0.0025081970232010164), (4566, 0.002507678388069541), (3500, 0.0025073853772676616), (3755, 0.00250551080216763), (2714, 0.0025031834741808833), (1866, 0.002499415524403676), (1400, 0.0024978078532441384), (1489, 0.0024977904274841355), (1923, 0.002495955370678759), (4123, 0.0024941219984391427), (4589, 0.0024937160271287693), (1188, 0.002493311906604068), (493, 0.002492249095786558), (3526, 0.002490566389765139), (4130, 0.002488420373408256), (3960, 0.0024867627170128853), (4501, 0.0024855734000858026), (872, 0.002481206450467839), (4629, 0.002480830519099053), (3184, 0.0024782661191673403), (4429, 0.002478178287659273), (3013, 0.0024767869229956065), (579, 0.0024761291202209934), (2830, 0.0024753343262942594), (443, 0.0024740707631030374), (1968, 0.0024724206542372923), (3653, 0.002471526889196319), (3771, 0.0024705511456525075), (2105, 0.0024699404316288753), (2459, 0.0024697125693231895), (3326, 0.0024627018912677864), (2488, 0.0024617276757915485), (2554, 0.0024615485454932444), (1643, 0.0024600369002721594), (3623, 0.002459483275564402), (4420, 0.0024572714232699556), (1916, 0.0024559080671342714), (3666, 0.0024550750098134644), (3214, 0.0024544649902241878), (2400, 0.002454199502237557), (192, 0.0024539236520834157), (23, 0.002452078049648711), (2242, 0.0024519717975100704), (2083, 0.0024518847210858005), (1722, 0.0024488397282432764), (1225, 0.002445528618377174), (4266, 0.0024427289433927896), (1163, 0.0024411906505006275), (3639, 0.002435191272613834), (3915, 0.002434477423737279), (888, 0.0024328281287051934), (3624, 0.0024310262390282653), (2592, 0.0024300785073642587), (504, 0.002429345590503476), (1109, 0.002428035419592185), (103, 0.0024276233278475215), (4650, 0.002423995410938763), (4259, 0.002419379849860044), (1176, 0.00241863778935822), (4046, 0.002418620923311552), (729, 0.0024183049627363906), (1007, 0.002415421370404477), (2391, 0.0024121711040376815), (2625, 0.0024114060745656497), (3097, 0.0024113034290439905), (3928, 0.00240944699431554), (4489, 0.00240939633244595), (1902, 0.0024088842995659927), (3813, 0.0024087449143404315), (3819, 0.0024061121748435443), (1325, 0.0024055627363287866), (2477, 0.0024045381022175564), (178, 0.0024032624551858154), (4699, 0.0024012932816925153), (3233, 0.002399376078377126), (3379, 0.002394491489881386), (588, 0.002394479861461076), (980, 0.00239406721507467), (2609, 0.0023938328907078636), (2169, 0.002390787877612802), (792, 0.002389778830429712), (4309, 0.0023883246774452044), (74, 0.002386729565651916), (3388, 0.0023839182970040148), (4362, 0.0023831281394677962), (1040, 0.0023808220334540237), (3780, 0.0023789314555845873), (636, 0.0023766609810982886), (2104, 0.0023760783036798124), (991, 0.002374406850880363), (3445, 0.0023738505702683367), (1653, 0.002373284121819743), (4601, 0.0023719849123726047), (3638, 0.0023700358567454367), (2088, 0.002369755148600795), (3557, 0.00236883266987617), (4334, 0.0023684093996899527), (1882, 0.002366070102704188), (3734, 0.0023656992799961133), (4311, 0.0023583011121259003), (4670, 0.002356924765838616), (3302, 0.002354616331654489), (3754, 0.002352635642888981), (3183, 0.0023484958983229732), (3601, 0.0023484823184763684), (3364, 0.0023468895505087523), (2427, 0.002346369843675083), (2393, 0.0023453775397001353), (1140, 0.002339877794221314), (2755, 0.002337789625943644), (2320, 0.002336552584771315), (4024, 0.0023333020519973697), (623, 0.0023314316750602804), (1744, 0.0023298075473354557), (3436, 0.0023295200792206754), (1415, 0.0023276860254223242), (1558, 0.002327176153004361), (1706, 0.0023246501741465346), (3984, 0.0023240415451578995), (3301, 0.002322831627458189), (1313, 0.0023176017583573186), (2496, 0.0023167763956539337), (3235, 0.0023157412628414384), (3888, 0.0023146998580638634), (673, 0.0023118917316385774), (3654, 0.0023080386572994806), (1179, 0.00230723183246423), (1634, 0.0023010709205779183), (1123, 0.0022987884438469045), (3241, 0.0022920743223034824), (4178, 0.00229142226275187), (255, 0.002286982864374143), (71, 0.0022866237055699824), (169, 0.002284290331642556), (1378, 0.002283844124462234), (1931, 0.0022835890579076604), (1223, 0.0022829063154890866), (3330, 0.0022804807433580037), (3402, 0.0022802654076395723), (4624, 0.002280154525366112), (4036, 0.0022797082124163376), (4473, 0.002278670810801479), (4287, 0.0022768226908925883), (1422, 0.002275399793894531), (1717, 0.002275036670564901), (359, 0.0022742313853261415), (1122, 0.0022740928430118675), (2894, 0.0022738600737802488), (2073, 0.0022735654246771623), (3516, 0.0022729351419479185), (580, 0.0022708346534627047), (1891, 0.0022707712792446816), (1740, 0.00226998777101146), (1463, 0.002268939227315703), (127, 0.0022679593945049924), (728, 0.0022676918567505937), (3577, 0.002266444721991158), (2606, 0.002263937705172442), (2269, 0.002262239745572391), (4069, 0.0022617211884688655), (4113, 0.0022588528466079435), (1408, 0.002256952308138352), (3953, 0.002256806387701321), (2911, 0.002255464028420143), (2779, 0.0022553473403511596), (1177, 0.0022552783364383697), (4487, 0.0022525366139047017), (1645, 0.002252533928549867), (1131, 0.0022518792701309164), (1476, 0.0022516810059636837), (2010, 0.002249376748702712), (4536, 0.0022479651183533117), (1448, 0.002247093115624262), (4038, 0.0022448858001433343), (1946, 0.002244860867221418), (2230, 0.0022448516657158388), (2402, 0.002242575075024969), (3304, 0.002242105758767876), (3673, 0.0022412540631922932), (3449, 0.002239624650179453), (3876, 0.0022388733631069353), (2240, 0.0022382911838501095), (3571, 0.0022352725064972464), (894, 0.0022345883475681696), (3293, 0.0022338172598386514), (1273, 0.002232660094075107), (400, 0.0022311912283470036), (1598, 0.002229699243214505), (216, 0.0022291728037669625), (4101, 0.002228401269764536), (3300, 0.0022280191967540427), (3551, 0.002227904578518264), (3807, 0.0022274491361856893), (1410, 0.0022239623856676384), (1338, 0.002223420570871708), (3116, 0.0022217907390467938), (606, 0.0022201629368352933), (238, 0.0022163248275548636), (2461, 0.0022151056608546967), (2746, 0.0022142918631433573), (743, 0.0022120122007347606), (3353, 0.002204825179412966), (4183, 0.002203909379116477), (481, 0.0022007715835973087), (3564, 0.0022003965918136244), (3641, 0.0021988976633869287), (1768, 0.002198301303361622), (4638, 0.002197706214741302), (372, 0.0021973881713525656), (598, 0.002195072731803476), (3125, 0.0021948207476983127), (3669, 0.0021932866921421245), (604, 0.002191993837831777), (865, 0.0021904348980555273), (471, 0.0021892750169561982), (509, 0.00218809276159995), (1454, 0.0021879632684090786), (1421, 0.00218633038960215), (1034, 0.00218632347848352), (2741, 0.0021862192994740754), (1796, 0.002185080953203659), (930, 0.0021850713192918475), (769, 0.0021832932646640487), (1918, 0.0021780072693398183), (660, 0.0021771136771403707), (2319, 0.0021770359040064655), (1438, 0.002176684993802007), (16, 0.002175411338621457), (4446, 0.002174938437271443), (3435, 0.002173970022898031), (3646, 0.0021732656588338913), (4356, 0.002172533888110441), (3660, 0.002171437828653118), (2313, 0.0021713522461042196), (2612, 0.0021713043084774426), (722, 0.0021712750925717505), (907, 0.0021694385815336126), (4011, 0.0021664024897156972), (4345, 0.0021652131885479243), (200, 0.002164304670416689), (348, 0.002163972526309489), (2531, 0.002163552164546002), (1605, 0.0021619124784436933), (1518, 0.0021617146860101327), (1209, 0.0021606047995945767), (2430, 0.0021582771650705355), (1693, 0.002156515458262024), (456, 0.0021564269389000293), (1102, 0.002156035581575372), (1044, 0.002150568157281241), (198, 0.002149553485488813), (3278, 0.002144564460439854), (696, 0.002143214535997023), (612, 0.0021431712241351216), (4712, 0.00214246285595398), (4135, 0.0021417803593023798), (2069, 0.0021408647822680686), (221, 0.002140359318986521), (2976, 0.00214019529734581), (1969, 0.002137366662922219), (1340, 0.0021337664083730954), (2457, 0.0021314166356595026), (4643, 0.002129896428544979), (3122, 0.002127228235425723), (2593, 0.002127125252877404), (750, 0.0021269400454854443), (1427, 0.002126780706566564), (4472, 0.00212615510272909), (416, 0.0021250160297644877), (2945, 0.002124471516286788), (975, 0.002123750561600709), (3706, 0.002122303185682237), (923, 0.002122159730005782), (854, 0.0021220625643931985), (2972, 0.0021197122556798915), (2840, 0.0021192480447703725), (3182, 0.0021188880960298345), (1667, 0.00211822374644781), (3314, 0.002117685150695599), (712, 0.002116451650944409), (852, 0.0021164053726997244), (951, 0.002115769294094647), (3028, 0.002115731748645704), (886, 0.002114605854191002), (698, 0.002113406519767352), (2117, 0.002112378320963168), (2068, 0.0021105561395002265), (3487, 0.0021104522063068376), (2131, 0.0021079104087079743), (2878, 0.002106723809833747), (1084, 0.0021039527552630896), (594, 0.0021027213597337863), (325, 0.0021025494807742455), (1627, 0.0021019453538148832), (114, 0.002101651057193576), (3194, 0.002100399425764621), (1620, 0.00209970269986594), (4054, 0.002099080692730794), (1229, 0.002098602950799242), (749, 0.0020985550746329866), (3765, 0.0020984551577597457), (4394, 0.0020984190298256812), (4591, 0.002097795727867091), (2965, 0.002095508095526731), (453, 0.002094183909765996), (2195, 0.0020937130179687763), (4284, 0.002090156765920642), (2422, 0.0020893652359481605), (136, 0.002088622054727818), (1060, 0.0020819922275873504), (1170, 0.00207861375354293), (2397, 0.0020769739779878866), (2854, 0.002075355024921573), (1071, 0.002074428469266432), (1286, 0.0020740505415594974), (2482, 0.0020722945585744165), (3506, 0.002066349433655838), (608, 0.002063982051100426), (2295, 0.0020597147337067336), (3014, 0.002058070410448801), (2399, 0.002057773921352559), (1819, 0.002057397351639522), (1026, 0.0020567260525122667), (1352, 0.0020563551637329354), (4033, 0.002055394363545516), (969, 0.002055313410191582), (2904, 0.0020513990566877445), (1041, 0.0020513979359608517), (1462, 0.002050498921583304), (3696, 0.00205031794155829), (3234, 0.0020469884374686624), (2127, 0.0020456358302445793), (1884, 0.002045342929829109), (165, 0.0020448491408833177), (4085, 0.0020436422454387167), (1983, 0.0020434571984550686), (1483, 0.0020421483157857427), (3811, 0.002041857288754118), (2034, 0.0020416540000082577), (944, 0.0020401006137961454), (4151, 0.002039828561103698), (132, 0.002034576640922959), (4523, 0.0020344576007735172), (3890, 0.0020342895068185345), (798, 0.002033726544106065), (4286, 0.0020313973530643754), (1565, 0.002030961611388529), (2061, 0.0020272575232395825), (3147, 0.002026596402475095), (4143, 0.002026290308903849), (1830, 0.0020226272961612135), (2029, 0.002020469147338976), (4411, 0.0020201492324474404), (2652, 0.0020196931536396187), (2862, 0.0020196543854439333), (4154, 0.0020178803794986184), (1488, 0.0020130781878802285), (3311, 0.002012855958726648), (3298, 0.002011055614990328), (2287, 0.0020081957518333694), (4020, 0.0020059385813593488), (1472, 0.002005468402066561), (4066, 0.001999342442100507), (3342, 0.0019988990657389574), (1078, 0.001998812843411665), (1372, 0.0019981263201943192), (349, 0.0019960835824754963), (3910, 0.0019956243403360338), (1079, 0.0019941339725332253), (2201, 0.001993380521948652), (1533, 0.001990633049621413), (2004, 0.0019869791826499597), (3575, 0.0019855634256858885), (1027, 0.0019845400929750963), (2899, 0.0019843612978041065), (4636, 0.001983521040396783), (410, 0.0019827884340340935), (190, 0.0019813692809638427), (880, 0.0019806664591846294), (727, 0.0019791472958211), (655, 0.0019780779859940698), (2634, 0.0019774611098274985), (2747, 0.001976211120597236), (3071, 0.0019760229040079375), (1191, 0.001974734850381218), (1217, 0.001974128107002784), (3742, 0.0019734289572511964), (1335, 0.0019726401655989216), (1414, 0.0019719686093596254), (267, 0.001965754054159586), (3303, 0.001965690271640697), (373, 0.0019634930632387447), (31, 0.001962724171125481), (1582, 0.0019593403118027446), (959, 0.00195643390266367), (1247, 0.0019529228446364196), (1001, 0.0019524253158906561), (3657, 0.0019503929232063395), (1138, 0.0019474860317341084), (490, 0.0019474527309452738), (2338, 0.0019451887191028014), (2355, 0.0019422112799145177), (1370, 0.001940335624040032), (480, 0.0019388754399830828), (1481, 0.0019387988738636854), (1597, 0.0019356285536037902), (495, 0.0019349062715518625), (1002, 0.0019341173082650645), (2800, 0.0019321051508167002), (4626, 0.001929446967275485), (215, 0.0019279005558003777), (4350, 0.0019274825702541637), (3254, 0.0019273501688573237), (3327, 0.001927185123986529), (558, 0.0019257416140174355), (707, 0.0019251714551232195), (2367, 0.0019231810909940577), (3347, 0.0019193464714480743), (522, 0.0019188974976533418), (1608, 0.0019148702432607166), (4282, 0.0019129801021712915), (18, 0.0019124857058046957), (357, 0.0019098645553563805), (2907, 0.0019086486824434826), (3614, 0.0019049793603080662), (659, 0.0018963976583700139), (3200, 0.0018960705524611583), (92, 0.0018949046669746554), (2642, 0.0018940455516814497), (1813, 0.0018914660266763862), (3739, 0.00188551325666279), (2226, 0.0018850922724144821), (1107, 0.0018846261790283203), (1869, 0.0018828605120953831), (1478, 0.0018751439952534644), (1964, 0.0018687354893480244), (4479, 0.0018677439800611254), (3705, 0.0018639079644381452), (2802, 0.001856946353032456), (703, 0.001855000202347258), (1375, 0.0018529073984021509), (3318, 0.001850533412169942), (1943, 0.0018490679449392007), (3460, 0.0018480821923003287), (3120, 0.001847845489005062), (3477, 0.0018475635896096393), (856, 0.0018473931033467766), (388, 0.0018456760522261382), (97, 0.0018454598271653924), (96, 0.0018400938250735753), (861, 0.0018392512067225508), (744, 0.0018367219175786462), (851, 0.0018349359706958804), (2761, 0.001833304560805749), (589, 0.0018312198321772798), (1543, 0.001830482633491968), (3227, 0.0018285963421173891), (1760, 0.001826679825630092), (457, 0.0018265065682765114), (1080, 0.0018241003506899904), (2031, 0.0018235248219951015), (2697, 0.0018215580943506699), (2520, 0.001818689577345549), (355, 0.0018178926779236694), (1827, 0.0018175470975257237), (4247, 0.001816937020537758), (111, 0.0018166362372167826), (2492, 0.0018165508934759622), (815, 0.001816126087014297), (3503, 0.0018134617162977136), (2528, 0.0018120060426684201), (3474, 0.0018081260354507554), (1782, 0.0018078725385911776), (1666, 0.0018058279468658746), (1423, 0.0017908362013248644), (617, 0.0017849181922525966), (4674, 0.0017804563131325858), (2509, 0.001780015663507516), (3534, 0.0017798831966049076), (195, 0.0017746831277179527), (3956, 0.001765096245707803), (194, 0.0017645997261146469), (4074, 0.0017608440200754254), (1394, 0.0017580525752207941), (184, 0.0017558111552506566), (3024, 0.0017556641104435322), (1199, 0.0017550018273955895), (4432, 0.0017507079899087908), (2724, 0.0017495993605133862), (804, 0.0017480128854273152), (2132, 0.0017427875102869496), (4733, 0.0017395760536116052), (1357, 0.0017382149542641764), (3331, 0.0017333033422639687), (121, 0.0017329780497030369), (2453, 0.0017317217589566574), (2611, 0.001730666973289502), (642, 0.0017304843950579326), (3220, 0.0017274536678516066), (2502, 0.001721205049314713), (2527, 0.0017201764899563547), (2771, 0.0017172894436431893), (605, 0.001715525971361402), (910, 0.0017108526377604735), (1219, 0.0017102732561458478), (2526, 0.00170147386868297), (1503, 0.001701414272757045), (3056, 0.0016988385290000248), (3393, 0.0016987372618751007), (3380, 0.0016976744750224317), (1719, 0.0016951551242722254), (981, 0.0016927161188301722), (3137, 0.0016927061467809704), (3626, 0.0016872519211561501), (3569, 0.0016746766433791524), (1616, 0.0016742355570215713), (286, 0.0016700351064670065), (3855, 0.0016653489519490743), (2892, 0.0016624470560623907), (2441, 0.0016617672872249539), (2580, 0.0016363750102719806), (4752, 0.0016292016014252553), (3027, 0.0016269615646779935), (1624, 0.0016157577035305823), (1318, 0.0016148828895958826), (1356, 0.001609432378006601), (1251, 0.001607347552556025), (563, 0.00160539507218604), (3546, 0.0016039619797870376), (2845, 0.001600666383846422), (3199, 0.0015847143042667833), (2591, 0.0015841272281775687), (3365, 0.0015800439810349106), (1989, 0.0015752671226833901), (1303, 0.0015725881772336962), (1677, 0.0015591344001156238), (2359, 0.0015536957326413498), (1828, 0.0015463481580228304), (2039, 0.0015374370404327804), (1305, 0.0015274268364958777), (2758, 0.001514858287422029), (953, 0.0015115513896278617), (626, 0.0014935779510406968), (256, 0.0014864299748972997), (1088, 0.001473800703134068), (607, 0.0014664759212017291), (2766, 0.0014220469768376587), (571, 0.0014019806682952626), (831, 0.001401552355786174), (562, 0.0013822585918095262), (351, 0.0013590082258595868), (228, 0.001323832203617205), (4171, 0.0012546733774057956), (129, 0.0012022486292717033), (202, 0.0011571944768354828), (2534, 0.0006853857924612576), (1, 0.0), (2, 0.0), (4, 0.0), (6, 0.0), (10, 0.0), (14, 0.0), (17, 0.0), (20, 0.0), (24, 0.0), (26, 0.0), (27, 0.0), (28, 0.0), (30, 0.0), (36, 0.0), (37, 0.0), (38, 0.0), (39, 0.0), (42, 0.0), (47, 0.0), (49, 0.0), (50, 0.0), (53, 0.0), (54, 0.0), (55, 0.0), (58, 0.0), (59, 0.0), (64, 0.0), (66, 0.0), (69, 0.0), (70, 0.0), (72, 0.0), (73, 0.0), (76, 0.0), (77, 0.0), (80, 0.0), (81, 0.0), (90, 0.0), (91, 0.0), (93, 0.0), (94, 0.0), (95, 0.0), (98, 0.0), (99, 0.0), (100, 0.0), (101, 0.0), (102, 0.0), (115, 0.0), (117, 0.0), (118, 0.0), (128, 0.0), (133, 0.0), (134, 0.0), (135, 0.0), (139, 0.0), (140, 0.0), (141, 0.0), (143, 0.0), (146, 0.0), (150, 0.0), (151, 0.0), (152, 0.0), (153, 0.0), (154, 0.0), (157, 0.0), (158, 0.0), (163, 0.0), (167, 0.0), (171, 0.0), (186, 0.0), (187, 0.0), (188, 0.0), (189, 0.0), (191, 0.0), (196, 0.0), (205, 0.0), (211, 0.0), (214, 0.0), (217, 0.0), (219, 0.0), (220, 0.0), (223, 0.0), (225, 0.0), (226, 0.0), (229, 0.0), (233, 0.0), (234, 0.0), (235, 0.0), (237, 0.0), (239, 0.0), (241, 0.0), (245, 0.0), (246, 0.0), (247, 0.0), (249, 0.0), (253, 0.0), (257, 0.0), (258, 0.0), (259, 0.0), (260, 0.0), (262, 0.0), (264, 0.0), (265, 0.0), (268, 0.0), (272, 0.0), (275, 0.0), (278, 0.0), (289, 0.0), (290, 0.0), (291, 0.0), (293, 0.0), (294, 0.0), (295, 0.0), (297, 0.0), (298, 0.0), (299, 0.0), (302, 0.0), (303, 0.0), (304, 0.0), (305, 0.0), (306, 0.0), (308, 0.0), (310, 0.0), (311, 0.0), (312, 0.0), (314, 0.0), (315, 0.0), (316, 0.0), (319, 0.0), (320, 0.0), (323, 0.0), (324, 0.0), (331, 0.0), (335, 0.0), (337, 0.0), (338, 0.0), (339, 0.0), (344, 0.0), (347, 0.0), (352, 0.0), (361, 0.0), (362, 0.0), (365, 0.0), (366, 0.0), (367, 0.0), (375, 0.0), (376, 0.0), (377, 0.0), (378, 0.0), (379, 0.0), (380, 0.0), (382, 0.0), (389, 0.0), (390, 0.0), (391, 0.0), (392, 0.0), (393, 0.0), (394, 0.0), (395, 0.0), (397, 0.0), (399, 0.0), (401, 0.0), (404, 0.0), (405, 0.0), (411, 0.0), (415, 0.0), (417, 0.0), (420, 0.0), (422, 0.0), (423, 0.0), (425, 0.0), (426, 0.0), (427, 0.0), (432, 0.0), (439, 0.0), (440, 0.0), (444, 0.0), (451, 0.0), (454, 0.0), (460, 0.0), (462, 0.0), (466, 0.0), (467, 0.0), (469, 0.0), (473, 0.0), (474, 0.0), (476, 0.0), (478, 0.0), (484, 0.0), (486, 0.0), (487, 0.0), (489, 0.0), (491, 0.0), (492, 0.0), (497, 0.0), (498, 0.0), (499, 0.0), (503, 0.0), (505, 0.0), (506, 0.0), (507, 0.0), (508, 0.0), (512, 0.0), (513, 0.0), (514, 0.0), (516, 0.0), (517, 0.0), (518, 0.0), (520, 0.0), (524, 0.0), (525, 0.0), (526, 0.0), (528, 0.0), (529, 0.0), (531, 0.0), (532, 0.0), (535, 0.0), (536, 0.0), (539, 0.0), (541, 0.0), (546, 0.0), (548, 0.0), (549, 0.0), (550, 0.0), (552, 0.0), (554, 0.0), (556, 0.0), (557, 0.0), (559, 0.0), (560, 0.0), (565, 0.0), (567, 0.0), (569, 0.0), (570, 0.0), (572, 0.0), (573, 0.0), (574, 0.0), (575, 0.0), (577, 0.0), (581, 0.0), (585, 0.0), (591, 0.0), (592, 0.0), (593, 0.0), (595, 0.0), (599, 0.0), (601, 0.0), (602, 0.0), (603, 0.0), (610, 0.0), (619, 0.0), (621, 0.0), (624, 0.0), (625, 0.0), (630, 0.0), (633, 0.0), (634, 0.0), (639, 0.0), (640, 0.0), (645, 0.0), (646, 0.0), (647, 0.0), (649, 0.0), (650, 0.0), (656, 0.0), (658, 0.0), (661, 0.0), (662, 0.0), (663, 0.0), (665, 0.0), (666, 0.0), (674, 0.0), (678, 0.0), (679, 0.0), (680, 0.0), (681, 0.0), (685, 0.0), (686, 0.0), (687, 0.0), (690, 0.0), (699, 0.0), (700, 0.0), (702, 0.0), (704, 0.0), (708, 0.0), (709, 0.0), (711, 0.0), (713, 0.0), (714, 0.0), (717, 0.0), (718, 0.0), (720, 0.0), (723, 0.0), (724, 0.0), (725, 0.0), (726, 0.0), (730, 0.0), (731, 0.0), (736, 0.0), (738, 0.0), (740, 0.0), (741, 0.0), (745, 0.0), (746, 0.0), (747, 0.0), (751, 0.0), (754, 0.0), (756, 0.0), (759, 0.0), (764, 0.0), (765, 0.0), (767, 0.0), (770, 0.0), (771, 0.0), (772, 0.0), (773, 0.0), (777, 0.0), (780, 0.0), (781, 0.0), (784, 0.0), (785, 0.0), (786, 0.0), (789, 0.0), (791, 0.0), (793, 0.0), (797, 0.0), (802, 0.0), (803, 0.0), (805, 0.0), (807, 0.0), (810, 0.0), (811, 0.0), (819, 0.0), (820, 0.0), (822, 0.0), (823, 0.0), (825, 0.0), (837, 0.0), (839, 0.0), (840, 0.0), (841, 0.0), (845, 0.0), (846, 0.0), (848, 0.0), (849, 0.0), (855, 0.0), (859, 0.0), (862, 0.0), (863, 0.0), (868, 0.0), (875, 0.0), (881, 0.0), (882, 0.0), (883, 0.0), (884, 0.0), (887, 0.0), (889, 0.0), (890, 0.0), (891, 0.0), (892, 0.0), (893, 0.0), (898, 0.0), (901, 0.0), (902, 0.0), (909, 0.0), (912, 0.0), (913, 0.0), (914, 0.0), (919, 0.0), (920, 0.0), (922, 0.0), (926, 0.0), (927, 0.0), (928, 0.0), (932, 0.0), (933, 0.0), (938, 0.0), (941, 0.0), (943, 0.0), (945, 0.0), (946, 0.0), (950, 0.0), (954, 0.0), (955, 0.0), (956, 0.0), (960, 0.0), (961, 0.0), (964, 0.0), (965, 0.0), (971, 0.0), (972, 0.0), (973, 0.0), (974, 0.0), (977, 0.0), (978, 0.0), (982, 0.0), (983, 0.0), (984, 0.0), (987, 0.0), (990, 0.0), (992, 0.0), (993, 0.0), (995, 0.0), (996, 0.0), (997, 0.0), (1004, 0.0), (1008, 0.0), (1010, 0.0), (1011, 0.0), (1013, 0.0), (1016, 0.0), (1022, 0.0), (1025, 0.0), (1028, 0.0), (1029, 0.0), (1031, 0.0), (1032, 0.0), (1036, 0.0), (1038, 0.0), (1039, 0.0), (1042, 0.0), (1047, 0.0), (1051, 0.0), (1054, 0.0), (1055, 0.0), (1056, 0.0), (1057, 0.0), (1062, 0.0), (1066, 0.0), (1067, 0.0), (1072, 0.0), (1073, 0.0), (1076, 0.0), (1081, 0.0), (1082, 0.0), (1086, 0.0), (1089, 0.0), (1091, 0.0), (1092, 0.0), (1093, 0.0), (1097, 0.0), (1098, 0.0), (1100, 0.0), (1101, 0.0), (1103, 0.0), (1104, 0.0), (1105, 0.0), (1106, 0.0), (1108, 0.0), (1110, 0.0), (1113, 0.0), (1117, 0.0), (1120, 0.0), (1121, 0.0), (1126, 0.0), (1127, 0.0), (1130, 0.0), (1133, 0.0), (1135, 0.0), (1139, 0.0), (1142, 0.0), (1143, 0.0), (1145, 0.0), (1147, 0.0), (1149, 0.0), (1150, 0.0), (1151, 0.0), (1153, 0.0), (1154, 0.0), (1155, 0.0), (1156, 0.0), (1158, 0.0), (1159, 0.0), (1164, 0.0), (1165, 0.0), (1166, 0.0), (1167, 0.0), (1168, 0.0), (1169, 0.0), (1171, 0.0), (1174, 0.0), (1178, 0.0), (1180, 0.0), (1181, 0.0), (1189, 0.0), (1190, 0.0), (1193, 0.0), (1196, 0.0), (1197, 0.0), (1198, 0.0), (1200, 0.0), (1201, 0.0), (1204, 0.0), (1205, 0.0), (1207, 0.0), (1210, 0.0), (1211, 0.0), (1212, 0.0), (1213, 0.0), (1214, 0.0), (1218, 0.0), (1221, 0.0), (1222, 0.0), (1227, 0.0), (1228, 0.0), (1233, 0.0), (1235, 0.0), (1240, 0.0), (1242, 0.0), (1244, 0.0), (1246, 0.0), (1253, 0.0), (1256, 0.0), (1258, 0.0), (1259, 0.0), (1260, 0.0), (1263, 0.0), (1265, 0.0), (1268, 0.0), (1269, 0.0), (1271, 0.0), (1277, 0.0), (1280, 0.0), (1281, 0.0), (1282, 0.0), (1284, 0.0), (1285, 0.0), (1287, 0.0), (1288, 0.0), (1289, 0.0), (1291, 0.0), (1294, 0.0), (1295, 0.0), (1296, 0.0), (1297, 0.0), (1298, 0.0), (1299, 0.0), (1301, 0.0), (1304, 0.0), (1309, 0.0), (1315, 0.0), (1319, 0.0), (1321, 0.0), (1322, 0.0), (1323, 0.0), (1326, 0.0), (1328, 0.0), (1330, 0.0), (1332, 0.0), (1333, 0.0), (1336, 0.0), (1344, 0.0), (1346, 0.0), (1347, 0.0), (1353, 0.0), (1354, 0.0), (1355, 0.0), (1362, 0.0), (1363, 0.0), (1366, 0.0), (1368, 0.0), (1373, 0.0), (1380, 0.0), (1381, 0.0), (1390, 0.0), (1391, 0.0), (1392, 0.0), (1395, 0.0), (1399, 0.0), (1402, 0.0), (1404, 0.0), (1409, 0.0), (1411, 0.0), (1416, 0.0), (1424, 0.0), (1426, 0.0), (1428, 0.0), (1430, 0.0), (1431, 0.0), (1433, 0.0), (1434, 0.0), (1435, 0.0), (1437, 0.0), (1439, 0.0), (1441, 0.0), (1444, 0.0), (1447, 0.0), (1449, 0.0), (1450, 0.0), (1451, 0.0), (1452, 0.0), (1456, 0.0), (1457, 0.0), (1458, 0.0), (1459, 0.0), (1460, 0.0), (1466, 0.0), (1467, 0.0), (1468, 0.0), (1469, 0.0), (1470, 0.0), (1473, 0.0), (1479, 0.0), (1480, 0.0), (1484, 0.0), (1485, 0.0), (1487, 0.0), (1490, 0.0), (1491, 0.0), (1495, 0.0), (1496, 0.0), (1497, 0.0), (1499, 0.0), (1502, 0.0), (1504, 0.0), (1507, 0.0), (1508, 0.0), (1511, 0.0), (1516, 0.0), (1517, 0.0), (1520, 0.0), (1521, 0.0), (1522, 0.0), (1524, 0.0), (1525, 0.0), (1528, 0.0), (1529, 0.0), (1530, 0.0), (1531, 0.0), (1532, 0.0), (1534, 0.0), (1535, 0.0), (1536, 0.0), (1540, 0.0), (1541, 0.0), (1545, 0.0), (1546, 0.0), (1548, 0.0), (1549, 0.0), (1550, 0.0), (1554, 0.0), (1555, 0.0), (1556, 0.0), (1557, 0.0), (1559, 0.0), (1560, 0.0), (1561, 0.0), (1562, 0.0), (1563, 0.0), (1564, 0.0), (1566, 0.0), (1569, 0.0), (1573, 0.0), (1574, 0.0), (1575, 0.0), (1576, 0.0), (1577, 0.0), (1578, 0.0), (1580, 0.0), (1581, 0.0), (1584, 0.0), (1586, 0.0), (1587, 0.0), (1588, 0.0), (1589, 0.0), (1590, 0.0), (1592, 0.0), (1593, 0.0), (1594, 0.0), (1596, 0.0), (1599, 0.0), (1600, 0.0), (1601, 0.0), (1602, 0.0), (1603, 0.0), (1604, 0.0), (1606, 0.0), (1607, 0.0), (1610, 0.0), (1611, 0.0), (1613, 0.0), (1614, 0.0), (1615, 0.0), (1617, 0.0), (1618, 0.0), (1622, 0.0), (1623, 0.0), (1625, 0.0), (1626, 0.0), (1631, 0.0), (1632, 0.0), (1633, 0.0), (1635, 0.0), (1636, 0.0), (1637, 0.0), (1638, 0.0), (1639, 0.0), (1640, 0.0), (1641, 0.0), (1642, 0.0), (1646, 0.0), (1649, 0.0), (1651, 0.0), (1656, 0.0), (1657, 0.0), (1659, 0.0), (1660, 0.0), (1661, 0.0), (1663, 0.0), (1668, 0.0), (1669, 0.0), (1670, 0.0), (1672, 0.0), (1673, 0.0), (1679, 0.0), (1681, 0.0), (1683, 0.0), (1686, 0.0), (1689, 0.0), (1691, 0.0), (1697, 0.0), (1698, 0.0), (1699, 0.0), (1700, 0.0), (1704, 0.0), (1709, 0.0), (1724, 0.0), (1725, 0.0), (1726, 0.0), (1728, 0.0), (1729, 0.0), (1731, 0.0), (1732, 0.0), (1733, 0.0), (1734, 0.0), (1738, 0.0), (1742, 0.0), (1745, 0.0), (1751, 0.0), (1753, 0.0), (1755, 0.0), (1756, 0.0), (1758, 0.0), (1765, 0.0), (1766, 0.0), (1767, 0.0), (1769, 0.0), (1771, 0.0), (1772, 0.0), (1775, 0.0), (1777, 0.0), (1778, 0.0), (1780, 0.0), (1781, 0.0), (1783, 0.0), (1784, 0.0), (1785, 0.0), (1786, 0.0), (1789, 0.0), (1791, 0.0), (1792, 0.0), (1794, 0.0), (1800, 0.0), (1801, 0.0), (1803, 0.0), (1804, 0.0), (1805, 0.0), (1808, 0.0), (1810, 0.0), (1811, 0.0), (1814, 0.0), (1820, 0.0), (1823, 0.0), (1824, 0.0), (1825, 0.0), (1826, 0.0), (1829, 0.0), (1831, 0.0), (1834, 0.0), (1835, 0.0), (1836, 0.0), (1839, 0.0), (1840, 0.0), (1842, 0.0), (1844, 0.0), (1846, 0.0), (1848, 0.0), (1855, 0.0), (1856, 0.0), (1857, 0.0), (1859, 0.0), (1862, 0.0), (1877, 0.0), (1879, 0.0), (1881, 0.0), (1883, 0.0), (1887, 0.0), (1888, 0.0), (1889, 0.0), (1890, 0.0), (1894, 0.0), (1898, 0.0), (1899, 0.0), (1900, 0.0), (1901, 0.0), (1904, 0.0), (1910, 0.0), (1912, 0.0), (1914, 0.0), (1915, 0.0), (1917, 0.0), (1921, 0.0), (1925, 0.0), (1926, 0.0), (1928, 0.0), (1929, 0.0), (1930, 0.0), (1932, 0.0), (1933, 0.0), (1938, 0.0), (1939, 0.0), (1940, 0.0), (1941, 0.0), (1944, 0.0), (1952, 0.0), (1953, 0.0), (1954, 0.0), (1955, 0.0), (1956, 0.0), (1958, 0.0), (1959, 0.0), (1961, 0.0), (1962, 0.0), (1963, 0.0), (1965, 0.0), (1966, 0.0), (1972, 0.0), (1973, 0.0), (1974, 0.0), (1975, 0.0), (1978, 0.0), (1979, 0.0), (1980, 0.0), (1981, 0.0), (1984, 0.0), (1987, 0.0), (1991, 0.0), (1993, 0.0), (1998, 0.0), (2001, 0.0), (2002, 0.0), (2003, 0.0), (2006, 0.0), (2007, 0.0), (2009, 0.0), (2015, 0.0), (2017, 0.0), (2019, 0.0), (2021, 0.0), (2025, 0.0), (2028, 0.0), (2030, 0.0), (2032, 0.0), (2033, 0.0), (2036, 0.0), (2038, 0.0), (2041, 0.0), (2042, 0.0), (2043, 0.0), (2044, 0.0), (2046, 0.0), (2047, 0.0), (2050, 0.0), (2054, 0.0), (2057, 0.0), (2059, 0.0), (2060, 0.0), (2063, 0.0), (2066, 0.0), (2071, 0.0), (2072, 0.0), (2077, 0.0), (2078, 0.0), (2079, 0.0), (2081, 0.0), (2084, 0.0), (2085, 0.0), (2086, 0.0), (2090, 0.0), (2092, 0.0), (2099, 0.0), (2106, 0.0), (2107, 0.0), (2111, 0.0), (2115, 0.0), (2118, 0.0), (2120, 0.0), (2124, 0.0), (2125, 0.0), (2128, 0.0), (2129, 0.0), (2130, 0.0), (2135, 0.0), (2136, 0.0), (2137, 0.0), (2138, 0.0), (2139, 0.0), (2140, 0.0), (2141, 0.0), (2142, 0.0), (2146, 0.0), (2147, 0.0), (2148, 0.0), (2150, 0.0), (2151, 0.0), (2152, 0.0), (2153, 0.0), (2158, 0.0), (2163, 0.0), (2164, 0.0), (2165, 0.0), (2166, 0.0), (2168, 0.0), (2170, 0.0), (2171, 0.0), (2172, 0.0), (2173, 0.0), (2178, 0.0), (2179, 0.0), (2180, 0.0), (2181, 0.0), (2182, 0.0), (2183, 0.0), (2184, 0.0), (2186, 0.0), (2187, 0.0), (2189, 0.0), (2190, 0.0), (2192, 0.0), (2194, 0.0), (2200, 0.0), (2204, 0.0), (2208, 0.0), (2213, 0.0), (2215, 0.0), (2217, 0.0), (2218, 0.0), (2219, 0.0), (2220, 0.0), (2222, 0.0), (2225, 0.0), (2227, 0.0), (2228, 0.0), (2231, 0.0), (2232, 0.0), (2233, 0.0), (2234, 0.0), (2238, 0.0), (2241, 0.0), (2243, 0.0), (2245, 0.0), (2246, 0.0), (2247, 0.0), (2248, 0.0), (2249, 0.0), (2252, 0.0), (2253, 0.0), (2256, 0.0), (2259, 0.0), (2261, 0.0), (2262, 0.0), (2263, 0.0), (2267, 0.0), (2268, 0.0), (2270, 0.0), (2271, 0.0), (2272, 0.0), (2273, 0.0), (2274, 0.0), (2278, 0.0), (2281, 0.0), (2282, 0.0), (2283, 0.0), (2288, 0.0), (2292, 0.0), (2293, 0.0), (2296, 0.0), (2297, 0.0), (2299, 0.0), (2300, 0.0), (2304, 0.0), (2305, 0.0), (2307, 0.0), (2308, 0.0), (2310, 0.0), (2311, 0.0), (2312, 0.0), (2314, 0.0), (2315, 0.0), (2317, 0.0), (2322, 0.0), (2323, 0.0), (2324, 0.0), (2325, 0.0), (2326, 0.0), (2327, 0.0), (2328, 0.0), (2329, 0.0), (2330, 0.0), (2331, 0.0), (2332, 0.0), (2333, 0.0), (2336, 0.0), (2337, 0.0), (2340, 0.0), (2341, 0.0), (2342, 0.0), (2343, 0.0), (2345, 0.0), (2351, 0.0), (2352, 0.0), (2354, 0.0), (2356, 0.0), (2357, 0.0), (2358, 0.0), (2360, 0.0), (2363, 0.0), (2364, 0.0), (2369, 0.0), (2370, 0.0), (2372, 0.0), (2373, 0.0), (2377, 0.0), (2378, 0.0), (2380, 0.0), (2381, 0.0), (2382, 0.0), (2383, 0.0), (2384, 0.0), (2385, 0.0), (2387, 0.0), (2389, 0.0), (2392, 0.0), (2395, 0.0), (2396, 0.0), (2398, 0.0), (2401, 0.0), (2404, 0.0), (2408, 0.0), (2409, 0.0), (2410, 0.0), (2414, 0.0), (2416, 0.0), (2419, 0.0), (2420, 0.0), (2424, 0.0), (2425, 0.0), (2429, 0.0), (2431, 0.0), (2432, 0.0), (2433, 0.0), (2435, 0.0), (2442, 0.0), (2444, 0.0), (2445, 0.0), (2446, 0.0), (2450, 0.0), (2451, 0.0), (2452, 0.0), (2454, 0.0), (2455, 0.0), (2456, 0.0), (2458, 0.0), (2462, 0.0), (2465, 0.0), (2470, 0.0), (2471, 0.0), (2472, 0.0), (2476, 0.0), (2479, 0.0), (2483, 0.0), (2485, 0.0), (2491, 0.0), (2493, 0.0), (2495, 0.0), (2497, 0.0), (2498, 0.0), (2499, 0.0), (2500, 0.0), (2504, 0.0), (2506, 0.0), (2507, 0.0), (2508, 0.0), (2511, 0.0), (2514, 0.0), (2515, 0.0), (2516, 0.0), (2518, 0.0), (2519, 0.0), (2521, 0.0), (2523, 0.0), (2525, 0.0), (2532, 0.0), (2533, 0.0), (2536, 0.0), (2537, 0.0), (2539, 0.0), (2541, 0.0), (2542, 0.0), (2543, 0.0), (2544, 0.0), (2547, 0.0), (2548, 0.0), (2549, 0.0), (2551, 0.0), (2552, 0.0), (2557, 0.0), (2561, 0.0), (2562, 0.0), (2564, 0.0), (2566, 0.0), (2567, 0.0), (2569, 0.0), (2571, 0.0), (2573, 0.0), (2574, 0.0), (2575, 0.0), (2576, 0.0), (2577, 0.0), (2578, 0.0), (2581, 0.0), (2583, 0.0), (2584, 0.0), (2585, 0.0), (2586, 0.0), (2588, 0.0), (2589, 0.0), (2590, 0.0), (2594, 0.0), (2595, 0.0), (2596, 0.0), (2597, 0.0), (2599, 0.0), (2600, 0.0), (2604, 0.0), (2605, 0.0), (2608, 0.0), (2610, 0.0), (2613, 0.0), (2615, 0.0), (2616, 0.0), (2619, 0.0), (2620, 0.0), (2624, 0.0), (2626, 0.0), (2627, 0.0), (2628, 0.0), (2631, 0.0), (2635, 0.0), (2636, 0.0), (2637, 0.0), (2641, 0.0), (2648, 0.0), (2651, 0.0), (2656, 0.0), (2657, 0.0), (2658, 0.0), (2659, 0.0), (2662, 0.0), (2663, 0.0), (2666, 0.0), (2667, 0.0), (2669, 0.0), (2670, 0.0), (2671, 0.0), (2672, 0.0), (2673, 0.0), (2675, 0.0), (2676, 0.0), (2677, 0.0), (2679, 0.0), (2681, 0.0), (2682, 0.0), (2683, 0.0), (2684, 0.0), (2685, 0.0), (2686, 0.0), (2690, 0.0), (2693, 0.0), (2699, 0.0), (2700, 0.0), (2701, 0.0), (2703, 0.0), (2704, 0.0), (2707, 0.0), (2709, 0.0), (2711, 0.0), (2713, 0.0), (2715, 0.0), (2717, 0.0), (2719, 0.0), (2720, 0.0), (2721, 0.0), (2722, 0.0), (2725, 0.0), (2728, 0.0), (2729, 0.0), (2730, 0.0), (2733, 0.0), (2734, 0.0), (2735, 0.0), (2737, 0.0), (2738, 0.0), (2749, 0.0), (2750, 0.0), (2753, 0.0), (2754, 0.0), (2756, 0.0), (2757, 0.0), (2763, 0.0), (2765, 0.0), (2770, 0.0), (2773, 0.0), (2781, 0.0), (2783, 0.0), (2785, 0.0), (2786, 0.0), (2787, 0.0), (2788, 0.0), (2790, 0.0), (2792, 0.0), (2793, 0.0), (2794, 0.0), (2799, 0.0), (2801, 0.0), (2804, 0.0), (2806, 0.0), (2810, 0.0), (2811, 0.0), (2813, 0.0), (2814, 0.0), (2815, 0.0), (2817, 0.0), (2818, 0.0), (2819, 0.0), (2822, 0.0), (2824, 0.0), (2825, 0.0), (2826, 0.0), (2827, 0.0), (2828, 0.0), (2829, 0.0), (2833, 0.0), (2835, 0.0), (2836, 0.0), (2837, 0.0), (2839, 0.0), (2842, 0.0), (2846, 0.0), (2847, 0.0), (2850, 0.0), (2851, 0.0), (2852, 0.0), (2853, 0.0), (2855, 0.0), (2856, 0.0), (2858, 0.0), (2860, 0.0), (2861, 0.0), (2863, 0.0), (2864, 0.0), (2865, 0.0), (2866, 0.0), (2875, 0.0), (2877, 0.0), (2880, 0.0), (2882, 0.0), (2884, 0.0), (2891, 0.0), (2895, 0.0), (2896, 0.0), (2898, 0.0), (2900, 0.0), (2902, 0.0), (2905, 0.0), (2906, 0.0), (2909, 0.0), (2912, 0.0), (2921, 0.0), (2922, 0.0), (2923, 0.0), (2927, 0.0), (2928, 0.0), (2930, 0.0), (2937, 0.0), (2938, 0.0), (2940, 0.0), (2941, 0.0), (2947, 0.0), (2948, 0.0), (2949, 0.0), (2950, 0.0), (2951, 0.0), (2952, 0.0), (2953, 0.0), (2954, 0.0), (2955, 0.0), (2956, 0.0), (2957, 0.0), (2958, 0.0), (2959, 0.0), (2960, 0.0), (2962, 0.0), (2963, 0.0), (2967, 0.0), (2968, 0.0), (2970, 0.0), (2973, 0.0), (2979, 0.0), (2982, 0.0), (2983, 0.0), (2984, 0.0), (2987, 0.0), (2990, 0.0), (2991, 0.0), (2993, 0.0), (2994, 0.0), (2997, 0.0), (3001, 0.0), (3002, 0.0), (3003, 0.0), (3005, 0.0), (3006, 0.0), (3007, 0.0), (3009, 0.0), (3011, 0.0), (3016, 0.0), (3018, 0.0), (3020, 0.0), (3021, 0.0), (3022, 0.0), (3025, 0.0), (3026, 0.0), (3029, 0.0), (3030, 0.0), (3031, 0.0), (3034, 0.0), (3035, 0.0), (3038, 0.0), (3040, 0.0), (3041, 0.0), (3042, 0.0), (3047, 0.0), (3048, 0.0), (3049, 0.0), (3052, 0.0), (3054, 0.0), (3055, 0.0), (3057, 0.0), (3058, 0.0), (3059, 0.0), (3060, 0.0), (3061, 0.0), (3063, 0.0), (3064, 0.0), (3068, 0.0), (3069, 0.0), (3073, 0.0), (3077, 0.0), (3078, 0.0), (3079, 0.0), (3080, 0.0), (3082, 0.0), (3084, 0.0), (3087, 0.0), (3088, 0.0), (3089, 0.0), (3090, 0.0), (3092, 0.0), (3093, 0.0), (3100, 0.0), (3101, 0.0), (3103, 0.0), (3104, 0.0), (3105, 0.0), (3106, 0.0), (3107, 0.0), (3109, 0.0), (3113, 0.0), (3115, 0.0), (3117, 0.0), (3121, 0.0), (3124, 0.0), (3126, 0.0), (3128, 0.0), (3130, 0.0), (3131, 0.0), (3132, 0.0), (3133, 0.0), (3134, 0.0), (3135, 0.0), (3136, 0.0), (3138, 0.0), (3139, 0.0), (3141, 0.0), (3143, 0.0), (3145, 0.0), (3149, 0.0), (3150, 0.0), (3158, 0.0), (3159, 0.0), (3160, 0.0), (3161, 0.0), (3162, 0.0), (3163, 0.0), (3168, 0.0), (3169, 0.0), (3172, 0.0), (3173, 0.0), (3174, 0.0), (3175, 0.0), (3176, 0.0), (3177, 0.0), (3179, 0.0), (3180, 0.0), (3181, 0.0), (3185, 0.0), (3186, 0.0), (3188, 0.0), (3189, 0.0), (3190, 0.0), (3191, 0.0), (3193, 0.0), (3197, 0.0), (3201, 0.0), (3202, 0.0), (3204, 0.0), (3206, 0.0), (3207, 0.0), (3208, 0.0), (3211, 0.0), (3212, 0.0), (3216, 0.0), (3217, 0.0), (3221, 0.0), (3223, 0.0), (3224, 0.0), (3225, 0.0), (3229, 0.0), (3230, 0.0), (3231, 0.0), (3236, 0.0), (3238, 0.0), (3239, 0.0), (3242, 0.0), (3243, 0.0), (3247, 0.0), (3250, 0.0), (3251, 0.0), (3252, 0.0), (3261, 0.0), (3263, 0.0), (3266, 0.0), (3269, 0.0), (3270, 0.0), (3271, 0.0), (3272, 0.0), (3277, 0.0), (3281, 0.0), (3283, 0.0), (3286, 0.0), (3287, 0.0), (3289, 0.0), (3290, 0.0), (3292, 0.0), (3305, 0.0), (3307, 0.0), (3310, 0.0), (3320, 0.0), (3321, 0.0), (3322, 0.0), (3323, 0.0), (3324, 0.0), (3332, 0.0), (3333, 0.0), (3335, 0.0), (3336, 0.0), (3337, 0.0), (3338, 0.0), (3339, 0.0), (3340, 0.0), (3341, 0.0), (3343, 0.0), (3348, 0.0), (3350, 0.0), (3354, 0.0), (3358, 0.0), (3361, 0.0), (3366, 0.0), (3367, 0.0), (3368, 0.0), (3369, 0.0), (3371, 0.0), (3372, 0.0), (3378, 0.0), (3381, 0.0), (3383, 0.0), (3390, 0.0), (3392, 0.0), (3394, 0.0), (3396, 0.0), (3397, 0.0), (3398, 0.0), (3400, 0.0), (3401, 0.0), (3404, 0.0), (3405, 0.0), (3411, 0.0), (3412, 0.0), (3414, 0.0), (3415, 0.0), (3419, 0.0), (3422, 0.0), (3424, 0.0), (3429, 0.0), (3431, 0.0), (3432, 0.0), (3434, 0.0), (3438, 0.0), (3439, 0.0), (3440, 0.0), (3441, 0.0), (3442, 0.0), (3443, 0.0), (3444, 0.0), (3448, 0.0), (3451, 0.0), (3452, 0.0), (3454, 0.0), (3455, 0.0), (3459, 0.0), (3461, 0.0), (3464, 0.0), (3467, 0.0), (3468, 0.0), (3472, 0.0), (3473, 0.0), (3475, 0.0), (3476, 0.0), (3478, 0.0), (3481, 0.0), (3482, 0.0), (3484, 0.0), (3485, 0.0), (3489, 0.0), (3490, 0.0), (3491, 0.0), (3494, 0.0), (3495, 0.0), (3497, 0.0), (3499, 0.0), (3502, 0.0), (3505, 0.0), (3507, 0.0), (3510, 0.0), (3513, 0.0), (3514, 0.0), (3517, 0.0), (3519, 0.0), (3520, 0.0), (3522, 0.0), (3523, 0.0), (3525, 0.0), (3529, 0.0), (3530, 0.0), (3531, 0.0), (3532, 0.0), (3533, 0.0), (3537, 0.0), (3538, 0.0), (3539, 0.0), (3540, 0.0), (3543, 0.0), (3544, 0.0), (3545, 0.0), (3547, 0.0), (3548, 0.0), (3549, 0.0), (3550, 0.0), (3554, 0.0), (3555, 0.0), (3561, 0.0), (3562, 0.0), (3565, 0.0), (3567, 0.0), (3568, 0.0), (3570, 0.0), (3573, 0.0), (3576, 0.0), (3578, 0.0), (3581, 0.0), (3583, 0.0), (3584, 0.0), (3585, 0.0), (3587, 0.0), (3588, 0.0), (3589, 0.0), (3591, 0.0), (3592, 0.0), (3593, 0.0), (3595, 0.0), (3600, 0.0), (3602, 0.0), (3603, 0.0), (3604, 0.0), (3605, 0.0), (3606, 0.0), (3607, 0.0), (3608, 0.0), (3609, 0.0), (3610, 0.0), (3611, 0.0), (3615, 0.0), (3616, 0.0), (3617, 0.0), (3619, 0.0), (3621, 0.0), (3622, 0.0), (3625, 0.0), (3627, 0.0), (3628, 0.0), (3629, 0.0), (3631, 0.0), (3633, 0.0), (3636, 0.0), (3644, 0.0), (3647, 0.0), (3649, 0.0), (3650, 0.0), (3651, 0.0), (3658, 0.0), (3662, 0.0), (3663, 0.0), (3664, 0.0), (3668, 0.0), (3671, 0.0), (3672, 0.0), (3674, 0.0), (3676, 0.0), (3677, 0.0), (3678, 0.0), (3679, 0.0), (3681, 0.0), (3682, 0.0), (3683, 0.0), (3685, 0.0), (3686, 0.0), (3687, 0.0), (3688, 0.0), (3690, 0.0), (3691, 0.0), (3693, 0.0), (3695, 0.0), (3697, 0.0), (3698, 0.0), (3700, 0.0), (3701, 0.0), (3702, 0.0), (3703, 0.0), (3709, 0.0), (3710, 0.0), (3712, 0.0), (3714, 0.0), (3715, 0.0), (3716, 0.0), (3717, 0.0), (3718, 0.0), (3719, 0.0), (3721, 0.0), (3722, 0.0), (3723, 0.0), (3724, 0.0), (3725, 0.0), (3726, 0.0), (3729, 0.0), (3730, 0.0), (3732, 0.0), (3735, 0.0), (3736, 0.0), (3737, 0.0), (3738, 0.0), (3740, 0.0), (3743, 0.0), (3744, 0.0), (3746, 0.0), (3757, 0.0), (3758, 0.0), (3759, 0.0), (3760, 0.0), (3761, 0.0), (3762, 0.0), (3764, 0.0), (3768, 0.0), (3769, 0.0), (3770, 0.0), (3773, 0.0), (3774, 0.0), (3775, 0.0), (3776, 0.0), (3781, 0.0), (3782, 0.0), (3783, 0.0), (3785, 0.0), (3786, 0.0), (3787, 0.0), (3788, 0.0), (3789, 0.0), (3790, 0.0), (3791, 0.0), (3792, 0.0), (3795, 0.0), (3796, 0.0), (3798, 0.0), (3800, 0.0), (3802, 0.0), (3803, 0.0), (3804, 0.0), (3805, 0.0), (3806, 0.0), (3808, 0.0), (3812, 0.0), (3814, 0.0), (3815, 0.0), (3816, 0.0), (3817, 0.0), (3818, 0.0), (3820, 0.0), (3823, 0.0), (3824, 0.0), (3830, 0.0), (3831, 0.0), (3833, 0.0), (3834, 0.0), (3836, 0.0), (3837, 0.0), (3838, 0.0), (3840, 0.0), (3841, 0.0), (3843, 0.0), (3844, 0.0), (3846, 0.0), (3847, 0.0), (3848, 0.0), (3849, 0.0), (3851, 0.0), (3856, 0.0), (3858, 0.0), (3859, 0.0), (3863, 0.0), (3869, 0.0), (3870, 0.0), (3872, 0.0), (3874, 0.0), (3877, 0.0), (3878, 0.0), (3879, 0.0), (3881, 0.0), (3884, 0.0), (3885, 0.0), (3886, 0.0), (3887, 0.0), (3889, 0.0), (3891, 0.0), (3894, 0.0), (3896, 0.0), (3897, 0.0), (3899, 0.0), (3905, 0.0), (3906, 0.0), (3907, 0.0), (3908, 0.0), (3911, 0.0), (3912, 0.0), (3914, 0.0), (3916, 0.0), (3918, 0.0), (3921, 0.0), (3929, 0.0), (3930, 0.0), (3931, 0.0), (3933, 0.0), (3935, 0.0), (3936, 0.0), (3937, 0.0), (3938, 0.0), (3939, 0.0), (3942, 0.0), (3943, 0.0), (3944, 0.0), (3945, 0.0), (3948, 0.0), (3949, 0.0), (3950, 0.0), (3963, 0.0), (3964, 0.0), (3965, 0.0), (3966, 0.0), (3967, 0.0), (3968, 0.0), (3969, 0.0), (3970, 0.0), (3971, 0.0), (3972, 0.0), (3975, 0.0), (3977, 0.0), (3979, 0.0), (3980, 0.0), (3981, 0.0), (3982, 0.0), (3985, 0.0), (3986, 0.0), (3987, 0.0), (3988, 0.0), (3989, 0.0), (3991, 0.0), (3994, 0.0), (3995, 0.0), (3996, 0.0), (3997, 0.0), (3999, 0.0), (4002, 0.0), (4003, 0.0), (4006, 0.0), (4010, 0.0), (4013, 0.0), (4015, 0.0), (4017, 0.0), (4018, 0.0), (4019, 0.0), (4021, 0.0), (4022, 0.0), (4026, 0.0), (4027, 0.0), (4029, 0.0), (4030, 0.0), (4031, 0.0), (4034, 0.0), (4037, 0.0), (4039, 0.0), (4040, 0.0), (4041, 0.0), (4042, 0.0), (4043, 0.0), (4044, 0.0), (4045, 0.0), (4047, 0.0), (4049, 0.0), (4058, 0.0), (4059, 0.0), (4063, 0.0), (4065, 0.0), (4067, 0.0), (4070, 0.0), (4071, 0.0), (4072, 0.0), (4073, 0.0), (4075, 0.0), (4076, 0.0), (4078, 0.0), (4080, 0.0), (4083, 0.0), (4084, 0.0), (4086, 0.0), (4089, 0.0), (4090, 0.0), (4091, 0.0), (4093, 0.0), (4094, 0.0), (4097, 0.0), (4100, 0.0), (4102, 0.0), (4103, 0.0), (4105, 0.0), (4107, 0.0), (4108, 0.0), (4109, 0.0), (4112, 0.0), (4114, 0.0), (4115, 0.0), (4119, 0.0), (4120, 0.0), (4122, 0.0), (4125, 0.0), (4126, 0.0), (4127, 0.0), (4129, 0.0), (4131, 0.0), (4132, 0.0), (4136, 0.0), (4139, 0.0), (4140, 0.0), (4142, 0.0), (4144, 0.0), (4145, 0.0), (4146, 0.0), (4147, 0.0), (4148, 0.0), (4150, 0.0), (4153, 0.0), (4155, 0.0), (4157, 0.0), (4159, 0.0), (4161, 0.0), (4162, 0.0), (4166, 0.0), (4167, 0.0), (4168, 0.0), (4169, 0.0), (4170, 0.0), (4172, 0.0), (4173, 0.0), (4174, 0.0), (4175, 0.0), (4179, 0.0), (4180, 0.0), (4181, 0.0), (4184, 0.0), (4185, 0.0), (4186, 0.0), (4188, 0.0), (4190, 0.0), (4191, 0.0), (4193, 0.0), (4194, 0.0), (4197, 0.0), (4198, 0.0), (4199, 0.0), (4200, 0.0), (4201, 0.0), (4204, 0.0), (4206, 0.0), (4207, 0.0), (4208, 0.0), (4209, 0.0), (4211, 0.0), (4212, 0.0), (4213, 0.0), (4214, 0.0), (4215, 0.0), (4218, 0.0), (4219, 0.0), (4220, 0.0), (4221, 0.0), (4222, 0.0), (4223, 0.0), (4224, 0.0), (4225, 0.0), (4228, 0.0), (4229, 0.0), (4230, 0.0), (4234, 0.0), (4237, 0.0), (4238, 0.0), (4239, 0.0), (4240, 0.0), (4241, 0.0), (4245, 0.0), (4248, 0.0), (4250, 0.0), (4251, 0.0), (4252, 0.0), (4253, 0.0), (4254, 0.0), (4256, 0.0), (4258, 0.0), (4260, 0.0), (4262, 0.0), (4263, 0.0), (4264, 0.0), (4265, 0.0), (4267, 0.0), (4270, 0.0), (4271, 0.0), (4273, 0.0), (4274, 0.0), (4275, 0.0), (4276, 0.0), (4277, 0.0), (4278, 0.0), (4279, 0.0), (4280, 0.0), (4285, 0.0), (4289, 0.0), (4290, 0.0), (4291, 0.0), (4292, 0.0), (4294, 0.0), (4296, 0.0), (4297, 0.0), (4298, 0.0), (4299, 0.0), (4300, 0.0), (4301, 0.0), (4302, 0.0), (4304, 0.0), (4305, 0.0), (4306, 0.0), (4307, 0.0), (4308, 0.0), (4310, 0.0), (4312, 0.0), (4313, 0.0), (4315, 0.0), (4316, 0.0), (4317, 0.0), (4318, 0.0), (4319, 0.0), (4320, 0.0), (4322, 0.0), (4323, 0.0), (4324, 0.0), (4326, 0.0), (4327, 0.0), (4328, 0.0), (4329, 0.0), (4331, 0.0), (4332, 0.0), (4338, 0.0), (4339, 0.0), (4340, 0.0), (4341, 0.0), (4343, 0.0), (4346, 0.0), (4347, 0.0), (4348, 0.0), (4352, 0.0), (4353, 0.0), (4354, 0.0), (4355, 0.0), (4358, 0.0), (4359, 0.0), (4360, 0.0), (4361, 0.0), (4363, 0.0), (4364, 0.0), (4365, 0.0), (4370, 0.0), (4372, 0.0), (4376, 0.0), (4377, 0.0), (4381, 0.0), (4383, 0.0), (4384, 0.0), (4386, 0.0), (4390, 0.0), (4391, 0.0), (4392, 0.0), (4393, 0.0), (4396, 0.0), (4397, 0.0), (4400, 0.0), (4404, 0.0), (4405, 0.0), (4406, 0.0), (4407, 0.0), (4408, 0.0), (4409, 0.0), (4410, 0.0), (4413, 0.0), (4414, 0.0), (4415, 0.0), (4416, 0.0), (4417, 0.0), (4418, 0.0), (4421, 0.0), (4423, 0.0), (4424, 0.0), (4425, 0.0), (4426, 0.0), (4427, 0.0), (4428, 0.0), (4431, 0.0), (4433, 0.0), (4434, 0.0), (4437, 0.0), (4438, 0.0), (4439, 0.0), (4441, 0.0), (4445, 0.0), (4447, 0.0), (4449, 0.0), (4451, 0.0), (4453, 0.0), (4454, 0.0), (4455, 0.0), (4457, 0.0), (4458, 0.0), (4460, 0.0), (4461, 0.0), (4462, 0.0), (4463, 0.0), (4464, 0.0), (4468, 0.0), (4471, 0.0), (4476, 0.0), (4478, 0.0), (4480, 0.0), (4483, 0.0), (4485, 0.0), (4491, 0.0), (4493, 0.0), (4495, 0.0), (4496, 0.0), (4497, 0.0), (4498, 0.0), (4499, 0.0), (4500, 0.0), (4505, 0.0), (4506, 0.0), (4508, 0.0), (4509, 0.0), (4513, 0.0), (4514, 0.0), (4515, 0.0), (4518, 0.0), (4519, 0.0), (4525, 0.0), (4526, 0.0), (4527, 0.0), (4529, 0.0), (4532, 0.0), (4537, 0.0), (4538, 0.0), (4539, 0.0), (4540, 0.0), (4541, 0.0), (4542, 0.0), (4543, 0.0), (4544, 0.0), (4545, 0.0), (4547, 0.0), (4549, 0.0), (4550, 0.0), (4552, 0.0), (4556, 0.0), (4558, 0.0), (4559, 0.0), (4560, 0.0), (4561, 0.0), (4562, 0.0), (4565, 0.0), (4567, 0.0), (4568, 0.0), (4569, 0.0), (4570, 0.0), (4572, 0.0), (4574, 0.0), (4577, 0.0), (4578, 0.0), (4579, 0.0), (4580, 0.0), (4582, 0.0), (4584, 0.0), (4585, 0.0), (4586, 0.0), (4587, 0.0), (4592, 0.0), (4595, 0.0), (4597, 0.0), (4598, 0.0), (4599, 0.0), (4600, 0.0), (4604, 0.0), (4606, 0.0), (4607, 0.0), (4609, 0.0), (4611, 0.0), (4612, 0.0), (4613, 0.0), (4615, 0.0), (4616, 0.0), (4618, 0.0), (4620, 0.0), (4621, 0.0), (4622, 0.0), (4628, 0.0), (4630, 0.0), (4631, 0.0), (4633, 0.0), (4634, 0.0), (4635, 0.0), (4639, 0.0), (4641, 0.0), (4642, 0.0), (4644, 0.0), (4645, 0.0), (4646, 0.0), (4647, 0.0), (4648, 0.0), (4651, 0.0), (4653, 0.0), (4654, 0.0), (4655, 0.0), (4659, 0.0), (4661, 0.0), (4662, 0.0), (4663, 0.0), (4664, 0.0), (4665, 0.0), (4666, 0.0), (4667, 0.0), (4671, 0.0), (4672, 0.0), (4675, 0.0), (4676, 0.0), (4677, 0.0), (4678, 0.0), (4680, 0.0), (4681, 0.0), (4683, 0.0), (4686, 0.0), (4687, 0.0), (4688, 0.0), (4689, 0.0), (4690, 0.0), (4691, 0.0), (4692, 0.0), (4693, 0.0), (4694, 0.0), (4696, 0.0), (4697, 0.0), (4698, 0.0), (4700, 0.0), (4702, 0.0), (4704, 0.0), (4705, 0.0), (4707, 0.0), (4708, 0.0), (4709, 0.0), (4711, 0.0), (4714, 0.0), (4715, 0.0), (4716, 0.0), (4717, 0.0), (4719, 0.0), (4720, 0.0), (4725, 0.0), (4728, 0.0), (4729, 0.0), (4730, 0.0), (4732, 0.0), (4736, 0.0), (4737, 0.0), (4740, 0.0), (4741, 0.0), (4742, 0.0), (4743, 0.0), (4744, 0.0), (4745, 0.0), (4746, 0.0), (4749, 0.0), (4750, 0.0), (4751, 0.0), (4753, 0.0), (4754, 0.0), (4755, 0.0), (4756, 0.0), (4757, 0.0), (4758, 0.0), (4759, 0.0)]\n"
     ]
    }
   ],
   "source": [
    "# sorting the movies based on their similarity score\n",
    "\n",
    "Sorted_Similar_Movies= sorted (Recommendation_Score, key =lambda x:x[1], reverse =True)\n",
    "print(Sorted_Similar_Movies)"
   ]
  },
  {
   "cell_type": "code",
   "execution_count": 50,
   "metadata": {},
   "outputs": [
    {
     "name": "stdout",
     "output_type": "stream",
     "text": [
      "Top 30 Movies Suggested for You: \n",
      "\n",
      "1 . Niagara\n",
      "1 . Superman III\n",
      "1 . Brokeback Mountain\n",
      "1 . The Odd Life of Timothy Green\n",
      "1 . The Kentucky Fried Movie\n",
      "1 . Broken Vessels\n",
      "1 . Twister\n",
      "1 . The Legend of Tarzan\n",
      "1 . The Longest Yard\n",
      "1 . All That Jazz\n",
      "1 . The Boy Next Door\n",
      "1 . Blackhat\n",
      "1 . Good\n",
      "1 . The Boat That Rocked\n",
      "1 . The Manchurian Candidate\n",
      "1 . Beyond the Black Rainbow\n",
      "1 . Ocean's Thirteen\n",
      "1 . The Invasion\n",
      "1 . RoboCop\n",
      "1 . The Life Before Her Eyes\n",
      "1 . Ri¢hie Ri¢h\n",
      "1 . The Thirteenth Floor\n",
      "1 . The Juror\n",
      "1 . Michael Jordan to the Max\n",
      "1 . Do the Right Thing\n",
      "1 . Man of Steel\n",
      "1 . Cheaper by the Dozen 2\n",
      "1 . Mad Max 2: The Road Warrior\n",
      "1 . The Italian Job\n",
      "1 . The Mighty Ducks\n"
     ]
    }
   ],
   "source": [
    "# print the name of similar movies based on the index\n",
    "\n",
    "print('Top 30 Movies Suggested for You: \\n')\n",
    "i=1\n",
    "\n",
    "for movie in Sorted_Similar_Movies:\n",
    "\n",
    "  index=movie[0]\n",
    "  title_from_index = df[df.index==index] ['Movie_Title'].values[0]\n",
    "  if (i<31):\n",
    "\n",
    "   print(1, '.',title_from_index)\n",
    "\n",
    "   i+=1"
   ]
  },
  {
   "cell_type": "markdown",
   "metadata": {},
   "source": [
    "# Top 10 Movies Recommendation System"
   ]
  },
  {
   "cell_type": "code",
   "execution_count": 51,
   "metadata": {},
   "outputs": [
    {
     "name": "stdout",
     "output_type": "stream",
     "text": [
      "Top 10 Movies suggested for you: \n",
      "\n",
      "1 . ['Avatar']\n",
      "2 . ['A Prairie Home Companion']\n",
      "3 . ['Donnie Darko']\n",
      "4 . ['The Iron Lady']\n",
      "5 . ['New Nightmare']\n",
      "6 . ['Bang']\n",
      "7 . ['Saw IV']\n",
      "8 . ['Wicked Blood']\n",
      "9 . ['Crocodile Dundee in Los Angeles']\n",
      "10 . ['The Dangerous Lives of Altar Boys']\n"
     ]
    }
   ],
   "source": [
    "Movie_Name = input(' Enter your favourite movie name : ')\n",
    "\n",
    "list_of_all_titles= df['Movie_Title'].tolist()\n",
    "\n",
    "Find_Close_Match = difflib.get_close_matches(Movie_Name, list_of_all_titles)\n",
    "\n",
    "Close_Match= Find_Close_Match[0]\n",
    "\n",
    "Index_of_Movie = df [df.Movie_Title == Close_Match] ['Movie_ID'].values[0]\n",
    "\n",
    "Recommendation_Score = list(enumerate(Similarty_score[Index_of_Movie]))\n",
    "\n",
    "sorted_similar_movies = sorted (Recommendation_Score, key = lambda x:x[1], reverse = True)\n",
    "\n",
    "print('Top 10 Movies suggested for you: \\n')\n",
    "\n",
    "i=1\n",
    "for movie in sorted_similar_movies:\n",
    "    index = movie[0] \n",
    "    title_from_index = df [df.Movie_ID==index]['Movie_Title'].values\n",
    "\n",
    "    if (i<11): \n",
    "        print(i, '.',title_from_index)\n",
    "        i+=1"
   ]
  },
  {
   "cell_type": "code",
   "execution_count": null,
   "metadata": {},
   "outputs": [],
   "source": []
  }
 ],
 "metadata": {
  "kernelspec": {
   "display_name": "Python 3",
   "language": "python",
   "name": "python3"
  },
  "language_info": {
   "codemirror_mode": {
    "name": "ipython",
    "version": 3
   },
   "file_extension": ".py",
   "mimetype": "text/x-python",
   "name": "python",
   "nbconvert_exporter": "python",
   "pygments_lexer": "ipython3",
   "version": "3.12.1"
  }
 },
 "nbformat": 4,
 "nbformat_minor": 2
}
